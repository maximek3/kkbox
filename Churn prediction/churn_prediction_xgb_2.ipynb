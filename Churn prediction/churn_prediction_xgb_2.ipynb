{
 "cells": [
  {
   "cell_type": "markdown",
   "metadata": {},
   "source": [
    "## 1. Import libraries"
   ]
  },
  {
   "cell_type": "code",
   "execution_count": 62,
   "metadata": {},
   "outputs": [],
   "source": [
    "import numpy as np\n",
    "import pandas as pd\n",
    "\n",
    "# machine learning library\n",
    "from sklearn import datasets\n",
    "from sklearn.model_selection import train_test_split\n",
    "from sklearn.metrics import mean_squared_error\n",
    "from sklearn.metrics import mean_absolute_error\n",
    "from sklearn.ensemble import RandomForestRegressor\n",
    "from sklearn.linear_model import LinearRegression\n",
    "from sklearn.linear_model import SGDRegressor\n",
    "from sklearn.preprocessing import PolynomialFeatures\n",
    "from sklearn.ensemble import AdaBoostRegressor\n",
    "from sklearn.ensemble import GradientBoostingRegressor\n",
    "from sklearn.metrics import log_loss\n",
    "\n",
    "#import XGBOOST Libraries\n",
    "import xgboost as xgb\n",
    "from sklearn.grid_search import GridSearchCV\n",
    "\n",
    "#Configure Panda\n",
    "pd.options.display.width = 200"
   ]
  },
  {
   "cell_type": "markdown",
   "metadata": {},
   "source": [
    "## 2. Loading and pre-processing data\n",
    "!!! ATTENTION: In order to load the following files you first need to completely run the latest versions of Feature_Engineering_Members.ipynb and Feature_Engineering_Transactions.ipynb. !!!\n",
    "### 2.1 Load the files"
   ]
  },
  {
   "cell_type": "code",
   "execution_count": 63,
   "metadata": {},
   "outputs": [],
   "source": [
    "#Load data in\n",
    "# From train.csv, we will extract the is_churn and use it as the y-label for training. \n",
    "train = pd.read_csv('data/train.csv')\n",
    "\n",
    "# From sample_submission_v2.csv, we will extract the msno's \n",
    "test = pd.read_csv('data/sample_submission_v2.csv')\n",
    "\n",
    "# This is the input for our model\n",
    "transactions = pd.read_csv('data/final_transactions.csv')\n",
    "final_members=pd.read_csv('data/final_members.csv')\n",
    "\n",
    "#user_logs = pd.read_csv('data/final_user_logs.csv')"
   ]
  },
  {
   "cell_type": "markdown",
   "metadata": {},
   "source": [
    "### 2.2 Merge the different files"
   ]
  },
  {
   "cell_type": "code",
   "execution_count": 64,
   "metadata": {},
   "outputs": [],
   "source": [
    "# Creating datasets witgh input&outputs\n",
    "train_data = pd.merge(train,final_members,on='msno',how='left')\n",
    "train_data = pd.merge(train_data,transactions,how='left',on='msno',left_index=True, right_index=True)\n",
    "\n",
    "#train_data_u_logs = pd.merge(train_data, user_logs, on='msno',left_index=True, right_index=True)\n",
    "\n",
    "# Creating datasets with only inputs\n",
    "# Note that the submission_v2.csv file does NOT contain ouputs (they are all 0)\n",
    "test_data = pd.merge(test,final_members,on='msno',how='left')\n",
    "test_data = pd.merge(test_data,transactions,how='left',on='msno',left_index=True, right_index=True)\n",
    "\n",
    "#test_data_u_logs = pd.merge(test_data, user_logs ,how='left',on='msno',left_index=True, right_index=True)\n",
    "\n",
    "#print(data.shape)"
   ]
  },
  {
   "cell_type": "markdown",
   "metadata": {},
   "source": [
    "### 2.4 Data cleaning"
   ]
  },
  {
   "cell_type": "code",
   "execution_count": 65,
   "metadata": {},
   "outputs": [
    {
     "name": "stdout",
     "output_type": "stream",
     "text": [
      "msno                                 0\n",
      "is_churn                             0\n",
      "bd                              115770\n",
      "city_1                          115770\n",
      "city_3                          115770\n",
      "city_4                          115770\n",
      "city_5                          115770\n",
      "city_6                          115770\n",
      "city_7                          115770\n",
      "city_8                          115770\n",
      "city_9                          115770\n",
      "city_10                         115770\n",
      "city_11                         115770\n",
      "city_12                         115770\n",
      "city_13                         115770\n",
      "city_14                         115770\n",
      "city_15                         115770\n",
      "city_16                         115770\n",
      "city_17                         115770\n",
      "city_18                         115770\n",
      "city_19                         115770\n",
      "city_20                         115770\n",
      "city_21                         115770\n",
      "city_22                         115770\n",
      "reg_year_2012                   115770\n",
      "reg_year_2013                   115770\n",
      "reg_year_2014                   115770\n",
      "reg_year_2015                   115770\n",
      "reg_year_2016                   115770\n",
      "reg_year_2017                   115770\n",
      "                                 ...  \n",
      "transaction_date_dtype               0\n",
      "membership_expire_date_dtype         0\n",
      "mem_duration                         0\n",
      "payment_method_id_30                 0\n",
      "payment_method_id_31                 0\n",
      "payment_method_id_32                 0\n",
      "payment_method_id_33                 0\n",
      "payment_method_id_34                 0\n",
      "payment_method_id_35                 0\n",
      "payment_method_id_36                 0\n",
      "payment_method_id_37                 0\n",
      "payment_method_id_38                 0\n",
      "payment_method_id_39                 0\n",
      "payment_method_id_40                 0\n",
      "payment_method_id_41                 0\n",
      "pay_method_churn                     0\n",
      "payment_plan_days_7                  0\n",
      "payment_plan_days_30                 0\n",
      "payment_plan_days_90                 0\n",
      "payment_plan_days_180                0\n",
      "payment_plan_days_195                0\n",
      "payment_plan_days_410                0\n",
      "plan_list_price_99                   0\n",
      "plan_list_price_129                  0\n",
      "plan_list_price_149                  0\n",
      "plan_list_price_180                  0\n",
      "plan_list_price_1260                 0\n",
      "plan_list_price_1299                 0\n",
      "plan_list_price_1300                 0\n",
      "plan_list_price_1399                 0\n",
      "Length: 72, dtype: int64\n"
     ]
    }
   ],
   "source": [
    "#check for null values\n",
    "print(train_data.isnull().sum())\n",
    "#print(train_data_u_logs.isnull().sum())"
   ]
  },
  {
   "cell_type": "code",
   "execution_count": 66,
   "metadata": {},
   "outputs": [
    {
     "name": "stdout",
     "output_type": "stream",
     "text": [
      "msno                            0\n",
      "is_churn                        0\n",
      "bd                              0\n",
      "city_1                          0\n",
      "city_3                          0\n",
      "city_4                          0\n",
      "city_5                          0\n",
      "city_6                          0\n",
      "city_7                          0\n",
      "city_8                          0\n",
      "city_9                          0\n",
      "city_10                         0\n",
      "city_11                         0\n",
      "city_12                         0\n",
      "city_13                         0\n",
      "city_14                         0\n",
      "city_15                         0\n",
      "city_16                         0\n",
      "city_17                         0\n",
      "city_18                         0\n",
      "city_19                         0\n",
      "city_20                         0\n",
      "city_21                         0\n",
      "city_22                         0\n",
      "reg_year_2012                   0\n",
      "reg_year_2013                   0\n",
      "reg_year_2014                   0\n",
      "reg_year_2015                   0\n",
      "reg_year_2016                   0\n",
      "reg_year_2017                   0\n",
      "                               ..\n",
      "transaction_date_dtype          0\n",
      "membership_expire_date_dtype    0\n",
      "mem_duration                    0\n",
      "payment_method_id_30            0\n",
      "payment_method_id_31            0\n",
      "payment_method_id_32            0\n",
      "payment_method_id_33            0\n",
      "payment_method_id_34            0\n",
      "payment_method_id_35            0\n",
      "payment_method_id_36            0\n",
      "payment_method_id_37            0\n",
      "payment_method_id_38            0\n",
      "payment_method_id_39            0\n",
      "payment_method_id_40            0\n",
      "payment_method_id_41            0\n",
      "pay_method_churn                0\n",
      "payment_plan_days_7             0\n",
      "payment_plan_days_30            0\n",
      "payment_plan_days_90            0\n",
      "payment_plan_days_180           0\n",
      "payment_plan_days_195           0\n",
      "payment_plan_days_410           0\n",
      "plan_list_price_99              0\n",
      "plan_list_price_129             0\n",
      "plan_list_price_149             0\n",
      "plan_list_price_180             0\n",
      "plan_list_price_1260            0\n",
      "plan_list_price_1299            0\n",
      "plan_list_price_1300            0\n",
      "plan_list_price_1399            0\n",
      "Length: 72, dtype: int64\n",
      "msno                            0\n",
      "is_churn                        0\n",
      "bd                              0\n",
      "city_1                          0\n",
      "city_3                          0\n",
      "city_4                          0\n",
      "city_5                          0\n",
      "city_6                          0\n",
      "city_7                          0\n",
      "city_8                          0\n",
      "city_9                          0\n",
      "city_10                         0\n",
      "city_11                         0\n",
      "city_12                         0\n",
      "city_13                         0\n",
      "city_14                         0\n",
      "city_15                         0\n",
      "city_16                         0\n",
      "city_17                         0\n",
      "city_18                         0\n",
      "city_19                         0\n",
      "city_20                         0\n",
      "city_21                         0\n",
      "city_22                         0\n",
      "reg_year_2012                   0\n",
      "reg_year_2013                   0\n",
      "reg_year_2014                   0\n",
      "reg_year_2015                   0\n",
      "reg_year_2016                   0\n",
      "reg_year_2017                   0\n",
      "                               ..\n",
      "transaction_date_dtype          0\n",
      "membership_expire_date_dtype    0\n",
      "mem_duration                    0\n",
      "payment_method_id_30            0\n",
      "payment_method_id_31            0\n",
      "payment_method_id_32            0\n",
      "payment_method_id_33            0\n",
      "payment_method_id_34            0\n",
      "payment_method_id_35            0\n",
      "payment_method_id_36            0\n",
      "payment_method_id_37            0\n",
      "payment_method_id_38            0\n",
      "payment_method_id_39            0\n",
      "payment_method_id_40            0\n",
      "payment_method_id_41            0\n",
      "pay_method_churn                0\n",
      "payment_plan_days_7             0\n",
      "payment_plan_days_30            0\n",
      "payment_plan_days_90            0\n",
      "payment_plan_days_180           0\n",
      "payment_plan_days_195           0\n",
      "payment_plan_days_410           0\n",
      "plan_list_price_99              0\n",
      "plan_list_price_129             0\n",
      "plan_list_price_149             0\n",
      "plan_list_price_180             0\n",
      "plan_list_price_1260            0\n",
      "plan_list_price_1299            0\n",
      "plan_list_price_1300            0\n",
      "plan_list_price_1399            0\n",
      "Length: 72, dtype: int64\n"
     ]
    }
   ],
   "source": [
    "#Get rid of null-values\n",
    "\n",
    "#For train data\n",
    "#Set city null values to o in train data\n",
    "cities = ['city_1','city_3','city_4','city_5','city_6','city_7','city_8','city_9','city_10','city_11','city_12','city_13','city_14','city_15','city_16','city_17','city_18','city_19','city_20','city_21','city_22']\n",
    "for i in range(0,len(cities)):\n",
    "        inpt = cities[i]\n",
    "        train_data[inpt]=train_data[inpt].fillna(value=0)\n",
    "        test_data[inpt]=test_data[inpt].fillna(value=0)\n",
    "        \n",
    "reg_dates=['reg_year_2012','reg_year_2013','reg_year_2014','reg_year_2015','reg_year_2016','reg_year_2017']        \n",
    "for i in range(0,len(reg_dates)):\n",
    "        inpt = reg_dates[i]\n",
    "        train_data[inpt]=train_data[inpt].fillna(value=0)\n",
    "        test_data[inpt]=test_data[inpt].fillna(value=0)\n",
    "\n",
    "reg_meth=['reg_3','reg_4','reg_7','reg_9','reg_11']\n",
    "for i in range(0,len(reg_meth)):\n",
    "        inpt = reg_meth[i]\n",
    "        train_data[inpt]=train_data[inpt].fillna(value=0)\n",
    "        test_data[inpt]=test_data[inpt].fillna(value=0)     \n",
    "        \n",
    "train_data['bd_norm']=train_data['bd_norm'].fillna(value=0)\n",
    "test_data['bd_norm']=test_data['bd_norm'].fillna(value=0)     \n",
    "\n",
    "train_data['bd']=train_data['bd'].fillna(value=0)\n",
    "test_data['bd']=test_data['bd'].fillna(value=0)\n",
    "\n",
    "#check for null values\n",
    "print(train_data.isnull().sum())\n",
    "print(test_data.isnull().sum())"
   ]
  },
  {
   "cell_type": "code",
   "execution_count": null,
   "metadata": {},
   "outputs": [],
   "source": [
    "# Data cleaning with user_logs added\n",
    "user_logs_array = ['num_100', 'entries', 'num25_ratio', 'num50_ratio', 'num75_ratio', 'num985_ratio']\n",
    "#for i in range(0,len(user_logs_array)):\n",
    " #       inpt = user_logs_array[i]\n",
    "  #      train_data[inpt]=train_data[inpt].fillna(value=0)\n",
    "   #     test_data[inpt]=test_data[inpt].fillna(value=0)"
   ]
  },
  {
   "cell_type": "code",
   "execution_count": 67,
   "metadata": {},
   "outputs": [
    {
     "name": "stdout",
     "output_type": "stream",
     "text": [
      "(992931, 68)\n",
      "(992931,)\n",
      "(907471, 68)\n"
     ]
    }
   ],
   "source": [
    "#Drop unwanted columns (this may change with new insights or new code!)\n",
    "unwanted = ['msno','transaction_date_dtype','membership_expire_date_dtype']\n",
    "\n",
    "#Before dropping the msno of test, we need to save it for the sumission\n",
    "msno=test_data.msno\n",
    "\n",
    "data_input = train_data.drop(unwanted, axis=1)\n",
    "data_input = data_input.drop('is_churn',axis=1)\n",
    "\n",
    "data_output = train_data['is_churn']\n",
    "\n",
    "prediction_input = test_data.drop(unwanted, axis=1)\n",
    "prediction_input = prediction_input.drop(['is_churn'], axis=1)\n",
    "\n",
    "print(data_input.shape)\n",
    "print(data_output.shape)\n",
    "print(prediction_input.shape)"
   ]
  },
  {
   "cell_type": "markdown",
   "metadata": {},
   "source": [
    "### user_logs\n",
    "train_data_u_logs = train_data_logs.dropna()\n",
    "train_data_reduced = train_data_u_logs.drop(columns=['num_100', 'entries', 'num25_ratio', 'num50_ratio', 'num75_ratio', 'num985_ratio'],axis=1)\n",
    "print(train_data_logs.shape)\n",
    "print(train_data_reduced.shape)\n",
    "\n",
    "train_data_u_logs = train_data_u_logs.drop(unwanted, axis=1)\n",
    "train_data_reduced = train_data_reduced.drop(unwanted, axis=1)"
   ]
  },
  {
   "cell_type": "code",
   "execution_count": 68,
   "metadata": {},
   "outputs": [],
   "source": [
    "# Splitting input/output data into train and test sets in order to check efficiency of our models\n",
    "\n",
    "x_train, x_test, y_train, y_test = train_test_split(data_input, data_output, test_size=0.2, random_state=42)\n",
    "\n"
   ]
  },
  {
   "cell_type": "code",
   "execution_count": null,
   "metadata": {},
   "outputs": [],
   "source": [
    "# for user_logs data\n",
    "#data_input_ul = train_data_logs.drop('is_churn',axis=1)\n",
    "#data_output_ul = train_data_logs['is_churn']\n",
    "#print(data_input_ul.shape)\n",
    "#print(data_output_ul.shape)\n",
    "#x_train_ul, x_test_ul, y_train_ul, y_test_ul = train_test_split(data_input_ul, data_output_ul, test_size=0.2, random_state=42)\n",
    "\n",
    "# for user_logs data\n",
    "#data_input_r = train_data_reduced.drop('is_churn',axis=1)\n",
    "#data_output_r = train_data_reduced['is_churn']\n",
    "#print(data_input_r.shape)\n",
    "#print(data_output_r.shape)\n",
    "#x_train_r, x_test_r, y_train_r, y_test_r = train_test_split(data_input_r, data_output_r, test_size=0.2, random_state=42)"
   ]
  },
  {
   "cell_type": "markdown",
   "metadata": {},
   "source": [
    "## 3. Algorithms"
   ]
  },
  {
   "cell_type": "markdown",
   "metadata": {},
   "source": [
    "### 3.1 Random Forest"
   ]
  },
  {
   "cell_type": "code",
   "execution_count": 79,
   "metadata": {},
   "outputs": [
    {
     "name": "stdout",
     "output_type": "stream",
     "text": [
      "Model fitted!\n",
      "Prediction done!\n",
      "Logloss for Random Forrest is: 0.86914\n"
     ]
    }
   ],
   "source": [
    "# Random Forrest: fitting and testing the model\n",
    "model = RandomForestRegressor()\n",
    "model_rfr = model.fit(x_train, y_train)\n",
    "print('Model fitted!')\n",
    "y_pred_f = model.predict(x_test)\n",
    "print('Prediction done!')\n",
    "print(\"Logloss for Random Forrest is: %.5f\"%log_loss(y_test,y_pred_f))"
   ]
  },
  {
   "cell_type": "markdown",
   "metadata": {},
   "source": [
    "### user_logs included\n",
    "model = RandomForestRegressor()\n",
    "model.fit(x_train_ul, y_train_ul)\n",
    "print('Model fitted!')\n",
    "y_pred_f = model.predict(x_test_ul)\n",
    "print('Prediction done!')\n",
    "print(\"Logloss for Random Forrest, incl. user_logs, is: %.2f\"%log_loss(y_test_ul,y_pred_f))"
   ]
  },
  {
   "cell_type": "code",
   "execution_count": null,
   "metadata": {},
   "outputs": [],
   "source": [
    "# Creating a prediction for april with the prediction model:\n",
    "\n",
    "#y_pred_f_s = model.predict(prediction_input)"
   ]
  },
  {
   "cell_type": "markdown",
   "metadata": {},
   "source": [
    "### 3. Linear Regression"
   ]
  },
  {
   "cell_type": "code",
   "execution_count": 80,
   "metadata": {},
   "outputs": [
    {
     "name": "stdout",
     "output_type": "stream",
     "text": [
      "Model fitted!\n",
      "Prediction done!\n",
      "Logloss for Linear Regression is: 0.22353\n"
     ]
    }
   ],
   "source": [
    "# Linear Regression\n",
    "model = LinearRegression()\n",
    "model_lr = model.fit(x_train, y_train)\n",
    "print('Model fitted!')\n",
    "# Make predicitons for test data\n",
    "y_pred_l = model.predict(x_test)\n",
    "y_pred_l = np.absolute(y_pred_l)\n",
    "print('Prediction done!')\n",
    "print(\"Logloss for Linear Regression is: %.5f\"%log_loss(y_test,y_pred_l))"
   ]
  },
  {
   "cell_type": "markdown",
   "metadata": {},
   "source": [
    "### user_logs included\n",
    "model = LinearRegression()\n",
    "model.fit(x_train_ul, y_train_ul)\n",
    "print('Model fitted!')\n",
    "y_pred_f = model.predict(x_test_ul)\n",
    "print('Prediction done!')\n",
    "print(\"Logloss for Random Forrest, incl. user_logs, is: %.2f\"%log_loss(y_test_ul,y_pred_f))"
   ]
  },
  {
   "cell_type": "code",
   "execution_count": null,
   "metadata": {},
   "outputs": [],
   "source": [
    "# Creating a prediction for april with the prediction model:\n",
    "\n",
    "#y_pred_l_s = model.predict(prediction_input)"
   ]
  },
  {
   "cell_type": "markdown",
   "metadata": {},
   "source": [
    "### AdaBoost()"
   ]
  },
  {
   "cell_type": "code",
   "execution_count": 81,
   "metadata": {},
   "outputs": [
    {
     "name": "stdout",
     "output_type": "stream",
     "text": [
      "Logloss for AdaBoost is: 0.22078\n"
     ]
    }
   ],
   "source": [
    "# Run AdaBoost\n",
    "model_abr = AdaBoostRegressor()\n",
    "model_ada = model_abr.fit(x_train, y_train)\n",
    "y_pred_abr = model_abr.predict(x_test)\n",
    "print(\"Logloss for AdaBoost is: %.5f\"%log_loss(y_test,y_pred_abr))"
   ]
  },
  {
   "cell_type": "markdown",
   "metadata": {},
   "source": [
    "### user_logs included\n",
    "model_abr = AdaBoostRegressor()\n",
    "model_ada_ul = model_abr.fit(x_train_ul, y_train_ul)\n",
    "y_pred_abr = model_abr.predict(x_test_ul)\n",
    "print(\"Logloss for AdaBoost is: %.5f\"%log_loss(y_test_ul,y_pred_abr))"
   ]
  },
  {
   "cell_type": "code",
   "execution_count": null,
   "metadata": {},
   "outputs": [],
   "source": [
    "# Creating a prediction for april with the prediction model:\n",
    "\n",
    "#y_pred_abr_s = model.predict(prediction_input)"
   ]
  },
  {
   "cell_type": "markdown",
   "metadata": {},
   "source": [
    "### 3 XGBoost"
   ]
  },
  {
   "cell_type": "code",
   "execution_count": 69,
   "metadata": {},
   "outputs": [
    {
     "name": "stdout",
     "output_type": "stream",
     "text": [
      "Done.\n"
     ]
    }
   ],
   "source": [
    "# Splitting training data into test and train \n",
    "x_train, x_test, y_train, y_test = train_test_split(data_input, data_output, test_size=0.20, random_state=42)\n",
    "\n",
    "# Creating DMatrix for xgboost\n",
    "dtrain = xgb.DMatrix(x_train, label = y_train)\n",
    "dtest = xgb.DMatrix(x_test, label = y_test)\n",
    "print('Done.')"
   ]
  },
  {
   "cell_type": "code",
   "execution_count": 70,
   "metadata": {},
   "outputs": [
    {
     "name": "stdout",
     "output_type": "stream",
     "text": [
      "Modeling done!\n",
      "Prediction done!\n",
      "Logloss for XGBoost is: 0.21801\n"
     ]
    }
   ],
   "source": [
    "#XG Boost\n",
    "# Prepare parameters for xgboost\n",
    "\n",
    "def run_xgb():\n",
    "    param = {\n",
    "        'max_depth': 4,  # the maximum depth of each tree. Try with max_depth: 2 to 10.\n",
    "        'eta': 0.3,  # the training step for each iteration. Try with ETA: 0.1, 0.2, 0.3...\n",
    "        'silent': 1,  # logging mode - quiet\n",
    "        'objective': 'multi:softprob',  # error evaluation for multiclass training\n",
    "        'num_class': 3}  # the number of classes that exist in this datset\n",
    "    num_round = 20  # the number of training iterations. Try with num_round around few hundred!\n",
    "    #----------------\n",
    "    bst = xgb.train(param, dtrain, num_round)\n",
    "    print('Modeling done!')\n",
    "\n",
    "    y_pred_xgb = bst.predict(dtest)\n",
    "    print('Prediction done!')\n",
    "\n",
    "    best_preds = np.asarray([np.argmax(line) for line in y_pred_xgb])\n",
    "\n",
    "    y_pred_xgb = y_pred_xgb[:,1] #Column 2 out of 3\n",
    "\n",
    "    print(\"Logloss for XGBoost is: %.5f\"%log_loss(y_test,y_pred_xgb))\n",
    "    \n",
    "    #Return the booster object to use it later\n",
    "    return bst\n",
    "    \n",
    "bst = run_xgb()"
   ]
  },
  {
   "cell_type": "code",
   "execution_count": 71,
   "metadata": {
    "scrolled": true
   },
   "outputs": [
    {
     "data": {
      "text/plain": [
       "<matplotlib.axes._subplots.AxesSubplot at 0x1a75612278>"
      ]
     },
     "execution_count": 71,
     "metadata": {},
     "output_type": "execute_result"
    },
    {
     "data": {
      "image/png": "[encoded data removed]",
      "text/plain": [
       "<matplotlib.figure.Figure at 0x1a62319080>"
      ]
     },
     "metadata": {},
     "output_type": "display_data"
    }
   ],
   "source": [
    "xgb.plot_importance(bst, max_num_features = 15)"
   ]
  },
  {
   "cell_type": "code",
   "execution_count": 72,
   "metadata": {},
   "outputs": [
    {
     "name": "stdout",
     "output_type": "stream",
     "text": [
      "{'reg_7': 42, 'bd_norm': 70, 'reg_year_2016': 30, 'reg_year_2015': 50, 'city_1': 98, 'bd': 32, 'reg_year_2017': 50, 'reg_year_2013': 32, 'actual_amount_paid': 9, 'payment_method_id': 18, 'reg_3': 17, 'is_auto_renew': 3, 'reg_4': 15, 'city_19': 1, 'membership_expire_date': 23, 'city_11': 4, 'reg_9': 24, 'city_6': 1, 'city_8': 3, 'reg_year_2014': 11, 'transaction_date': 16, 'city_13': 7, 'payment_method_id_38': 6, 'city_5': 6, 'payment_method_id_40': 4, 'mem_duration': 14, 'city_3': 1, 'city_12': 8, 'plan_list_price_129': 2, 'city_4': 4, 'payment_method_id_31': 2, 'reg_year_2012': 1}\n"
     ]
    }
   ],
   "source": [
    "#Get the weights of the different features used to predict the model.\n",
    "scores_w = bst.get_score(fmap='', importance_type='weight')\n",
    "\n",
    "print(scores_w)"
   ]
  },
  {
   "cell_type": "code",
   "execution_count": 73,
   "metadata": {},
   "outputs": [
    {
     "name": "stdout",
     "output_type": "stream",
     "text": [
      "['city_7', 'city_9', 'city_10', 'city_14', 'city_15', 'city_16', 'city_17', 'city_18', 'city_20', 'city_21', 'city_22', 'reg_11', 'is_cancel', 'payment_method_id_30', 'payment_method_id_32', 'payment_method_id_33', 'payment_method_id_34', 'payment_method_id_35', 'payment_method_id_36', 'payment_method_id_37', 'payment_method_id_39', 'payment_method_id_41', 'pay_method_churn', 'payment_plan_days_7', 'payment_plan_days_30', 'payment_plan_days_90', 'payment_plan_days_180', 'payment_plan_days_195', 'payment_plan_days_410', 'plan_list_price_99', 'plan_list_price_149', 'plan_list_price_180', 'plan_list_price_1260', 'plan_list_price_1299', 'plan_list_price_1300', 'plan_list_price_1399']\n"
     ]
    }
   ],
   "source": [
    "# Checking which features xgboost does not use, drop them from the training-set and run the algorithm again. \n",
    "unwanted_2 = []\n",
    "for f in dtrain.feature_names:\n",
    "    if f not in scores_w:\n",
    "        unwanted_2.append(f)\n",
    "print(unwanted_2)"
   ]
  },
  {
   "cell_type": "code",
   "execution_count": 74,
   "metadata": {},
   "outputs": [
    {
     "name": "stdout",
     "output_type": "stream",
     "text": [
      "Done.\n",
      "Modeling done!\n",
      "Prediction done!\n",
      "Logloss for XGBoost is: 0.21801\n"
     ]
    },
    {
     "data": {
      "text/plain": [
       "<xgboost.core.Booster at 0x1a13cfed30>"
      ]
     },
     "execution_count": 74,
     "metadata": {},
     "output_type": "execute_result"
    }
   ],
   "source": [
    "# Removing features note used in xgboost and rerun model\n",
    "data_input.drop(unwanted_2, axis=1)\n",
    "\n",
    "# Splitting training data into test and train \n",
    "x_train, x_test, y_train, y_test = train_test_split(data_input, data_output, test_size=0.20, random_state=42)\n",
    "\n",
    "# Creating DMatrix for xgboost\n",
    "dtrain = xgb.DMatrix(x_train, label = y_train)\n",
    "dtest = xgb.DMatrix(x_test, label = y_test)\n",
    "print('Done.')\n",
    "\n",
    "run_xgb()"
   ]
  },
  {
   "cell_type": "code",
   "execution_count": 87,
   "metadata": {},
   "outputs": [
    {
     "name": "stdout",
     "output_type": "stream",
     "text": [
      "[0.01570694 0.05391357 0.04113148 ... 0.02670189 0.0263796  0.04038385]\n"
     ]
    }
   ],
   "source": [
    "#After model is built, we make prediction for churning in april, using msno from sample_submission_v2\n",
    "s_test = xgb.DMatrix(prediction_input)\n",
    "s_predict = bst.predict(s_test)\n",
    "best_preds = np.asarray([np.argmax(line) for line in s_predict])\n",
    "\n",
    "s_predict = s_predict[:,1] #Column 2 out of 3\n",
    "print(s_predict)"
   ]
  },
  {
   "cell_type": "markdown",
   "metadata": {},
   "source": [
    "###4. Creating submission file"
   ]
  },
  {
   "cell_type": "code",
   "execution_count": 88,
   "metadata": {},
   "outputs": [
    {
     "name": "stdout",
     "output_type": "stream",
     "text": [
      "   is_churn                                          msno\n",
      "0  0.015707  4n+fXlyJvfQnTeKXTWT507Ll4JVYGrOC8LHCfwBmPE4=\n",
      "1  0.053914  aNmbC1GvFUxQyQUidCVmfbQ0YeCuwkPzEdQ0RwWyeZM=\n",
      "2  0.041131  rFC9eSG/tMuzpre6cwcMLZHEYM89xY02qcz7HL4//jc=\n",
      "3  0.049197  WZ59dLyrQcE7ft06MZ5dj40BnlYQY7PHgg/54+HaCSE=\n",
      "4  0.155078  aky/Iv8hMp1/V/yQHLtaVuEmmAxkB5GuasQZePJ7NU4=\n",
      "                                           msno  is_churn\n",
      "0  4n+fXlyJvfQnTeKXTWT507Ll4JVYGrOC8LHCfwBmPE4=  0.015707\n",
      "1  aNmbC1GvFUxQyQUidCVmfbQ0YeCuwkPzEdQ0RwWyeZM=  0.053914\n",
      "2  rFC9eSG/tMuzpre6cwcMLZHEYM89xY02qcz7HL4//jc=  0.041131\n",
      "3  WZ59dLyrQcE7ft06MZ5dj40BnlYQY7PHgg/54+HaCSE=  0.049197\n",
      "4  aky/Iv8hMp1/V/yQHLtaVuEmmAxkB5GuasQZePJ7NU4=  0.155078\n",
      "msno        907471\n",
      "is_churn    907471\n",
      "dtype: int64\n",
      "Done! :-)\n"
     ]
    }
   ],
   "source": [
    "#Prepare submission file\n",
    "my_submission = pd.DataFrame({'msno': msno, 'is_churn': s_predict})\n",
    "#think about changing y_pred_1 if you want to use a diffrenet algorithm\n",
    "#y_pred_1 was one of the reasons for the previous bug\n",
    "print(my_submission.head())\n",
    "cols = my_submission.columns.tolist()\n",
    "cols = cols[-1:] + cols[:-1]\n",
    "my_submission = my_submission[cols]\n",
    "print(my_submission.head())\n",
    "print(my_submission.count())\n",
    "\n",
    "my_submission.to_csv('submission.csv', index=False)\n",
    "print('Done! :-)')"
   ]
  },
  {
   "cell_type": "markdown",
   "metadata": {},
   "source": [
    "### 4. Cross validation"
   ]
  },
  {
   "cell_type": "code",
   "execution_count": 78,
   "metadata": {},
   "outputs": [],
   "source": [
    "#Impoirt libraries for cross validation\n",
    "import xgboost as xgb\n",
    "\n",
    "from sklearn.linear_model import LinearRegression\n",
    "from sklearn.pipeline import make_pipeline\n",
    "from sklearn.preprocessing import Imputer\n",
    "from sklearn.model_selection import cross_val_score"
   ]
  },
  {
   "cell_type": "code",
   "execution_count": null,
   "metadata": {},
   "outputs": [],
   "source": [
    "###Cross Validation RandomForestRegressor"
   ]
  },
  {
   "cell_type": "code",
   "execution_count": 89,
   "metadata": {},
   "outputs": [
    {
     "name": "stdout",
     "output_type": "stream",
     "text": [
      "Pipeline created.\n",
      "[-0.31961307 -0.07932942 -0.07982218 -0.07896123 -0.07959146]\n",
      "Mean Absolute Error 0.127463\n"
     ]
    }
   ],
   "source": [
    "#Create the pipeline\n",
    "my_pipeline = make_pipeline(Imputer(), model_rfr)\n",
    "print('Pipeline created.')\n",
    "#Get cross validation scores\n",
    "scores = cross_val_score(my_pipeline, data_input, data_output, scoring='neg_mean_absolute_error', cv=5)\n",
    "print(scores)\n",
    "\n",
    "#Single measure of model quality\n",
    "print('Mean Absolute Error %5f' %(-1 * scores.mean()))"
   ]
  },
  {
   "cell_type": "code",
   "execution_count": null,
   "metadata": {},
   "outputs": [],
   "source": [
    "###Cross validation LinearRegression"
   ]
  },
  {
   "cell_type": "code",
   "execution_count": 90,
   "metadata": {},
   "outputs": [
    {
     "name": "stdout",
     "output_type": "stream",
     "text": [
      "[-0.31961307 -0.07731301 -0.07744156 -0.07714977 -0.07727828]\n",
      "Mean Absolute Error 0.125759\n"
     ]
    }
   ],
   "source": [
    "#Create the pipeline\n",
    "my_pipeline = make_pipeline(Imputer(), model_lr)\n",
    "\n",
    "#Get cross validation scores\n",
    "scores = cross_val_score(my_pipeline, data_input, data_output, scoring='neg_mean_absolute_error', cv=5)\n",
    "print(scores)\n",
    "\n",
    "#Single measure of model quality\n",
    "print('Mean Absolute Error %5f' %(-1 * scores.mean()))"
   ]
  },
  {
   "cell_type": "code",
   "execution_count": null,
   "metadata": {},
   "outputs": [],
   "source": [
    "###Cross Validation AdaBoost"
   ]
  },
  {
   "cell_type": "code",
   "execution_count": 91,
   "metadata": {},
   "outputs": [
    {
     "name": "stdout",
     "output_type": "stream",
     "text": [
      "[-0.31961307 -0.07612732 -0.07607118 -0.07570381 -0.07635066]\n",
      "Mean Absolute Error 0.124773\n"
     ]
    }
   ],
   "source": [
    "#Create the pipeline\n",
    "my_pipeline = make_pipeline(Imputer(), model_ada)\n",
    "\n",
    "#Get cross validation scores\n",
    "scores = cross_val_score(my_pipeline, data_input, data_output, scoring='neg_mean_absolute_error', cv=5)\n",
    "print(scores)\n",
    "\n",
    "#Single measure of model quality\n",
    "print('Mean Absolute Error %5f' %(-1 * scores.mean()))"
   ]
  },
  {
   "cell_type": "code",
   "execution_count": null,
   "metadata": {},
   "outputs": [],
   "source": []
  },
  {
   "cell_type": "markdown",
   "metadata": {},
   "source": [
    "### Cross Validation with XGBoost (really slow, 30 - 45 minutes)"
   ]
  },
  {
   "cell_type": "code",
   "execution_count": null,
   "metadata": {},
   "outputs": [],
   "source": [
    "\n",
    "#Create the pipeline\n",
    "my_pipeline = make_pipeline(Imputer(), xgb.XGBClassifier())\n",
    "print('Pipeline created.')\n",
    "#Get cross validation scores\n",
    "scores = cross_val_score(my_pipeline, data_input, data_output, scoring='neg_log_loss', cv=3)\n",
    "print(scores)\n",
    "\n",
    "#Single measure of model quality\n",
    "print('Log Loss %5f' %(-1 * scores.mean()))\n"
   ]
  }
 ],
 "metadata": {
  "kernelspec": {
   "display_name": "Python 3",
   "language": "python",
   "name": "python3"
  },
  "language_info": {
   "codemirror_mode": {
    "name": "ipython",
    "version": 3
   },
   "file_extension": ".py",
   "mimetype": "text/x-python",
   "name": "python",
   "nbconvert_exporter": "python",
   "pygments_lexer": "ipython3",
   "version": "3.6.4"
  }
 },
 "nbformat": 4,
 "nbformat_minor": 2
}
