{
 "cells": [
  {
   "cell_type": "markdown",
   "metadata": {},
   "source": [
    "## 1. Import libraries"
   ]
  },
  {
   "cell_type": "code",
   "execution_count": 77,
   "metadata": {},
   "outputs": [],
   "source": [
    "import numpy as np\n",
    "import pandas as pd\n",
    "import time\n",
    "\n",
    "# machine learning library\n",
    "from sklearn import datasets\n",
    "from sklearn.model_selection import train_test_split\n",
    "from sklearn.metrics import mean_squared_error\n",
    "from sklearn.metrics import mean_absolute_error\n",
    "from sklearn.ensemble import RandomForestRegressor\n",
    "from sklearn.linear_model import LinearRegression\n",
    "from sklearn.linear_model import LogisticRegression\n",
    "from sklearn.linear_model import SGDRegressor\n",
    "from sklearn.preprocessing import PolynomialFeatures\n",
    "from sklearn.ensemble import AdaBoostRegressor\n",
    "from sklearn.ensemble import GradientBoostingRegressor\n",
    "from sklearn.metrics import log_loss\n",
    "from sklearn.neural_network import MLPClassifier\n",
    "from sklearn.preprocessing import MinMaxScaler\n",
    "\n",
    "\n",
    "#import XGBOOST Libraries\n",
    "import xgboost as xgb\n",
    "from sklearn.grid_search import GridSearchCV\n",
    "\n",
    "# plots\n",
    "from IPython.display import set_matplotlib_formats\n",
    "set_matplotlib_formats('png2x','pdf')\n",
    "import matplotlib.pyplot as plt\n",
    "\n",
    "#Configure Panda\n",
    "pd.options.display.width = 200"
   ]
  },
  {
   "cell_type": "markdown",
   "metadata": {},
   "source": [
    "## 2. Loading and processing data\n",
    "### 2.1 Load the files"
   ]
  },
  {
   "cell_type": "code",
   "execution_count": 2,
   "metadata": {},
   "outputs": [
    {
     "name": "stdout",
     "output_type": "stream",
     "text": [
      "data loaded!\n"
     ]
    }
   ],
   "source": [
    "# This is the input for our model\n",
    "\n",
    "transactions_feb = pd.read_csv('data/transactions_feb.csv')\n",
    "transactions_mar = pd.read_csv('data/transactions_mar_train_v2.csv')\n",
    "transactions_apr = pd.read_csv('data/transactions_apr.csv')\n",
    "members_feb = pd.read_csv('data/members_train1.csv')\n",
    "members_mar = pd.read_csv('data/members_train2.csv')\n",
    "members_apr = pd.read_csv('data/members_total.csv')\n",
    "user_logs_feb = pd.read_csv('data/user_logs_feb.csv')\n",
    "user_logs_mar = pd.read_csv('data/user_logs_mar.csv')\n",
    "user_logs_apr = pd.read_csv('data/user_logs_apr.csv')\n",
    "\n",
    "print('data loaded!')"
   ]
  },
  {
   "cell_type": "markdown",
   "metadata": {},
   "source": [
    "##### Veryfying shape consistency before merging"
   ]
  },
  {
   "cell_type": "code",
   "execution_count": 4,
   "metadata": {},
   "outputs": [
    {
     "name": "stdout",
     "output_type": "stream",
     "text": [
      "(992931, 21)\n",
      "(970960, 21)\n",
      "(907471, 21)\n",
      "(992931, 35)\n",
      "(970960, 35)\n",
      "(907471, 35)\n",
      "(992931, 28)\n",
      "(970960, 28)\n",
      "(907471, 28)\n"
     ]
    }
   ],
   "source": [
    "print(user_logs_feb.shape)\n",
    "print(user_logs_mar.shape)\n",
    "print(user_logs_apr.shape)\n",
    "print(members_feb.shape)\n",
    "print(members_mar.shape)\n",
    "print(members_apr.shape)\n",
    "print(transactions_feb.shape)\n",
    "print(transactions_mar.shape)\n",
    "print(transactions_apr.shape)\n"
   ]
  },
  {
   "cell_type": "markdown",
   "metadata": {},
   "source": [
    "##### Testing Zone: Creating copies for future feature manipulation"
   ]
  },
  {
   "cell_type": "code",
   "execution_count": 5,
   "metadata": {},
   "outputs": [],
   "source": [
    "user_logs_feb_tweak = user_logs_feb.copy()\n",
    "user_logs_mar_tweak = user_logs_mar.copy()\n",
    "user_logs_apr_tweak = user_logs_apr.copy()"
   ]
  },
  {
   "cell_type": "markdown",
   "metadata": {},
   "source": [
    "### 2.2 Merge the different datasets"
   ]
  },
  {
   "cell_type": "markdown",
   "metadata": {},
   "source": [
    "In this section, the different files containing the features are merged with the train and test data. Here, we need to have a look at the specifics of the problem we actually need to solve. We are given a training data set for february and march with the corresponding response variable \"is_churn\". We need to use this data and make a prediction for the month of april. To get an estimation of our performance, we are going to train the data on february and test it on march. For the month of april, we are going to train on the entire data, i.e. February and March. The prediction will then be made for april."
   ]
  },
  {
   "cell_type": "code",
   "execution_count": 7,
   "metadata": {},
   "outputs": [],
   "source": [
    "feb_data = pd.merge(members_feb,user_logs_feb.drop('is_churn',axis=1),on='msno')\n",
    "feb_data = pd.merge(feb_data,transactions_mar.drop('is_churn',axis=1),on='msno')\n",
    "mar_data = pd.merge(members_mar,user_logs_mar.drop('is_churn',axis=1),on='msno')\n",
    "mar_data = pd.merge(mar_data,transactions_mar.drop('is_churn',axis=1),on='msno')\n",
    "apr_data = pd.merge(members_apr,user_logs_apr.drop('is_churn',axis=1),on='msno')\n",
    "apr_data = pd.merge(apr_data,transactions_apr.drop('is_churn',axis=1),on='msno')\n"
   ]
  },
  {
   "cell_type": "markdown",
   "metadata": {},
   "source": [
    "##### Checking shapes"
   ]
  },
  {
   "cell_type": "code",
   "execution_count": 8,
   "metadata": {},
   "outputs": [
    {
     "name": "stdout",
     "output_type": "stream",
     "text": [
      "(881701, 80)\n",
      "(970960, 80)\n",
      "(907471, 80)\n"
     ]
    }
   ],
   "source": [
    "print(feb_data.shape)\n",
    "print(mar_data.shape)\n",
    "print(apr_data.shape)"
   ]
  },
  {
   "cell_type": "markdown",
   "metadata": {},
   "source": [
    "### 2.4 Data cleaning"
   ]
  },
  {
   "cell_type": "markdown",
   "metadata": {},
   "source": [
    "Let's make sure each dataset has the same order of its columns:"
   ]
  },
  {
   "cell_type": "code",
   "execution_count": 9,
   "metadata": {},
   "outputs": [],
   "source": [
    "mar_data = mar_data[feb_data.columns]\n",
    "apr_data = apr_data[mar_data.columns]\n"
   ]
  },
  {
   "cell_type": "markdown",
   "metadata": {},
   "source": [
    "## 3. Algorithms\n",
    "### 3.1 Logistic Regression"
   ]
  },
  {
   "cell_type": "code",
   "execution_count": 65,
   "metadata": {},
   "outputs": [],
   "source": [
    "# Logistic Regression\n",
    "def log_reg(train,test,final):\n",
    "    if ('msno' in train.columns):\n",
    "        train = train.drop('msno',axis=1)\n",
    "    if ('msno' in test.columns):\n",
    "        test = test.drop('msno',axis=1)\n",
    "    X_train = train.drop('is_churn',axis=1)\n",
    "    y_train = train['is_churn']\n",
    "    X_test = test.drop('is_churn',axis=1)\n",
    "    y_test = test['is_churn']\n",
    "\n",
    "    model_log_reg = LogisticRegression(multi_class='multinomial',solver='newton-cg')\n",
    "    model_log_reg.fit(X_train, y_train)\n",
    "    y_pred_l = model_log_reg.predict(X_test)\n",
    "    y_pred_l[y_pred_l<0] = 0\n",
    "    y_pred_l[y_pred_l>0] = 1\n",
    "\n",
    "    if (final == 1):\n",
    "        return y_pred_l\n",
    "    print(\"Logloss for Linear Regression is: %.6f\"%log_loss(y_test,y_pred_l))\n",
    "    #y_pred_l[y_pred_l>=0.95] = 1\n",
    "    #y_pred_l[y_pred_l<0.05] = 0\n",
    "    #print(\"(1 or 0) Logloss for Linear Regression is: %.6f\"%log_loss(y_test,y_pred_l))\n",
    "\n"
   ]
  },
  {
   "cell_type": "markdown",
   "metadata": {},
   "source": [
    "##### Veryfying model accurancy and over-fitting:"
   ]
  },
  {
   "cell_type": "code",
   "execution_count": null,
   "metadata": {},
   "outputs": [],
   "source": [
    "lin_reg(feb_data,mar_data)\n",
    "print('### over-fitting check: ###')\n",
    "lin_reg(feb_data,feb_data)"
   ]
  },
  {
   "cell_type": "markdown",
   "metadata": {},
   "source": [
    "### 3.2 Random Forrest"
   ]
  },
  {
   "cell_type": "code",
   "execution_count": 50,
   "metadata": {},
   "outputs": [],
   "source": [
    "# Run Forest\n",
    "\n",
    "def ran_for(train,test,importance,final):\n",
    "    start = time.time()\n",
    "    if ('msno' in train.columns):\n",
    "        train = train.drop('msno',axis=1)\n",
    "    if ('msno' in test.columns):\n",
    "        test = test.drop('msno',axis=1)\n",
    "    X_train = train.drop('is_churn',axis=1)\n",
    "    y_train = train['is_churn']\n",
    "    X_test = test.drop('is_churn',axis=1)\n",
    "    y_test = test['is_churn']\n",
    "    \n",
    "    model_Forest = RandomForestRegressor()\n",
    "    model_Forest.fit(X_train, y_train)\n",
    "    y_pred_f = model_Forest.predict(X_test)\n",
    "    \n",
    "    if (final == 1):\n",
    "        return y_pred_f\n",
    "    \n",
    "    print(\"Logloss for Random Forrest is: %.6f\"%log_loss(y_test,y_pred_f))\n",
    "    \n",
    "    if (importance == 1):\n",
    "        importances = model_Forest.feature_importances_\n",
    "        indices = np.argsort(importances)[::-1]\n",
    "        columns = np.array(list(X_train))\n",
    "        return importances\n",
    "        \n",
    "        # Print the feature ranking\n",
    "        print(\"\\nFeature ranking:\")\n",
    "        \n",
    "        for f in range(x_train.shape[1]):\n",
    "            print(\"%d. %s (%f)\" % (f + 1, columns[indices[f]], importances[indices[f]]))\n",
    "    \n",
    "    print('RF Time = %.0f'%(time.time() - start))\n"
   ]
  },
  {
   "cell_type": "markdown",
   "metadata": {},
   "source": [
    "##### Veryfying model accurancy and over-fitting:"
   ]
  },
  {
   "cell_type": "code",
   "execution_count": null,
   "metadata": {},
   "outputs": [],
   "source": [
    "ran_for(feb_data,mar_data,1)\n",
    "print('### over-fitting check: ###')\n",
    "ran_for(feb_data,feb_data,0)\n"
   ]
  },
  {
   "cell_type": "markdown",
   "metadata": {},
   "source": [
    "### 3.3 XG Boost"
   ]
  },
  {
   "cell_type": "code",
   "execution_count": 85,
   "metadata": {},
   "outputs": [],
   "source": [
    "# Run XGD Boost\n",
    "def xgb_boost(train,test,importance,final):\n",
    "    start = time.time()\n",
    "    if ('msno' in train.columns):\n",
    "        train = train.drop('msno',axis=1)\n",
    "    if ('msno' in test.columns):\n",
    "        test = test.drop('msno',axis=1)\n",
    "    X_train = train.drop('is_churn',axis=1)\n",
    "    y_train = train['is_churn']\n",
    "    X_test = test.drop('is_churn',axis=1)\n",
    "    y_test = test['is_churn']\n",
    "    \n",
    "    dtrain = xgb.DMatrix(X_train, label = y_train)\n",
    "    dtest = xgb.DMatrix(X_test, label = y_test)\n",
    "    param = {\n",
    "        'max_depth': 3,  # the maximum depth of each tree. Try with max_depth: 2 to 10.\n",
    "        'eta': 0.3,  # the training step for each iteration. Try with ETA: 0.1, 0.2, 0.3...\n",
    "        'silent': 1,  # logging mode - quiet\n",
    "        'objective': 'multi:softprob',  # error evaluation for multiclass training\n",
    "        'num_class': 10}  # the number of classes that exist in this datset\n",
    "    num_round = 15  # the number of training iterations. Try with num_round around few hundred!\n",
    "    #----------------\n",
    "    bst = xgb.train(param, dtrain, num_round)\n",
    "    y_pred_xgb = bst.predict(dtest)\n",
    "    best_preds = np.asarray([np.argmax(line) for line in y_pred_xgb])\n",
    "    y_pred_xgb = y_pred_xgb[:,1] #Column 2 out of 3\n",
    "    if (final == 1):\n",
    "        return y_pred_xgb\n",
    "    print(\"(probs) Logloss for XGD Boost is: %.6f\"%log_loss(y_test,y_pred_xgb))\n",
    "    \n",
    "    if (importance == 1):\n",
    "        xgb.plot_importance(bst)\n",
    "        plt.show()\n",
    "    \n",
    "    #y_pred_xgb[y_pred_xgb>=0.5] = 1\n",
    "    #y_pred_xgb[y_pred_xgb<0.5] = 0\n",
    "    #print(\"(1 or 0) Logloss for XGD Boost is: %.6f\"%log_loss(y_test,y_pred_xgb))\n",
    "\n",
    "    print('XGB Time = %.0f'%(time.time() - start))\n",
    "    \n",
    "    return y_pred_xgb"
   ]
  },
  {
   "cell_type": "markdown",
   "metadata": {},
   "source": [
    "##### Veryfying model accurancy and over-fitting:"
   ]
  },
  {
   "cell_type": "code",
   "execution_count": null,
   "metadata": {},
   "outputs": [],
   "source": [
    "xgb_boost(feb_data,mar_data,1,0)\n",
    "print('### over-fitting check: ###')\n",
    "xgb_boost(feb_data,feb_data,0,0)"
   ]
  },
  {
   "cell_type": "markdown",
   "metadata": {},
   "source": [
    "### 3.4 Neural Network"
   ]
  },
  {
   "cell_type": "code",
   "execution_count": 13,
   "metadata": {},
   "outputs": [],
   "source": [
    "# Neural Network\n",
    "def neural(train,test,cv):\n",
    "    start = time.time()\n",
    "    if ('msno' in train.columns):\n",
    "        train = train.drop('msno',axis=1)\n",
    "    if ('msno' in test.columns):\n",
    "        test = test.drop('msno',axis=1)\n",
    "    X_train = train.drop('is_churn',axis=1)\n",
    "    y_train = train['is_churn']\n",
    "    X_test = test.drop('is_churn',axis=1)\n",
    "    y_test = test['is_churn']\n",
    "\n",
    "    model_n = MLPClassifier()\n",
    "    model_n.fit(X_train, y_train)\n",
    "    y_pred_n = model_n.predict(X_test)\n",
    "    \n",
    "    print(\"Logloss for Neural Network is: %.6f\"%log_loss(y_test,y_pred_n)) \n",
    "    \n",
    "    if (cv == 1):\n",
    "        cv = ShuffleSplit(n_splits=3, test_size=0.33, random_state=42)\n",
    "        scores = cross_val_score(model_n, data_input, data_output, cv=cv, scoring='log_loss')\n",
    "        #scores = - scores\n",
    "        print(scores)\n",
    "        print(\"CV log loss: %0.2f (+/- %0.2f)\" % (scores.mean(), scores.std() * 2))\n",
    "    \n",
    "    print('Neural Time = %.0f'%(time.time() - start))"
   ]
  },
  {
   "cell_type": "markdown",
   "metadata": {},
   "source": [
    "##### Veryfying model accurancy and over-fitting:"
   ]
  },
  {
   "cell_type": "code",
   "execution_count": 18,
   "metadata": {},
   "outputs": [
    {
     "name": "stdout",
     "output_type": "stream",
     "text": [
      "Logloss for Neural Network is: 3.355707\n",
      "Neural Time = 172\n",
      "### over-fitting check: ###\n",
      "Logloss for Neural Network is: 0.938550\n",
      "Neural Time = 28\n"
     ]
    }
   ],
   "source": [
    "neural(feb_data,mar_data,0)\n",
    "print('### over-fitting check: ###')\n",
    "neural(feb_data,feb_data,0)"
   ]
  },
  {
   "cell_type": "markdown",
   "metadata": {},
   "source": [
    "### 3.5 Ada Boost"
   ]
  },
  {
   "cell_type": "code",
   "execution_count": 14,
   "metadata": {},
   "outputs": [],
   "source": [
    "# AdaBoost\n",
    "def ada_b(train,test,final):\n",
    "    start = time.time()\n",
    "    if ('msno' in train.columns):\n",
    "        train = train.drop('msno',axis=1)\n",
    "    if ('msno' in test.columns):\n",
    "        test = test.drop('msno',axis=1)\n",
    "    X_train = train.drop('is_churn',axis=1)\n",
    "    y_train = train['is_churn']\n",
    "    X_test = test.drop('is_churn',axis=1)\n",
    "    y_test = test['is_churn']\n",
    "\n",
    "    model_abr = AdaBoostRegressor()\n",
    "    model_abr.fit(X_train, y_train)\n",
    "    print('Model fitted!')\n",
    "    y_pred_abr = model_abr.predict(X_test)\n",
    "    if (final == 1):\n",
    "        return y_pred_abr\n",
    "    print(\"Logloss for AdaBoost is: %.6f\"%log_loss(y_test,y_pred_abr))\n",
    "    print('Time =',time.time() - start)"
   ]
  },
  {
   "cell_type": "markdown",
   "metadata": {},
   "source": [
    "##### Veryfying model accurancy and over-fitting:"
   ]
  },
  {
   "cell_type": "code",
   "execution_count": 20,
   "metadata": {},
   "outputs": [
    {
     "name": "stdout",
     "output_type": "stream",
     "text": [
      "Model fitted!\n",
      "Logloss for AdaBoost is: 0.280593\n",
      "Time = 2894.4613180160522\n",
      "### over-fitting check: ###\n",
      "Model fitted!\n",
      "Logloss for AdaBoost is: 0.164375\n",
      "Time = 286.2973380088806\n"
     ]
    }
   ],
   "source": [
    "ada_b(feb_data,mar_data)\n",
    "print('### over-fitting check: ###')\n",
    "ada_b(feb_data,feb_data)"
   ]
  },
  {
   "cell_type": "markdown",
   "metadata": {},
   "source": [
    "## 4. Feature Testing\n",
    "### 4.1 Creating sample sets"
   ]
  },
  {
   "cell_type": "markdown",
   "metadata": {},
   "source": [
    "We had to create relatively large sample sets (around 500k rows), as selecting fewer rows resulted in inconsistent results for feature removel between our tests and the final submission to Kaggle."
   ]
  },
  {
   "cell_type": "code",
   "execution_count": 28,
   "metadata": {},
   "outputs": [
    {
     "name": "stdout",
     "output_type": "stream",
     "text": [
      "(440850, 80)\n",
      "(485480, 80)\n"
     ]
    }
   ],
   "source": [
    "feb_sample = feb_data.sample(frac=0.5)\n",
    "print(feb_sample.shape)\n",
    "\n",
    "mar_sample = mar_data.sample(frac=0.5)\n",
    "print(mar_sample.shape)"
   ]
  },
  {
   "cell_type": "code",
   "execution_count": 67,
   "metadata": {},
   "outputs": [],
   "source": [
    "feb_sample.to_csv('feb_sample.csv', index=False)\n",
    "mar_sample.to_csv('mar_sample.csv', index=False)"
   ]
  },
  {
   "cell_type": "markdown",
   "metadata": {},
   "source": [
    "### 4.2 Removing individual features\n",
    "As we already know that XG Boost is our most efficient algorithm, we only have to test the different feature constelations for XG Boost."
   ]
  },
  {
   "cell_type": "markdown",
   "metadata": {},
   "source": [
    "#### 4.2.1 Loop for removing every feature one-by-one"
   ]
  },
  {
   "cell_type": "code",
   "execution_count": 29,
   "metadata": {},
   "outputs": [
    {
     "name": "stdout",
     "output_type": "stream",
     "text": [
      "\n",
      "### city_1 removed ###\n",
      "(probs) Logloss for XGD Boost is: 0.315704\n",
      "XGB Time = 207\n",
      "\n",
      "### city_3 removed ###\n",
      "(probs) Logloss for XGD Boost is: 0.315704\n",
      "XGB Time = 205\n",
      "\n",
      "### city_4 removed ###\n",
      "(probs) Logloss for XGD Boost is: 0.315704\n",
      "XGB Time = 203\n",
      "\n",
      "### city_5 removed ###\n",
      "(probs) Logloss for XGD Boost is: 0.315704\n",
      "XGB Time = 199\n",
      "\n",
      "### city_6 removed ###\n",
      "(probs) Logloss for XGD Boost is: 0.315704\n",
      "XGB Time = 199\n",
      "\n",
      "### city_7 removed ###\n",
      "(probs) Logloss for XGD Boost is: 0.315704\n",
      "XGB Time = 198\n",
      "\n",
      "### city_8 removed ###\n",
      "(probs) Logloss for XGD Boost is: 0.315704\n",
      "XGB Time = 202\n",
      "\n",
      "### city_9 removed ###\n",
      "(probs) Logloss for XGD Boost is: 0.315704\n",
      "XGB Time = 202\n",
      "\n",
      "### city_10 removed ###\n",
      "(probs) Logloss for XGD Boost is: 0.315704\n",
      "XGB Time = 203\n",
      "\n",
      "### city_11 removed ###\n",
      "(probs) Logloss for XGD Boost is: 0.315704\n",
      "XGB Time = 202\n",
      "\n",
      "### city_12 removed ###\n",
      "(probs) Logloss for XGD Boost is: 0.315704\n",
      "XGB Time = 200\n",
      "\n",
      "### city_13 removed ###\n",
      "(probs) Logloss for XGD Boost is: 0.315704\n",
      "XGB Time = 228\n",
      "\n",
      "### city_14 removed ###\n",
      "(probs) Logloss for XGD Boost is: 0.315704\n",
      "XGB Time = 216\n",
      "\n",
      "### city_15 removed ###\n",
      "(probs) Logloss for XGD Boost is: 0.315704\n",
      "XGB Time = 201\n",
      "\n",
      "### city_16 removed ###\n",
      "(probs) Logloss for XGD Boost is: 0.315704\n",
      "XGB Time = 207\n",
      "\n",
      "### city_17 removed ###\n",
      "(probs) Logloss for XGD Boost is: 0.315704\n",
      "XGB Time = 200\n",
      "\n",
      "### city_18 removed ###\n",
      "(probs) Logloss for XGD Boost is: 0.315704\n",
      "XGB Time = 203\n",
      "\n",
      "### city_19 removed ###\n",
      "(probs) Logloss for XGD Boost is: 0.315704\n",
      "XGB Time = 203\n",
      "\n",
      "### city_20 removed ###\n",
      "(probs) Logloss for XGD Boost is: 0.315704\n",
      "XGB Time = 199\n",
      "\n",
      "### city_21 removed ###\n",
      "(probs) Logloss for XGD Boost is: 0.315704\n",
      "XGB Time = 202\n",
      "\n",
      "### city_22 removed ###\n",
      "(probs) Logloss for XGD Boost is: 0.315704\n",
      "XGB Time = 202\n",
      "\n",
      "### reg_year_2012 removed ###\n",
      "(probs) Logloss for XGD Boost is: 0.315704\n",
      "XGB Time = 199\n",
      "\n",
      "### reg_year_2013 removed ###\n",
      "(probs) Logloss for XGD Boost is: 0.315700\n",
      "XGB Time = 200\n",
      "\n",
      "### reg_year_2014 removed ###\n",
      "(probs) Logloss for XGD Boost is: 0.315704\n",
      "XGB Time = 204\n",
      "\n",
      "### reg_year_2015 removed ###\n",
      "(probs) Logloss for XGD Boost is: 0.315704\n",
      "XGB Time = 198\n",
      "\n",
      "### reg_year_2016 removed ###\n",
      "(probs) Logloss for XGD Boost is: 0.315704\n",
      "XGB Time = 193\n",
      "\n",
      "### reg_year_2017 removed ###\n",
      "(probs) Logloss for XGD Boost is: 0.315704\n",
      "XGB Time = 195\n",
      "\n",
      "### reg_3 removed ###\n",
      "(probs) Logloss for XGD Boost is: 0.315704\n",
      "XGB Time = 189\n",
      "\n",
      "### reg_4 removed ###\n",
      "(probs) Logloss for XGD Boost is: 0.315704\n",
      "XGB Time = 198\n",
      "\n",
      "### reg_7 removed ###\n",
      "(probs) Logloss for XGD Boost is: 0.315701\n",
      "XGB Time = 202\n",
      "\n",
      "### reg_9 removed ###\n",
      "(probs) Logloss for XGD Boost is: 0.315704\n",
      "XGB Time = 207\n",
      "\n",
      "### reg_11 removed ###\n",
      "(probs) Logloss for XGD Boost is: 0.315704\n",
      "XGB Time = 199\n",
      "\n",
      "### bd_norm removed ###\n",
      "(probs) Logloss for XGD Boost is: 0.315704\n",
      "XGB Time = 203\n",
      "\n",
      "### entries removed ###\n",
      "(probs) Logloss for XGD Boost is: 0.315950\n",
      "XGB Time = 199\n",
      "\n",
      "### entries_m2 removed ###\n",
      "(probs) Logloss for XGD Boost is: 0.315704\n",
      "XGB Time = 200\n",
      "\n",
      "### entries_m1 removed ###\n",
      "(probs) Logloss for XGD Boost is: 0.315755\n",
      "XGB Time = 201\n",
      "\n",
      "### entries_m3 removed ###\n",
      "(probs) Logloss for XGD Boost is: 0.315704\n",
      "XGB Time = 201\n",
      "\n",
      "### num_100 removed ###\n",
      "(probs) Logloss for XGD Boost is: 0.315704\n",
      "XGB Time = 203\n",
      "\n",
      "### num_25 removed ###\n",
      "(probs) Logloss for XGD Boost is: 0.315704\n",
      "XGB Time = 215\n",
      "\n",
      "### num_50 removed ###\n",
      "(probs) Logloss for XGD Boost is: 0.315704\n",
      "XGB Time = 200\n",
      "\n",
      "### num_75 removed ###\n",
      "(probs) Logloss for XGD Boost is: 0.315704\n",
      "XGB Time = 201\n",
      "\n",
      "### num_985 removed ###\n",
      "(probs) Logloss for XGD Boost is: 0.316326\n",
      "XGB Time = 198\n",
      "\n",
      "### num_unq removed ###\n",
      "(probs) Logloss for XGD Boost is: 0.315704\n",
      "XGB Time = 209\n",
      "\n",
      "### secs_m2 removed ###\n",
      "(probs) Logloss for XGD Boost is: 0.315400\n",
      "XGB Time = 208\n",
      "\n",
      "### secs_m1 removed ###\n",
      "(probs) Logloss for XGD Boost is: 0.315678\n",
      "XGB Time = 192\n",
      "\n",
      "### secs_m3 removed ###\n",
      "(probs) Logloss for XGD Boost is: 0.316617\n",
      "XGB Time = 196\n",
      "\n",
      "### total_secs removed ###\n",
      "(probs) Logloss for XGD Boost is: 0.315704\n",
      "XGB Time = 197\n",
      "\n",
      "### behaviour removed ###\n",
      "(probs) Logloss for XGD Boost is: 0.315704\n",
      "XGB Time = 197\n",
      "\n",
      "### cVp_entries removed ###\n",
      "(probs) Logloss for XGD Boost is: 0.315872\n",
      "XGB Time = 202\n",
      "\n",
      "### pVpp_entries removed ###\n",
      "(probs) Logloss for XGD Boost is: 0.315703\n",
      "XGB Time = 199\n",
      "\n",
      "### cVp_secs removed ###\n",
      "(probs) Logloss for XGD Boost is: 0.315460\n",
      "XGB Time = 198\n",
      "\n",
      "### pVpp_secs removed ###\n",
      "(probs) Logloss for XGD Boost is: 0.315696\n",
      "XGB Time = 199\n",
      "\n",
      "### is_auto_renew removed ###\n",
      "(probs) Logloss for XGD Boost is: 0.314192\n",
      "XGB Time = 201\n",
      "\n",
      "### is_cancel removed ###\n",
      "(probs) Logloss for XGD Boost is: 0.315704\n",
      "XGB Time = 199\n",
      "\n",
      "### mem_duration removed ###\n",
      "(probs) Logloss for XGD Boost is: 0.307884\n",
      "XGB Time = 197\n",
      "\n",
      "### payment_method_id_30 removed ###\n",
      "(probs) Logloss for XGD Boost is: 0.314260\n",
      "XGB Time = 198\n",
      "\n",
      "### payment_method_id_31 removed ###\n",
      "(probs) Logloss for XGD Boost is: 0.315704\n",
      "XGB Time = 200\n",
      "\n",
      "### payment_method_id_32 removed ###\n",
      "(probs) Logloss for XGD Boost is: 0.315704\n",
      "XGB Time = 204\n",
      "\n",
      "### payment_method_id_33 removed ###\n",
      "(probs) Logloss for XGD Boost is: 0.315704\n",
      "XGB Time = 199\n",
      "\n",
      "### payment_method_id_34 removed ###\n",
      "(probs) Logloss for XGD Boost is: 0.315704\n",
      "XGB Time = 199\n",
      "\n",
      "### payment_method_id_35 removed ###\n",
      "(probs) Logloss for XGD Boost is: 0.315704\n",
      "XGB Time = 199\n",
      "\n",
      "### payment_method_id_36 removed ###\n",
      "(probs) Logloss for XGD Boost is: 0.315704\n",
      "XGB Time = 190\n",
      "\n",
      "### payment_method_id_37 removed ###\n",
      "(probs) Logloss for XGD Boost is: 0.315704\n",
      "XGB Time = 188\n",
      "\n",
      "### payment_method_id_38 removed ###\n",
      "(probs) Logloss for XGD Boost is: 0.315704\n",
      "XGB Time = 187\n",
      "\n",
      "### payment_method_id_39 removed ###\n",
      "(probs) Logloss for XGD Boost is: 0.316088\n",
      "XGB Time = 187\n",
      "\n",
      "### payment_method_id_40 removed ###\n",
      "(probs) Logloss for XGD Boost is: 0.315428\n",
      "XGB Time = 187\n",
      "\n",
      "### payment_method_id_41 removed ###\n",
      "(probs) Logloss for XGD Boost is: 0.315841\n",
      "XGB Time = 187\n",
      "\n",
      "### pay_method_churn removed ###\n",
      "(probs) Logloss for XGD Boost is: 0.315281\n",
      "XGB Time = 187\n",
      "\n",
      "### payment_plan_days_7 removed ###\n",
      "(probs) Logloss for XGD Boost is: 0.315687\n",
      "XGB Time = 188\n",
      "\n",
      "### payment_plan_days_30 removed ###\n",
      "(probs) Logloss for XGD Boost is: 0.330108\n",
      "XGB Time = 186\n",
      "\n",
      "### payment_plan_days_90 removed ###\n",
      "(probs) Logloss for XGD Boost is: 0.315704\n",
      "XGB Time = 187\n",
      "\n",
      "### payment_plan_days_180 removed ###\n",
      "(probs) Logloss for XGD Boost is: 0.316671\n",
      "XGB Time = 187\n",
      "\n",
      "### payment_plan_days_195 removed ###\n",
      "(probs) Logloss for XGD Boost is: 0.315704\n",
      "XGB Time = 187\n",
      "\n",
      "### payment_plan_days_410 removed ###\n",
      "(probs) Logloss for XGD Boost is: 0.315704\n",
      "XGB Time = 187\n",
      "\n",
      "### notAutorenew_and_cancel removed ###\n",
      "(probs) Logloss for XGD Boost is: 0.321000\n",
      "XGB Time = 187\n",
      "\n",
      "### transactions removed ###\n",
      "(probs) Logloss for XGD Boost is: 0.315746\n",
      "XGB Time = 187\n",
      "\n",
      "### is_cancel_number removed ###\n",
      "(probs) Logloss for XGD Boost is: 0.315704\n",
      "XGB Time = 187\n",
      "\n",
      "### diff removed ###\n",
      "(probs) Logloss for XGD Boost is: 0.320618\n",
      "XGB Time = 187\n"
     ]
    }
   ],
   "source": [
    "# columns selection\n",
    "eng_columns = np.array(list(feb_sample.drop(columns=['is_churn','msno'],axis=1)))\n",
    "\n",
    "for i in range(0,len(eng_columns)):\n",
    "    inpt = eng_columns[i]\n",
    "    data_input = feb_sample.drop(inpt,axis=1)\n",
    "    data_outupt = mar_sample.drop(inpt,axis=1)\n",
    "    print('\\n###',inpt,'removed ###')\n",
    "    #lin_reg(data_input,data_outupt)\n",
    "    #ada_b(data_input,data_outupt,0)\n",
    "    xgb_boost(data_input,data_outupt,0,0)"
   ]
  },
  {
   "cell_type": "markdown",
   "metadata": {},
   "source": [
    "We conclude that, in particular, the feature 'mem_duration' has a substantial negative effect on the model accuracy. By removing it, we managed to improve our Kaggle Score from 0.12319 to 0.12215. \n",
    "To remove further features, we will next to a loop where mem_duration is already removed."
   ]
  },
  {
   "cell_type": "markdown",
   "metadata": {},
   "source": [
    "#### 4.2.2 Loop with 'mem_duration' already removed"
   ]
  },
  {
   "cell_type": "markdown",
   "metadata": {},
   "source": [
    "To fasten the process, we removed all the features that don't seem to be used by XGB (as they have no influence on the score at all). For our final submission however, we included them, as the score was slightly worse without them."
   ]
  },
  {
   "cell_type": "code",
   "execution_count": 35,
   "metadata": {},
   "outputs": [
    {
     "name": "stdout",
     "output_type": "stream",
     "text": [
      "\n",
      "### entries removed ###\n",
      "(probs) Logloss for XGD Boost is: 0.306463\n",
      "XGB Time = 139\n",
      "\n",
      "### entries_m2 removed ###\n",
      "(probs) Logloss for XGD Boost is: 0.307267\n",
      "XGB Time = 138\n",
      "\n",
      "### entries_m1 removed ###\n",
      "(probs) Logloss for XGD Boost is: 0.307304\n",
      "XGB Time = 138\n",
      "\n",
      "### entries_m3 removed ###\n",
      "(probs) Logloss for XGD Boost is: 0.307267\n",
      "XGB Time = 134\n",
      "\n",
      "### num_100 removed ###\n",
      "(probs) Logloss for XGD Boost is: 0.307267\n",
      "XGB Time = 131\n",
      "\n",
      "### num_25 removed ###\n",
      "(probs) Logloss for XGD Boost is: 0.307267\n",
      "XGB Time = 130\n",
      "\n",
      "### num_50 removed ###\n",
      "(probs) Logloss for XGD Boost is: 0.307977\n",
      "XGB Time = 130\n",
      "\n",
      "### num_75 removed ###\n",
      "(probs) Logloss for XGD Boost is: 0.307267\n",
      "XGB Time = 135\n",
      "\n",
      "### num_985 removed ###\n",
      "(probs) Logloss for XGD Boost is: 0.307804\n",
      "XGB Time = 132\n",
      "\n",
      "### num_unq removed ###\n",
      "(probs) Logloss for XGD Boost is: 0.307267\n",
      "XGB Time = 132\n",
      "\n",
      "### secs_m2 removed ###\n",
      "(probs) Logloss for XGD Boost is: 0.307857\n",
      "XGB Time = 131\n",
      "\n",
      "### secs_m1 removed ###\n",
      "(probs) Logloss for XGD Boost is: 0.307290\n",
      "XGB Time = 131\n",
      "\n",
      "### secs_m3 removed ###\n",
      "(probs) Logloss for XGD Boost is: 0.307945\n",
      "XGB Time = 133\n",
      "\n",
      "### total_secs removed ###\n",
      "(probs) Logloss for XGD Boost is: 0.307267\n",
      "XGB Time = 130\n",
      "\n",
      "### behaviour removed ###\n",
      "(probs) Logloss for XGD Boost is: 0.307267\n",
      "XGB Time = 130\n",
      "\n",
      "### cVp_entries removed ###\n",
      "(probs) Logloss for XGD Boost is: 0.307320\n",
      "XGB Time = 138\n",
      "\n",
      "### pVpp_entries removed ###\n",
      "(probs) Logloss for XGD Boost is: 0.307265\n",
      "XGB Time = 134\n",
      "\n",
      "### cVp_secs removed ###\n",
      "(probs) Logloss for XGD Boost is: 0.307516\n",
      "XGB Time = 131\n",
      "\n",
      "### pVpp_secs removed ###\n",
      "(probs) Logloss for XGD Boost is: 0.307260\n",
      "XGB Time = 131\n",
      "\n",
      "### is_auto_renew removed ###\n",
      "(probs) Logloss for XGD Boost is: 0.305880\n",
      "XGB Time = 135\n",
      "\n",
      "### is_cancel removed ###\n",
      "(probs) Logloss for XGD Boost is: 0.307267\n",
      "XGB Time = 142\n",
      "\n",
      "### payment_method_id_30 removed ###\n",
      "(probs) Logloss for XGD Boost is: 0.307143\n",
      "XGB Time = 133\n",
      "\n",
      "### payment_method_id_31 removed ###\n",
      "(probs) Logloss for XGD Boost is: 0.307267\n",
      "XGB Time = 133\n",
      "\n",
      "### payment_method_id_32 removed ###\n",
      "(probs) Logloss for XGD Boost is: 0.307267\n",
      "XGB Time = 143\n",
      "\n",
      "### payment_method_id_33 removed ###\n",
      "(probs) Logloss for XGD Boost is: 0.307267\n",
      "XGB Time = 132\n",
      "\n",
      "### payment_method_id_34 removed ###\n",
      "(probs) Logloss for XGD Boost is: 0.307267\n",
      "XGB Time = 130\n",
      "\n",
      "### payment_method_id_35 removed ###\n",
      "(probs) Logloss for XGD Boost is: 0.307267\n",
      "XGB Time = 131\n",
      "\n",
      "### payment_method_id_36 removed ###\n",
      "(probs) Logloss for XGD Boost is: 0.307283\n",
      "XGB Time = 128\n",
      "\n",
      "### payment_method_id_37 removed ###\n",
      "(probs) Logloss for XGD Boost is: 0.307267\n",
      "XGB Time = 126\n",
      "\n",
      "### payment_method_id_38 removed ###\n",
      "(probs) Logloss for XGD Boost is: 0.307580\n",
      "XGB Time = 126\n",
      "\n",
      "### payment_method_id_39 removed ###\n",
      "(probs) Logloss for XGD Boost is: 0.307788\n",
      "XGB Time = 126\n",
      "\n",
      "### payment_method_id_40 removed ###\n",
      "(probs) Logloss for XGD Boost is: 0.307159\n",
      "XGB Time = 127\n",
      "\n",
      "### payment_method_id_41 removed ###\n",
      "(probs) Logloss for XGD Boost is: 0.307989\n",
      "XGB Time = 126\n",
      "\n",
      "### pay_method_churn removed ###\n",
      "(probs) Logloss for XGD Boost is: 0.303176\n",
      "XGB Time = 126\n",
      "\n",
      "### payment_plan_days_7 removed ###\n",
      "(probs) Logloss for XGD Boost is: 0.306631\n",
      "XGB Time = 134\n",
      "\n",
      "### payment_plan_days_30 removed ###\n",
      "(probs) Logloss for XGD Boost is: 0.318822\n",
      "XGB Time = 131\n",
      "\n",
      "### payment_plan_days_90 removed ###\n",
      "(probs) Logloss for XGD Boost is: 0.306690\n",
      "XGB Time = 132\n",
      "\n",
      "### payment_plan_days_180 removed ###\n",
      "(probs) Logloss for XGD Boost is: 0.308119\n",
      "XGB Time = 131\n",
      "\n",
      "### payment_plan_days_195 removed ###\n",
      "(probs) Logloss for XGD Boost is: 0.307267\n",
      "XGB Time = 132\n",
      "\n",
      "### payment_plan_days_410 removed ###\n",
      "(probs) Logloss for XGD Boost is: 0.307267\n",
      "XGB Time = 133\n",
      "\n",
      "### notAutorenew_and_cancel removed ###\n",
      "(probs) Logloss for XGD Boost is: 0.309900\n",
      "XGB Time = 129\n",
      "\n",
      "### transactions removed ###\n",
      "(probs) Logloss for XGD Boost is: 0.307824\n",
      "XGB Time = 145\n",
      "\n",
      "### is_cancel_number removed ###\n",
      "(probs) Logloss for XGD Boost is: 0.307267\n",
      "XGB Time = 144\n",
      "\n",
      "### diff removed ###\n",
      "(probs) Logloss for XGD Boost is: 0.309881\n",
      "XGB Time = 146\n"
     ]
    }
   ],
   "source": [
    "# columns selection\n",
    "remove=['msno', 'is_churn', 'city_1', 'city_3', 'city_4', 'city_5', 'city_6', 'city_7', 'city_8', 'city_9', 'city_10', 'city_11', 'city_12', 'city_13', 'city_14', 'city_15', 'city_16', 'city_17',\n",
    "       'city_18', 'city_19', 'city_20', 'city_21', 'city_22', 'reg_year_2012', 'reg_year_2014', 'reg_year_2015', 'reg_year_2016', 'reg_year_2017', 'reg_3', 'reg_4', 'reg_9',\n",
    "       'reg_11','mem_duration']\n",
    "\n",
    "eng_columns = np.array(list(feb_sample.drop(columns=remove,axis=1)))\n",
    "\n",
    "for i in range(0,len(eng_columns)):\n",
    "    inpt = eng_columns[i]\n",
    "    remove=['city_1', 'city_3', 'city_4', 'city_5', 'city_6', 'city_7', 'city_8', 'city_9', 'city_10', 'city_11', 'city_12', 'city_13', 'city_14', 'city_15', 'city_16', 'city_17',\n",
    "       'city_18', 'city_19', 'city_20', 'city_21', 'city_22', 'reg_year_2012', 'reg_year_2014', 'reg_year_2015', 'reg_year_2016', 'reg_year_2017', 'reg_3', 'reg_4', 'reg_9',\n",
    "       'reg_11','mem_duration',inpt]\n",
    "    data_input = feb_sample.drop(columns=remove,axis=1)\n",
    "    data_outupt = mar_sample.drop(columns=remove,axis=1)\n",
    "    print('\\n###',inpt,'removed ###')\n",
    "    #lin_reg(data_input,data_outupt)\n",
    "    #ada_b(data_input,data_outupt,0)\n",
    "    xgb_boost(data_input,data_outupt,0,0)"
   ]
  },
  {
   "cell_type": "markdown",
   "metadata": {},
   "source": [
    "The initial score was 0.307267 and by removing is_auto_renew, which dragged the score to 0.305880, we managed to get a further small improvement on our Kaggle score. Indeed the scored was reduced from 0.12215 to 0.12195."
   ]
  },
  {
   "cell_type": "markdown",
   "metadata": {},
   "source": [
    "#### 4.2.3 Loop with 'mem_duration' and 'is_auto_renew' already removed"
   ]
  },
  {
   "cell_type": "code",
   "execution_count": 48,
   "metadata": {},
   "outputs": [
    {
     "name": "stdout",
     "output_type": "stream",
     "text": [
      "\n",
      "### reg_year_2013 removed ###\n",
      "(probs) Logloss for XGD Boost is: 0.306409\n",
      "XGB Time = 129\n",
      "\n",
      "### reg_7 removed ###\n",
      "(probs) Logloss for XGD Boost is: 0.305876\n",
      "XGB Time = 129\n",
      "\n",
      "### bd_norm removed ###\n",
      "(probs) Logloss for XGD Boost is: 0.306405\n",
      "XGB Time = 129\n",
      "\n",
      "### entries removed ###\n",
      "(probs) Logloss for XGD Boost is: 0.304881\n",
      "XGB Time = 129\n",
      "\n",
      "### entries_m2 removed ###\n",
      "(probs) Logloss for XGD Boost is: 0.306405\n",
      "XGB Time = 129\n",
      "\n",
      "### entries_m1 removed ###\n",
      "(probs) Logloss for XGD Boost is: 0.306437\n",
      "XGB Time = 129\n",
      "\n",
      "### entries_m3 removed ###\n",
      "(probs) Logloss for XGD Boost is: 0.306405\n",
      "XGB Time = 130\n",
      "\n",
      "### num_100 removed ###\n",
      "(probs) Logloss for XGD Boost is: 0.306405\n",
      "XGB Time = 129\n",
      "\n",
      "### num_25 removed ###\n",
      "(probs) Logloss for XGD Boost is: 0.306407\n",
      "XGB Time = 129\n",
      "\n",
      "### num_50 removed ###\n",
      "(probs) Logloss for XGD Boost is: 0.306582\n",
      "XGB Time = 129\n",
      "\n",
      "### num_75 removed ###\n",
      "(probs) Logloss for XGD Boost is: 0.306405\n",
      "XGB Time = 129\n",
      "\n",
      "### num_985 removed ###\n",
      "(probs) Logloss for XGD Boost is: 0.306308\n",
      "XGB Time = 129\n",
      "\n",
      "### num_unq removed ###\n",
      "(probs) Logloss for XGD Boost is: 0.306405\n",
      "XGB Time = 128\n",
      "\n",
      "### secs_m2 removed ###\n",
      "(probs) Logloss for XGD Boost is: 0.306429\n",
      "XGB Time = 128\n",
      "\n",
      "### secs_m1 removed ###\n",
      "(probs) Logloss for XGD Boost is: 0.306427\n",
      "XGB Time = 128\n",
      "\n",
      "### secs_m3 removed ###\n",
      "(probs) Logloss for XGD Boost is: 0.306331\n",
      "XGB Time = 128\n",
      "\n",
      "### total_secs removed ###\n",
      "(probs) Logloss for XGD Boost is: 0.306405\n",
      "XGB Time = 127\n",
      "\n",
      "### behaviour removed ###\n",
      "(probs) Logloss for XGD Boost is: 0.306405\n",
      "XGB Time = 128\n",
      "\n",
      "### cVp_entries removed ###\n",
      "(probs) Logloss for XGD Boost is: 0.306450\n",
      "XGB Time = 129\n",
      "\n",
      "### pVpp_entries removed ###\n",
      "(probs) Logloss for XGD Boost is: 0.306404\n",
      "XGB Time = 129\n",
      "\n",
      "### cVp_secs removed ###\n",
      "(probs) Logloss for XGD Boost is: 0.306213\n",
      "XGB Time = 128\n",
      "\n",
      "### pVpp_secs removed ###\n",
      "(probs) Logloss for XGD Boost is: 0.306397\n",
      "XGB Time = 128\n",
      "\n",
      "### is_cancel removed ###\n",
      "(probs) Logloss for XGD Boost is: 0.306405\n",
      "XGB Time = 129\n",
      "\n",
      "### payment_method_id_30 removed ###\n",
      "(probs) Logloss for XGD Boost is: 0.305812\n",
      "XGB Time = 129\n",
      "\n",
      "### payment_method_id_31 removed ###\n",
      "(probs) Logloss for XGD Boost is: 0.306405\n",
      "XGB Time = 129\n",
      "\n",
      "### payment_method_id_32 removed ###\n",
      "(probs) Logloss for XGD Boost is: 0.306405\n",
      "XGB Time = 130\n",
      "\n",
      "### payment_method_id_33 removed ###\n",
      "(probs) Logloss for XGD Boost is: 0.306405\n",
      "XGB Time = 130\n",
      "\n",
      "### payment_method_id_34 removed ###\n",
      "(probs) Logloss for XGD Boost is: 0.306405\n",
      "XGB Time = 130\n",
      "\n",
      "### payment_method_id_35 removed ###\n",
      "(probs) Logloss for XGD Boost is: 0.306405\n",
      "XGB Time = 130\n",
      "\n",
      "### payment_method_id_36 removed ###\n",
      "(probs) Logloss for XGD Boost is: 0.304451\n",
      "XGB Time = 130\n",
      "\n",
      "### payment_method_id_37 removed ###\n",
      "(probs) Logloss for XGD Boost is: 0.306405\n",
      "XGB Time = 130\n",
      "\n",
      "### payment_method_id_38 removed ###\n",
      "(probs) Logloss for XGD Boost is: 0.306171\n",
      "XGB Time = 130\n",
      "\n",
      "### payment_method_id_39 removed ###\n",
      "(probs) Logloss for XGD Boost is: 0.306039\n",
      "XGB Time = 130\n",
      "\n",
      "### payment_method_id_40 removed ###\n",
      "(probs) Logloss for XGD Boost is: 0.306265\n",
      "XGB Time = 129\n",
      "\n",
      "### payment_method_id_41 removed ###\n",
      "(probs) Logloss for XGD Boost is: 0.306301\n",
      "XGB Time = 128\n",
      "\n",
      "### pay_method_churn removed ###\n",
      "(probs) Logloss for XGD Boost is: 0.302735\n",
      "XGB Time = 129\n",
      "\n",
      "### payment_plan_days_7 removed ###\n",
      "(probs) Logloss for XGD Boost is: 0.305249\n",
      "XGB Time = 129\n",
      "\n",
      "### payment_plan_days_30 removed ###\n",
      "(probs) Logloss for XGD Boost is: 0.318693\n",
      "XGB Time = 128\n",
      "\n",
      "### payment_plan_days_90 removed ###\n",
      "(probs) Logloss for XGD Boost is: 0.305306\n",
      "XGB Time = 130\n",
      "\n",
      "### payment_plan_days_180 removed ###\n",
      "(probs) Logloss for XGD Boost is: 0.306281\n",
      "XGB Time = 130\n",
      "\n",
      "### payment_plan_days_195 removed ###\n",
      "(probs) Logloss for XGD Boost is: 0.306405\n",
      "XGB Time = 129\n",
      "\n",
      "### payment_plan_days_410 removed ###\n",
      "(probs) Logloss for XGD Boost is: 0.306405\n",
      "XGB Time = 130\n",
      "\n",
      "### notAutorenew_and_cancel removed ###\n",
      "(probs) Logloss for XGD Boost is: 0.340744\n",
      "XGB Time = 128\n",
      "\n",
      "### transactions removed ###\n",
      "(probs) Logloss for XGD Boost is: 0.306405\n",
      "XGB Time = 129\n",
      "\n",
      "### is_cancel_number removed ###\n",
      "(probs) Logloss for XGD Boost is: 0.306405\n",
      "XGB Time = 129\n",
      "\n",
      "### diff removed ###\n",
      "(probs) Logloss for XGD Boost is: 0.306582\n",
      "XGB Time = 129\n"
     ]
    }
   ],
   "source": [
    "# columns selection\n",
    "remove=['msno', 'is_churn', 'city_1', 'city_3', 'city_4', 'city_5', 'city_6', 'city_7', 'city_8', 'city_9', 'city_10', 'city_11', 'city_12', 'city_13', 'city_14', 'city_15', 'city_16', 'city_17',\n",
    "       'city_18', 'city_19', 'city_20', 'city_21', 'city_22', 'reg_year_2012', 'reg_year_2014', 'reg_year_2015', 'reg_year_2016', 'reg_year_2017', 'reg_3', 'reg_4', 'reg_9',\n",
    "       'reg_11','mem_duration','is_auto_renew']\n",
    "\n",
    "eng_columns = np.array(list(feb_sample.drop(columns=remove,axis=1)))\n",
    "\n",
    "for i in range(0,len(eng_columns)):\n",
    "    inpt = eng_columns[i]\n",
    "    remove=['city_1', 'city_3', 'city_4', 'city_5', 'city_6', 'city_7', 'city_8', 'city_9', 'city_10', 'city_11', 'city_12', 'city_13', 'city_14', 'city_15', 'city_16', 'city_17',\n",
    "       'city_18', 'city_19', 'city_20', 'city_21', 'city_22', 'reg_year_2012', 'reg_year_2014', 'reg_year_2015', 'reg_year_2016', 'reg_year_2017', 'reg_3', 'reg_4', 'reg_9',\n",
    "       'reg_11','mem_duration','is_auto_renew',inpt]\n",
    "    data_input = feb_sample.drop(columns=remove,axis=1)\n",
    "    data_outupt = mar_sample.drop(columns=remove,axis=1)\n",
    "    print('\\n###',inpt,'removed ###')\n",
    "    #lin_reg(data_input,data_outupt)\n",
    "    #ada_b(data_input,data_outupt,0)\n",
    "    xgb_boost(data_input,data_outupt,0,0)"
   ]
  },
  {
   "cell_type": "markdown",
   "metadata": {},
   "source": [
    "#### 4.2.3 Loop with 'mem_duration' and 'is_auto_renew' and 'payment_method_id_36' already removed"
   ]
  },
  {
   "cell_type": "markdown",
   "metadata": {},
   "source": [
    "Removing pay_method_churn has the most positive effect, logloss is reduced to 0.302735, however this does not prevail on Kaggle, where it makes the score much worse.\n",
    "Removing payment_method_id_36 increases our score from 0.12195 to 0.12120."
   ]
  },
  {
   "cell_type": "code",
   "execution_count": 72,
   "metadata": {},
   "outputs": [
    {
     "name": "stdout",
     "output_type": "stream",
     "text": [
      "\n",
      "### reg_year_2013 removed ###\n",
      "(probs) Logloss for XGD Boost is: 0.304454\n",
      "XGB Time = 155\n",
      "\n",
      "### reg_7 removed ###\n",
      "(probs) Logloss for XGD Boost is: 0.305595\n",
      "XGB Time = 149\n",
      "\n",
      "### bd_norm removed ###\n",
      "(probs) Logloss for XGD Boost is: 0.304451\n",
      "XGB Time = 141\n",
      "\n",
      "### entries removed ###\n",
      "(probs) Logloss for XGD Boost is: 0.303994\n",
      "XGB Time = 151\n",
      "\n",
      "### entries_m2 removed ###\n",
      "(probs) Logloss for XGD Boost is: 0.304451\n",
      "XGB Time = 137\n",
      "\n",
      "### entries_m1 removed ###\n",
      "(probs) Logloss for XGD Boost is: 0.305679\n",
      "XGB Time = 141\n",
      "\n",
      "### entries_m3 removed ###\n",
      "(probs) Logloss for XGD Boost is: 0.304451\n",
      "XGB Time = 146\n",
      "\n",
      "### num_100 removed ###\n",
      "(probs) Logloss for XGD Boost is: 0.304451\n",
      "XGB Time = 143\n",
      "\n",
      "### num_25 removed ###\n",
      "(probs) Logloss for XGD Boost is: 0.304451\n",
      "XGB Time = 147\n",
      "\n",
      "### num_50 removed ###\n",
      "(probs) Logloss for XGD Boost is: 0.305765\n",
      "XGB Time = 146\n",
      "\n",
      "### num_75 removed ###\n",
      "(probs) Logloss for XGD Boost is: 0.304451\n",
      "XGB Time = 162\n",
      "\n",
      "### num_985 removed ###\n",
      "(probs) Logloss for XGD Boost is: 0.306308\n",
      "XGB Time = 149\n",
      "\n",
      "### num_unq removed ###\n",
      "(probs) Logloss for XGD Boost is: 0.304443\n",
      "XGB Time = 139\n",
      "\n",
      "### secs_m2 removed ###\n",
      "(probs) Logloss for XGD Boost is: 0.305754\n",
      "XGB Time = 138\n",
      "\n",
      "### secs_m1 removed ###\n",
      "(probs) Logloss for XGD Boost is: 0.304473\n",
      "XGB Time = 142\n",
      "\n",
      "### secs_m3 removed ###\n",
      "(probs) Logloss for XGD Boost is: 0.306331\n",
      "XGB Time = 145\n",
      "\n",
      "### total_secs removed ###\n",
      "(probs) Logloss for XGD Boost is: 0.304451\n",
      "XGB Time = 141\n",
      "\n",
      "### behaviour removed ###\n",
      "(probs) Logloss for XGD Boost is: 0.304451\n",
      "XGB Time = 132\n",
      "\n",
      "### cVp_entries removed ###\n",
      "(probs) Logloss for XGD Boost is: 0.304495\n",
      "XGB Time = 131\n",
      "\n",
      "### pVpp_entries removed ###\n",
      "(probs) Logloss for XGD Boost is: 0.304449\n",
      "XGB Time = 133\n",
      "\n",
      "### cVp_secs removed ###\n",
      "(probs) Logloss for XGD Boost is: 0.305542\n",
      "XGB Time = 136\n",
      "\n",
      "### pVpp_secs removed ###\n",
      "(probs) Logloss for XGD Boost is: 0.304443\n",
      "XGB Time = 140\n",
      "\n",
      "### is_cancel removed ###\n",
      "(probs) Logloss for XGD Boost is: 0.304451\n",
      "XGB Time = 140\n",
      "\n",
      "### payment_method_id_30 removed ###\n",
      "(probs) Logloss for XGD Boost is: 0.305812\n",
      "XGB Time = 140\n",
      "\n",
      "### payment_method_id_31 removed ###\n",
      "(probs) Logloss for XGD Boost is: 0.304451\n",
      "XGB Time = 141\n",
      "\n",
      "### payment_method_id_32 removed ###\n",
      "(probs) Logloss for XGD Boost is: 0.304451\n",
      "XGB Time = 157\n",
      "\n",
      "### payment_method_id_33 removed ###\n",
      "(probs) Logloss for XGD Boost is: 0.304451\n",
      "XGB Time = 144\n",
      "\n",
      "### payment_method_id_34 removed ###\n",
      "(probs) Logloss for XGD Boost is: 0.304451\n",
      "XGB Time = 140\n",
      "\n",
      "### payment_method_id_35 removed ###\n",
      "(probs) Logloss for XGD Boost is: 0.304451\n",
      "XGB Time = 141\n",
      "\n",
      "### payment_method_id_37 removed ###\n",
      "(probs) Logloss for XGD Boost is: 0.304451\n",
      "XGB Time = 144\n",
      "\n",
      "### payment_method_id_38 removed ###\n",
      "(probs) Logloss for XGD Boost is: 0.305651\n",
      "XGB Time = 141\n",
      "\n",
      "### payment_method_id_39 removed ###\n",
      "(probs) Logloss for XGD Boost is: 0.305826\n",
      "XGB Time = 160\n",
      "\n",
      "### payment_method_id_40 removed ###\n",
      "(probs) Logloss for XGD Boost is: 0.305642\n",
      "XGB Time = 153\n",
      "\n",
      "### payment_method_id_41 removed ###\n",
      "(probs) Logloss for XGD Boost is: 0.306276\n",
      "XGB Time = 147\n",
      "\n",
      "### pay_method_churn removed ###\n",
      "(probs) Logloss for XGD Boost is: 0.302553\n",
      "XGB Time = 140\n",
      "\n",
      "### payment_plan_days_7 removed ###\n",
      "(probs) Logloss for XGD Boost is: 0.304448\n",
      "XGB Time = 143\n",
      "\n",
      "### payment_plan_days_30 removed ###\n",
      "(probs) Logloss for XGD Boost is: 0.317972\n",
      "XGB Time = 139\n",
      "\n",
      "### payment_plan_days_90 removed ###\n",
      "(probs) Logloss for XGD Boost is: 0.304296\n",
      "XGB Time = 137\n",
      "\n",
      "### payment_plan_days_180 removed ###\n",
      "(probs) Logloss for XGD Boost is: 0.306281\n",
      "XGB Time = 139\n",
      "\n",
      "### payment_plan_days_195 removed ###\n",
      "(probs) Logloss for XGD Boost is: 0.304451\n",
      "XGB Time = 137\n",
      "\n",
      "### payment_plan_days_410 removed ###\n",
      "(probs) Logloss for XGD Boost is: 0.304451\n",
      "XGB Time = 148\n",
      "\n",
      "### notAutorenew_and_cancel removed ###\n",
      "(probs) Logloss for XGD Boost is: 0.337221\n",
      "XGB Time = 150\n",
      "\n",
      "### transactions removed ###\n",
      "(probs) Logloss for XGD Boost is: 0.304451\n",
      "XGB Time = 134\n",
      "\n",
      "### is_cancel_number removed ###\n",
      "(probs) Logloss for XGD Boost is: 0.304451\n",
      "XGB Time = 137\n",
      "\n",
      "### diff removed ###\n",
      "(probs) Logloss for XGD Boost is: 0.306733\n",
      "XGB Time = 124\n"
     ]
    }
   ],
   "source": [
    "# columns selection\n",
    "remove=['msno', 'is_churn', 'city_1', 'city_3', 'city_4', 'city_5', 'city_6', 'city_7', 'city_8', 'city_9', 'city_10', 'city_11', 'city_12', 'city_13', 'city_14', 'city_15', 'city_16', 'city_17',\n",
    "       'city_18', 'city_19', 'city_20', 'city_21', 'city_22', 'reg_year_2012', 'reg_year_2014', 'reg_year_2015', 'reg_year_2016', 'reg_year_2017', 'reg_3', 'reg_4', 'reg_9',\n",
    "       'reg_11','mem_duration','is_auto_renew','payment_method_id_36']\n",
    "\n",
    "eng_columns = np.array(list(feb_sample.drop(columns=remove,axis=1)))\n",
    "\n",
    "for i in range(0,len(eng_columns)):\n",
    "    inpt = eng_columns[i]\n",
    "    remove=['city_1', 'city_3', 'city_4', 'city_5', 'city_6', 'city_7', 'city_8', 'city_9', 'city_10', 'city_11', 'city_12', 'city_13', 'city_14', 'city_15', 'city_16', 'city_17',\n",
    "       'city_18', 'city_19', 'city_20', 'city_21', 'city_22', 'reg_year_2012', 'reg_year_2014', 'reg_year_2015', 'reg_year_2016', 'reg_year_2017', 'reg_3', 'reg_4', 'reg_9',\n",
    "       'reg_11','mem_duration','payment_method_id_36','is_auto_renew',inpt]\n",
    "    data_input = feb_sample.drop(columns=remove,axis=1)\n",
    "    data_outupt = mar_sample.drop(columns=remove,axis=1)\n",
    "    print('\\n###',inpt,'removed ###')\n",
    "    #lin_reg(data_input,data_outupt)\n",
    "    #ada_b(data_input,data_outupt,0)\n",
    "    xgb_boost(data_input,data_outupt,0,0)"
   ]
  },
  {
   "cell_type": "markdown",
   "metadata": {},
   "source": [
    "Removing 'pay_method_churn' has previously shown to yield a negative result. Also when we remove 'entries', the result gets a little bit worse. Also, removing 'payment_plan_days_90' has a slight bad effect on the result. We conclude that we removed an optimal amount of features."
   ]
  },
  {
   "cell_type": "markdown",
   "metadata": {},
   "source": [
    "## 5. Generating Kaggle submissions\n",
    "### 5.1 Creating datasets\n",
    "#### 5.1.1 Appending February and March sets"
   ]
  },
  {
   "cell_type": "markdown",
   "metadata": {},
   "source": [
    "As user_logs data contains daterelated features that are related to the date where is_churn is taken from, and we have is_churn at two different dates, we can append mar_data and feb_data and thus will have a trainset of double the size."
   ]
  },
  {
   "cell_type": "code",
   "execution_count": 52,
   "metadata": {},
   "outputs": [],
   "source": [
    "total_data = mar_data.append(feb_data)"
   ]
  },
  {
   "cell_type": "markdown",
   "metadata": {},
   "source": [
    "#### 5.1.3 Creating sets with tweaked features"
   ]
  },
  {
   "cell_type": "code",
   "execution_count": 83,
   "metadata": {},
   "outputs": [],
   "source": [
    "#remove_tweak=['city_1', 'city_3', 'city_4', 'city_5', 'city_6', 'city_7', 'city_8', 'city_9', 'city_10', 'city_11', 'city_12', 'city_13', 'city_14', 'city_15', 'city_16', 'city_17',\n",
    "#       'city_18', 'city_19', 'city_20', 'city_21', 'city_22', 'reg_year_2012', 'reg_year_2014', 'reg_year_2015', 'reg_year_2016', 'reg_year_2017', 'reg_3', 'reg_4', 'reg_9',\n",
    "#       'reg_11','mem_duration','pay_method_churn']\n",
    "\n",
    "remove_tweak=['mem_duration','is_auto_renew','entries']\n",
    "\n",
    "mar_data_tweak = mar_data.copy()\n",
    "mar_data_tweak = mar_data_tweak.drop(columns=remove_tweak,axis=1)\n",
    "feb_data_tweak = feb_data.copy()\n",
    "feb_data_tweak = feb_data_tweak.drop(columns=remove_tweak,axis=1)\n",
    "apr_data_tweak = apr_data.copy()\n",
    "apr_data_tweak = apr_data_tweak.drop(columns=remove_tweak,axis=1)\n",
    "total_data_tweak = mar_data_tweak.append(feb_data_tweak)\n"
   ]
  },
  {
   "cell_type": "markdown",
   "metadata": {},
   "source": [
    "##### Plotting feature importance of our final dataset"
   ]
  },
  {
   "cell_type": "code",
   "execution_count": 86,
   "metadata": {},
   "outputs": [
    {
     "name": "stdout",
     "output_type": "stream",
     "text": [
      "(probs) Logloss for XGD Boost is: 0.306580\n"
     ]
    },
    {
     "data": {
      "application/pdf": "[encoded data removed]",
      "image/png": "[encoded data removed]",
      "text/plain": [
       "<matplotlib.figure.Figure at 0x1a1a7b9438>"
      ]
     },
     "metadata": {
      "image/png": {
       "height": 277,
       "width": 504
      }
     },
     "output_type": "display_data"
    },
    {
     "name": "stdout",
     "output_type": "stream",
     "text": [
      "XGB Time = 421\n"
     ]
    },
    {
     "data": {
      "text/plain": [
       "array([0.06080386, 0.08252325, 0.06972957, ..., 0.00272648, 0.00319796,\n",
       "       0.00319796], dtype=float32)"
      ]
     },
     "execution_count": 86,
     "metadata": {},
     "output_type": "execute_result"
    }
   ],
   "source": [
    "xgb_boost(feb_data_tweak,mar_data_tweak,1,0)"
   ]
  },
  {
   "cell_type": "markdown",
   "metadata": {},
   "source": [
    "#### 5.1.2 Creating sets with tweaked features"
   ]
  },
  {
   "cell_type": "code",
   "execution_count": 79,
   "metadata": {},
   "outputs": [
    {
     "data": {
      "text/plain": [
       "MinMaxScaler(copy=True, feature_range=(0, 1))"
      ]
     },
     "execution_count": 79,
     "metadata": {},
     "output_type": "execute_result"
    }
   ],
   "source": [
    "apr_data_norm = apr_data_tweak.copy()\n",
    "total_data_norm = total_data_tweak.copy()\n",
    "\n",
    "scaler = MinMaxScaler()\n",
    "scaler.fit(apr_data_norm.drop('msno',axis=1))\n",
    "scaler.fit(total_data_norm.drop('msno',axis=1))"
   ]
  },
  {
   "cell_type": "markdown",
   "metadata": {},
   "source": [
    "XG Boost does not require data normalization and thus the result got slightly worse."
   ]
  },
  {
   "cell_type": "markdown",
   "metadata": {},
   "source": [
    "### 5.2 Creating Submission Files\n",
    "#### 5.2.1 Testing algorithms with standard data"
   ]
  },
  {
   "cell_type": "markdown",
   "metadata": {},
   "source": [
    "##### XG Boost"
   ]
  },
  {
   "cell_type": "code",
   "execution_count": 23,
   "metadata": {},
   "outputs": [
    {
     "name": "stdout",
     "output_type": "stream",
     "text": [
      "   is_churn                                          msno\n",
      "0  0.013559  4n+fXlyJvfQnTeKXTWT507Ll4JVYGrOC8LHCfwBmPE4=\n",
      "1  0.007931  aNmbC1GvFUxQyQUidCVmfbQ0YeCuwkPzEdQ0RwWyeZM=\n",
      "2  0.046913  rFC9eSG/tMuzpre6cwcMLZHEYM89xY02qcz7HL4//jc=\n",
      "3  0.013687  WZ59dLyrQcE7ft06MZ5dj40BnlYQY7PHgg/54+HaCSE=\n",
      "4  0.022952  aky/Iv8hMp1/V/yQHLtaVuEmmAxkB5GuasQZePJ7NU4=\n",
      "                                           msno  is_churn\n",
      "0  4n+fXlyJvfQnTeKXTWT507Ll4JVYGrOC8LHCfwBmPE4=  0.013559\n",
      "1  aNmbC1GvFUxQyQUidCVmfbQ0YeCuwkPzEdQ0RwWyeZM=  0.007931\n",
      "2  rFC9eSG/tMuzpre6cwcMLZHEYM89xY02qcz7HL4//jc=  0.046913\n",
      "3  WZ59dLyrQcE7ft06MZ5dj40BnlYQY7PHgg/54+HaCSE=  0.013687\n",
      "4  aky/Iv8hMp1/V/yQHLtaVuEmmAxkB5GuasQZePJ7NU4=  0.022952\n",
      "msno        907471\n",
      "is_churn    907471\n",
      "dtype: int64\n",
      "Done! :-)\n"
     ]
    }
   ],
   "source": [
    "#Prepare submission file XG Boost\n",
    "y_pred_xgb = xgb_boost(total_data,apr_data,0,1)\n",
    "my_submission = pd.DataFrame({'msno': apr_data.msno, 'is_churn': y_pred_xgb})\n",
    "print(my_submission.head())\n",
    "cols = my_submission.columns.tolist()\n",
    "cols = cols[-1:] + cols[:-1]\n",
    "my_submission = my_submission[cols]\n",
    "print(my_submission.head())\n",
    "print(my_submission.count())\n",
    "\n",
    "my_submission.to_csv('submission_std.csv', index=False)\n",
    "print('Done! :-)')"
   ]
  },
  {
   "cell_type": "markdown",
   "metadata": {},
   "source": [
    "##### Ada Boost"
   ]
  },
  {
   "cell_type": "code",
   "execution_count": null,
   "metadata": {},
   "outputs": [
    {
     "name": "stdout",
     "output_type": "stream",
     "text": [
      "Model fitted!\n",
      "   is_churn                                          msno\n",
      "0  0.018822  4n+fXlyJvfQnTeKXTWT507Ll4JVYGrOC8LHCfwBmPE4=\n",
      "1  0.018822  aNmbC1GvFUxQyQUidCVmfbQ0YeCuwkPzEdQ0RwWyeZM=\n",
      "2  0.056930  rFC9eSG/tMuzpre6cwcMLZHEYM89xY02qcz7HL4//jc=\n",
      "3  0.018822  WZ59dLyrQcE7ft06MZ5dj40BnlYQY7PHgg/54+HaCSE=\n",
      "4  0.018822  aky/Iv8hMp1/V/yQHLtaVuEmmAxkB5GuasQZePJ7NU4=\n",
      "                                           msno  is_churn\n",
      "0  4n+fXlyJvfQnTeKXTWT507Ll4JVYGrOC8LHCfwBmPE4=  0.018822\n",
      "1  aNmbC1GvFUxQyQUidCVmfbQ0YeCuwkPzEdQ0RwWyeZM=  0.018822\n",
      "2  rFC9eSG/tMuzpre6cwcMLZHEYM89xY02qcz7HL4//jc=  0.056930\n",
      "3  WZ59dLyrQcE7ft06MZ5dj40BnlYQY7PHgg/54+HaCSE=  0.018822\n",
      "4  aky/Iv8hMp1/V/yQHLtaVuEmmAxkB5GuasQZePJ7NU4=  0.018822\n",
      "msno        907471\n",
      "is_churn    907471\n",
      "dtype: int64\n",
      "Done! :-)\n"
     ]
    }
   ],
   "source": [
    "#Prepare submission file ADA\n",
    "y_pred = ada_b(total_data,apr_data,1)\n",
    "my_submission = pd.DataFrame({'msno': apr_data.msno, 'is_churn': y_pred})\n",
    "print(my_submission.head())\n",
    "cols = my_submission.columns.tolist()\n",
    "cols = cols[-1:] + cols[:-1]\n",
    "my_submission = my_submission[cols]\n",
    "print(my_submission.head())\n",
    "print(my_submission.count())\n",
    "\n",
    "my_submission.to_csv('submission_ada.csv', index=False)\n",
    "print('Done! :-)')"
   ]
  },
  {
   "cell_type": "markdown",
   "metadata": {},
   "source": [
    "##### Logistic Regression"
   ]
  },
  {
   "cell_type": "code",
   "execution_count": 66,
   "metadata": {},
   "outputs": [
    {
     "name": "stderr",
     "output_type": "stream",
     "text": [
      "/Users/maximekayser/miniconda3/envs/kkbox/lib/python3.6/site-packages/scipy/optimize/linesearch.py:461: LineSearchWarning: The line search algorithm did not converge\n",
      "  warn('The line search algorithm did not converge', LineSearchWarning)\n",
      "/Users/maximekayser/miniconda3/envs/kkbox/lib/python3.6/site-packages/scipy/optimize/linesearch.py:312: LineSearchWarning: The line search algorithm did not converge\n",
      "  warn('The line search algorithm did not converge', LineSearchWarning)\n",
      "/Users/maximekayser/miniconda3/envs/kkbox/lib/python3.6/site-packages/sklearn/utils/optimize.py:195: UserWarning: Line Search failed\n",
      "  warnings.warn('Line Search failed')\n"
     ]
    },
    {
     "name": "stdout",
     "output_type": "stream",
     "text": [
      "   is_churn                                          msno\n",
      "0         0  4n+fXlyJvfQnTeKXTWT507Ll4JVYGrOC8LHCfwBmPE4=\n",
      "1         0  aNmbC1GvFUxQyQUidCVmfbQ0YeCuwkPzEdQ0RwWyeZM=\n",
      "2         0  rFC9eSG/tMuzpre6cwcMLZHEYM89xY02qcz7HL4//jc=\n",
      "3         0  WZ59dLyrQcE7ft06MZ5dj40BnlYQY7PHgg/54+HaCSE=\n",
      "4         0  aky/Iv8hMp1/V/yQHLtaVuEmmAxkB5GuasQZePJ7NU4=\n",
      "                                           msno  is_churn\n",
      "0  4n+fXlyJvfQnTeKXTWT507Ll4JVYGrOC8LHCfwBmPE4=         0\n",
      "1  aNmbC1GvFUxQyQUidCVmfbQ0YeCuwkPzEdQ0RwWyeZM=         0\n",
      "2  rFC9eSG/tMuzpre6cwcMLZHEYM89xY02qcz7HL4//jc=         0\n",
      "3  WZ59dLyrQcE7ft06MZ5dj40BnlYQY7PHgg/54+HaCSE=         0\n",
      "4  aky/Iv8hMp1/V/yQHLtaVuEmmAxkB5GuasQZePJ7NU4=         0\n",
      "msno        907471\n",
      "is_churn    907471\n",
      "dtype: int64\n",
      "Done! :-)\n"
     ]
    }
   ],
   "source": [
    "#Prepare submission file Logistic Regression\n",
    "y_pred = log_reg(total_data,apr_data,1)\n",
    "my_submission = pd.DataFrame({'msno': apr_data.msno, 'is_churn': y_pred})\n",
    "print(my_submission.head())\n",
    "cols = my_submission.columns.tolist()\n",
    "cols = cols[-1:] + cols[:-1]\n",
    "my_submission = my_submission[cols]\n",
    "print(my_submission.head())\n",
    "print(my_submission.count())\n",
    "\n",
    "my_submission.to_csv('submission_lr.csv', index=False)\n",
    "print('Done! :-)')"
   ]
  },
  {
   "cell_type": "markdown",
   "metadata": {},
   "source": [
    "##### Random Forrest"
   ]
  },
  {
   "cell_type": "code",
   "execution_count": 57,
   "metadata": {},
   "outputs": [
    {
     "name": "stdout",
     "output_type": "stream",
     "text": [
      "   is_churn                                          msno\n",
      "0      0.30  4n+fXlyJvfQnTeKXTWT507Ll4JVYGrOC8LHCfwBmPE4=\n",
      "1      0.20  aNmbC1GvFUxQyQUidCVmfbQ0YeCuwkPzEdQ0RwWyeZM=\n",
      "2      0.00  rFC9eSG/tMuzpre6cwcMLZHEYM89xY02qcz7HL4//jc=\n",
      "3      0.00  WZ59dLyrQcE7ft06MZ5dj40BnlYQY7PHgg/54+HaCSE=\n",
      "4      0.45  aky/Iv8hMp1/V/yQHLtaVuEmmAxkB5GuasQZePJ7NU4=\n",
      "                                           msno  is_churn\n",
      "0  4n+fXlyJvfQnTeKXTWT507Ll4JVYGrOC8LHCfwBmPE4=      0.30\n",
      "1  aNmbC1GvFUxQyQUidCVmfbQ0YeCuwkPzEdQ0RwWyeZM=      0.20\n",
      "2  rFC9eSG/tMuzpre6cwcMLZHEYM89xY02qcz7HL4//jc=      0.00\n",
      "3  WZ59dLyrQcE7ft06MZ5dj40BnlYQY7PHgg/54+HaCSE=      0.00\n",
      "4  aky/Iv8hMp1/V/yQHLtaVuEmmAxkB5GuasQZePJ7NU4=      0.45\n",
      "msno        907471\n",
      "is_churn    907471\n",
      "dtype: int64\n",
      "Done! :-)\n"
     ]
    }
   ],
   "source": [
    "#Prepare submission file Random Forrest\n",
    "y_pred = ran_for(total_data,apr_data,0,1)\n",
    "my_submission = pd.DataFrame({'msno': apr_data.msno, 'is_churn': y_pred})\n",
    "print(my_submission.head())\n",
    "cols = my_submission.columns.tolist()\n",
    "cols = cols[-1:] + cols[:-1]\n",
    "my_submission = my_submission[cols]\n",
    "print(my_submission.head())\n",
    "print(my_submission.count())\n",
    "\n",
    "my_submission.to_csv('submission_rf.csv', index=False)\n",
    "print('Done! :-)')"
   ]
  },
  {
   "cell_type": "markdown",
   "metadata": {},
   "source": [
    "#### 5.2.2 Testing XG Boost with only v1 / only v2 data"
   ]
  },
  {
   "cell_type": "markdown",
   "metadata": {},
   "source": [
    "##### February (v1)"
   ]
  },
  {
   "cell_type": "code",
   "execution_count": 47,
   "metadata": {},
   "outputs": [
    {
     "name": "stdout",
     "output_type": "stream",
     "text": [
      "   is_churn                                          msno\n",
      "0  0.002781  4n+fXlyJvfQnTeKXTWT507Ll4JVYGrOC8LHCfwBmPE4=\n",
      "1  0.002713  aNmbC1GvFUxQyQUidCVmfbQ0YeCuwkPzEdQ0RwWyeZM=\n",
      "2  0.029647  rFC9eSG/tMuzpre6cwcMLZHEYM89xY02qcz7HL4//jc=\n",
      "3  0.002781  WZ59dLyrQcE7ft06MZ5dj40BnlYQY7PHgg/54+HaCSE=\n",
      "4  0.006030  aky/Iv8hMp1/V/yQHLtaVuEmmAxkB5GuasQZePJ7NU4=\n",
      "                                           msno  is_churn\n",
      "0  4n+fXlyJvfQnTeKXTWT507Ll4JVYGrOC8LHCfwBmPE4=  0.002781\n",
      "1  aNmbC1GvFUxQyQUidCVmfbQ0YeCuwkPzEdQ0RwWyeZM=  0.002713\n",
      "2  rFC9eSG/tMuzpre6cwcMLZHEYM89xY02qcz7HL4//jc=  0.029647\n",
      "3  WZ59dLyrQcE7ft06MZ5dj40BnlYQY7PHgg/54+HaCSE=  0.002781\n",
      "4  aky/Iv8hMp1/V/yQHLtaVuEmmAxkB5GuasQZePJ7NU4=  0.006030\n",
      "msno        907471\n",
      "is_churn    907471\n",
      "dtype: int64\n",
      "Done! :-)\n"
     ]
    }
   ],
   "source": [
    "#Prepare submission file February\n",
    "y_pred_xgb = xgb_boost(feb_data,apr_data,0,1)\n",
    "my_submission = pd.DataFrame({'msno': apr_data.msno, 'is_churn': y_pred_xgb})\n",
    "print(my_submission.head())\n",
    "cols = my_submission.columns.tolist()\n",
    "cols = cols[-1:] + cols[:-1]\n",
    "my_submission = my_submission[cols]\n",
    "print(my_submission.head())\n",
    "print(my_submission.count())\n",
    "\n",
    "my_submission.to_csv('submission_feb.csv', index=False)\n",
    "print('Done! :-)')"
   ]
  },
  {
   "cell_type": "markdown",
   "metadata": {},
   "source": [
    "##### March (v2)"
   ]
  },
  {
   "cell_type": "code",
   "execution_count": 46,
   "metadata": {},
   "outputs": [
    {
     "name": "stdout",
     "output_type": "stream",
     "text": [
      "   is_churn                                          msno\n",
      "0  0.031892  4n+fXlyJvfQnTeKXTWT507Ll4JVYGrOC8LHCfwBmPE4=\n",
      "1  0.016200  aNmbC1GvFUxQyQUidCVmfbQ0YeCuwkPzEdQ0RwWyeZM=\n",
      "2  0.071621  rFC9eSG/tMuzpre6cwcMLZHEYM89xY02qcz7HL4//jc=\n",
      "3  0.031892  WZ59dLyrQcE7ft06MZ5dj40BnlYQY7PHgg/54+HaCSE=\n",
      "4  0.061079  aky/Iv8hMp1/V/yQHLtaVuEmmAxkB5GuasQZePJ7NU4=\n",
      "                                           msno  is_churn\n",
      "0  4n+fXlyJvfQnTeKXTWT507Ll4JVYGrOC8LHCfwBmPE4=  0.031892\n",
      "1  aNmbC1GvFUxQyQUidCVmfbQ0YeCuwkPzEdQ0RwWyeZM=  0.016200\n",
      "2  rFC9eSG/tMuzpre6cwcMLZHEYM89xY02qcz7HL4//jc=  0.071621\n",
      "3  WZ59dLyrQcE7ft06MZ5dj40BnlYQY7PHgg/54+HaCSE=  0.031892\n",
      "4  aky/Iv8hMp1/V/yQHLtaVuEmmAxkB5GuasQZePJ7NU4=  0.061079\n",
      "msno        907471\n",
      "is_churn    907471\n",
      "dtype: int64\n",
      "Done! :-)\n"
     ]
    }
   ],
   "source": [
    "#Prepare submission file March\n",
    "y_pred_xgb = xgb_boost(mar_data,apr_data,0,1)\n",
    "my_submission = pd.DataFrame({'msno': apr_data.msno, 'is_churn': y_pred_xgb})\n",
    "print(my_submission.head())\n",
    "cols = my_submission.columns.tolist()\n",
    "cols = cols[-1:] + cols[:-1]\n",
    "my_submission = my_submission[cols]\n",
    "print(my_submission.head())\n",
    "print(my_submission.count())\n",
    "\n",
    "my_submission.to_csv('submission_mar.csv', index=False)\n",
    "print('Done! :-)')"
   ]
  },
  {
   "cell_type": "markdown",
   "metadata": {},
   "source": [
    "#### 5.2.3 XG Boost on the feature engineered dataset"
   ]
  },
  {
   "cell_type": "code",
   "execution_count": 82,
   "metadata": {},
   "outputs": [
    {
     "name": "stdout",
     "output_type": "stream",
     "text": [
      "   is_churn                                          msno\n",
      "0  0.012652  4n+fXlyJvfQnTeKXTWT507Ll4JVYGrOC8LHCfwBmPE4=\n",
      "1  0.007016  aNmbC1GvFUxQyQUidCVmfbQ0YeCuwkPzEdQ0RwWyeZM=\n",
      "2  0.045187  rFC9eSG/tMuzpre6cwcMLZHEYM89xY02qcz7HL4//jc=\n",
      "3  0.012652  WZ59dLyrQcE7ft06MZ5dj40BnlYQY7PHgg/54+HaCSE=\n",
      "4  0.020476  aky/Iv8hMp1/V/yQHLtaVuEmmAxkB5GuasQZePJ7NU4=\n",
      "                                           msno  is_churn\n",
      "0  4n+fXlyJvfQnTeKXTWT507Ll4JVYGrOC8LHCfwBmPE4=  0.012652\n",
      "1  aNmbC1GvFUxQyQUidCVmfbQ0YeCuwkPzEdQ0RwWyeZM=  0.007016\n",
      "2  rFC9eSG/tMuzpre6cwcMLZHEYM89xY02qcz7HL4//jc=  0.045187\n",
      "3  WZ59dLyrQcE7ft06MZ5dj40BnlYQY7PHgg/54+HaCSE=  0.012652\n",
      "4  aky/Iv8hMp1/V/yQHLtaVuEmmAxkB5GuasQZePJ7NU4=  0.020476\n",
      "msno        907471\n",
      "is_churn    907471\n",
      "dtype: int64\n",
      "Done! :-)\n"
     ]
    }
   ],
   "source": [
    "#Prepare submission file TWEAK\n",
    "y_pred_xgb = xgb_boost(total_data_tweak,apr_data_tweak,0,1)\n",
    "my_submission = pd.DataFrame({'msno': apr_data_tweak.msno, 'is_churn': y_pred_xgb})\n",
    "print(my_submission.head())\n",
    "cols = my_submission.columns.tolist()\n",
    "cols = cols[-1:] + cols[:-1]\n",
    "my_submission = my_submission[cols]\n",
    "print(my_submission.head())\n",
    "print(my_submission.count())\n",
    "\n",
    "my_submission.to_csv('submission_twk.csv', index=False)\n",
    "print('Done! :-)')"
   ]
  },
  {
   "cell_type": "code",
   "execution_count": null,
   "metadata": {},
   "outputs": [],
   "source": []
  }
 ],
 "metadata": {
  "kernelspec": {
   "display_name": "Python 3",
   "language": "python",
   "name": "python3"
  },
  "language_info": {
   "codemirror_mode": {
    "name": "ipython",
    "version": 3
   },
   "file_extension": ".py",
   "mimetype": "text/x-python",
   "name": "python",
   "nbconvert_exporter": "python",
   "pygments_lexer": "ipython3",
   "version": "3.6.4"
  }
 },
 "nbformat": 4,
 "nbformat_minor": 2
}
