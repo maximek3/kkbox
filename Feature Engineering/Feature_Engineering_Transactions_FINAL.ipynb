{
 "cells": [
  {
   "cell_type": "markdown",
   "metadata": {},
   "source": [
    "# Feature Engineering \"transactions\"\n",
    "<img src=\"https://cdn2.iconfinder.com/data/icons/webstore/512/dollar_money_bag-512.png\" border=\"1\" alt=\"Dataframe transactions\" width=\"200\" height=\"150\">"
   ]
  },
  {
   "cell_type": "markdown",
   "metadata": {},
   "source": [
    "This Python Notebook generates features for \"transactions.csv\" or \"transactions_v2.csv\" (depending if you want to obtain the file for training, until March 2017, or for testing, until April 2017). Later, it exports this wanted file into a folder called data. \n",
    "\n",
    "I will explain which lines you need to change but writing \"TO BE CHANGED IF NEEDED\" in Python comments in the line above.\n",
    "\n",
    "In this file, there are:\n",
    "- Features have been removed after checking that they did not improve the score (maybe due to **overfitting**).\n",
    "- Features added and hot-encoded so that XGBoost has a better performance.\n",
    "- Group the features by \"msno\" and add its values so that we only keep 1 row - 1 msno.\n",
    "\n",
    "In the notebook \"churn_prediction\" then I will load \"final_transactions\" to create the prediction."
   ]
  },
  {
   "cell_type": "code",
   "execution_count": 1,
   "metadata": {},
   "outputs": [
    {
     "name": "stderr",
     "output_type": "stream",
     "text": [
      "/Users/pablodepaz/anaconda3/lib/python3.6/site-packages/ipykernel_launcher.py:11: FutureWarning: The pandas.lib module is deprecated and will be removed in a future version. These are private functions and can be accessed from pandas._libs.lib instead\n",
      "  # This is added back by InteractiveShellApp.init_path()\n"
     ]
    }
   ],
   "source": [
    "#Import the relevant libraries\n",
    "import pandas as pd\n",
    "import numpy as np\n",
    "import matplotlib.pyplot as plt\n",
    "import mpld3\n",
    "import seaborn as sns\n",
    "import matplotlib.dates as mdates\n",
    "import time\n",
    "import datetime\n",
    "from datetime import datetime as dt\n",
    "from pandas.lib import Timestamp\n",
    "\n",
    "#Configure Panda\n",
    "pd.options.display.width = 200"
   ]
  },
  {
   "cell_type": "markdown",
   "metadata": {},
   "source": [
    "## 1. Data import and Feature Engineering"
   ]
  },
  {
   "cell_type": "code",
   "execution_count": 2,
   "metadata": {},
   "outputs": [
    {
     "name": "stdout",
     "output_type": "stream",
     "text": [
      "Data loaded!\n"
     ]
    }
   ],
   "source": [
    "#TO BE CHANGED IF NEEDED\n",
    "\n",
    "#Load transactions dataframe (use this if you want to predict for April 2017)\n",
    "#trans = pd.read_csv(\"data/transactions.csv\")\n",
    "#trans_v2 = pd.read_csv(\"data/transactions_v2.csv\")\n",
    "#print('Data loaded!')\n",
    "#transactions = pd.concat([trans, trans_v2])\n",
    "#print('Concat done!')\n",
    "\n",
    "#Load transactions dataframe (use this if you want to predict for March 2017)\n",
    "transactions = pd.read_csv(\"data/transactions.csv\")\n",
    "print('Data loaded!')"
   ]
  },
  {
   "cell_type": "code",
   "execution_count": 3,
   "metadata": {},
   "outputs": [
    {
     "data": {
      "text/html": [
       "<div>\n",
       "<style scoped>\n",
       "    .dataframe tbody tr th:only-of-type {\n",
       "        vertical-align: middle;\n",
       "    }\n",
       "\n",
       "    .dataframe tbody tr th {\n",
       "        vertical-align: top;\n",
       "    }\n",
       "\n",
       "    .dataframe thead th {\n",
       "        text-align: right;\n",
       "    }\n",
       "</style>\n",
       "<table border=\"1\" class=\"dataframe\">\n",
       "  <thead>\n",
       "    <tr style=\"text-align: right;\">\n",
       "      <th></th>\n",
       "      <th>msno</th>\n",
       "      <th>payment_method_id</th>\n",
       "      <th>payment_plan_days</th>\n",
       "      <th>plan_list_price</th>\n",
       "      <th>actual_amount_paid</th>\n",
       "      <th>is_auto_renew</th>\n",
       "      <th>transaction_date</th>\n",
       "      <th>membership_expire_date</th>\n",
       "      <th>is_cancel</th>\n",
       "    </tr>\n",
       "  </thead>\n",
       "  <tbody>\n",
       "    <tr>\n",
       "      <th>0</th>\n",
       "      <td>YyO+tlZtAXYXoZhNr3Vg3+dfVQvrBVGO8j1mfqe4ZHc=</td>\n",
       "      <td>41</td>\n",
       "      <td>30</td>\n",
       "      <td>129</td>\n",
       "      <td>129</td>\n",
       "      <td>1</td>\n",
       "      <td>20150930</td>\n",
       "      <td>20151101</td>\n",
       "      <td>0</td>\n",
       "    </tr>\n",
       "    <tr>\n",
       "      <th>1</th>\n",
       "      <td>AZtu6Wl0gPojrEQYB8Q3vBSmE2wnZ3hi1FbK1rQQ0A4=</td>\n",
       "      <td>41</td>\n",
       "      <td>30</td>\n",
       "      <td>149</td>\n",
       "      <td>149</td>\n",
       "      <td>1</td>\n",
       "      <td>20150930</td>\n",
       "      <td>20151031</td>\n",
       "      <td>0</td>\n",
       "    </tr>\n",
       "    <tr>\n",
       "      <th>2</th>\n",
       "      <td>UkDFI97Qb6+s2LWcijVVv4rMAsORbVDT2wNXF0aVbns=</td>\n",
       "      <td>41</td>\n",
       "      <td>30</td>\n",
       "      <td>129</td>\n",
       "      <td>129</td>\n",
       "      <td>1</td>\n",
       "      <td>20150930</td>\n",
       "      <td>20160427</td>\n",
       "      <td>0</td>\n",
       "    </tr>\n",
       "    <tr>\n",
       "      <th>3</th>\n",
       "      <td>M1C56ijxozNaGD0t2h68PnH2xtx5iO5iR2MVYQB6nBI=</td>\n",
       "      <td>39</td>\n",
       "      <td>30</td>\n",
       "      <td>149</td>\n",
       "      <td>149</td>\n",
       "      <td>1</td>\n",
       "      <td>20150930</td>\n",
       "      <td>20151128</td>\n",
       "      <td>0</td>\n",
       "    </tr>\n",
       "    <tr>\n",
       "      <th>4</th>\n",
       "      <td>yvj6zyBUaqdbUQSrKsrZ+xNDVM62knauSZJzakS9OW4=</td>\n",
       "      <td>39</td>\n",
       "      <td>30</td>\n",
       "      <td>149</td>\n",
       "      <td>149</td>\n",
       "      <td>1</td>\n",
       "      <td>20150930</td>\n",
       "      <td>20151121</td>\n",
       "      <td>0</td>\n",
       "    </tr>\n",
       "  </tbody>\n",
       "</table>\n",
       "</div>"
      ],
      "text/plain": [
       "                                           msno  payment_method_id  payment_plan_days  plan_list_price  actual_amount_paid  is_auto_renew  transaction_date  membership_expire_date  is_cancel\n",
       "0  YyO+tlZtAXYXoZhNr3Vg3+dfVQvrBVGO8j1mfqe4ZHc=                 41                 30              129                 129              1          20150930                20151101          0\n",
       "1  AZtu6Wl0gPojrEQYB8Q3vBSmE2wnZ3hi1FbK1rQQ0A4=                 41                 30              149                 149              1          20150930                20151031          0\n",
       "2  UkDFI97Qb6+s2LWcijVVv4rMAsORbVDT2wNXF0aVbns=                 41                 30              129                 129              1          20150930                20160427          0\n",
       "3  M1C56ijxozNaGD0t2h68PnH2xtx5iO5iR2MVYQB6nBI=                 39                 30              149                 149              1          20150930                20151128          0\n",
       "4  yvj6zyBUaqdbUQSrKsrZ+xNDVM62knauSZJzakS9OW4=                 39                 30              149                 149              1          20150930                20151121          0"
      ]
     },
     "execution_count": 3,
     "metadata": {},
     "output_type": "execute_result"
    }
   ],
   "source": [
    "#Look at the first values in transactions:\n",
    "transactions.head()"
   ]
  },
  {
   "cell_type": "code",
   "execution_count": 4,
   "metadata": {},
   "outputs": [
    {
     "name": "stdout",
     "output_type": "stream",
     "text": [
      "(21547746, 9)\n"
     ]
    }
   ],
   "source": [
    "print(transactions.shape)"
   ]
  },
  {
   "cell_type": "code",
   "execution_count": 5,
   "metadata": {},
   "outputs": [],
   "source": [
    "#Remove rows whose transaction_date is in February or more!\n",
    "#Use transactions_v1 and train_v1\n",
    "transactions = transactions.query('transaction_date < 20170201')\n",
    "#I TAKE OUT 908263 VALUES WHOSE TRANSACTION DATE IS IN FEBRUARY OR ON!"
   ]
  },
  {
   "cell_type": "code",
   "execution_count": 6,
   "metadata": {},
   "outputs": [],
   "source": [
    "#transactions.head()"
   ]
  },
  {
   "cell_type": "code",
   "execution_count": 8,
   "metadata": {},
   "outputs": [
    {
     "name": "stdout",
     "output_type": "stream",
     "text": [
      "msno                      2330992\n",
      "payment_method_id              40\n",
      "payment_plan_days              37\n",
      "plan_list_price                51\n",
      "actual_amount_paid             57\n",
      "is_auto_renew                   2\n",
      "transaction_date              762\n",
      "membership_expire_date       1559\n",
      "is_cancel                       2\n",
      "dtype: int64\n",
      "\n",
      "Number of rows & columns \"TRANSACTIONS\":  (20639483, 9)\n"
     ]
    }
   ],
   "source": [
    "#Look at number of unique values in each feature:\n",
    "print(transactions.nunique())\n",
    "print('')\n",
    "print('Number of rows & columns \"TRANSACTIONS\": ', transactions.shape)"
   ]
  },
  {
   "cell_type": "markdown",
   "metadata": {},
   "source": [
    "There are 9 columns. One of them is MSNO so, there are 8 features.\n",
    "<br/> Next, I will:\n",
    "- Change dates to _dtype_ to be able to operate with them.\n",
    "- Compute \"maximum expiration date\" for each msno\n",
    "- Feature Engineering"
   ]
  },
  {
   "cell_type": "markdown",
   "metadata": {},
   "source": [
    "### 1.1. Change dates to _dype_\n",
    "It takes around 12 min"
   ]
  },
  {
   "cell_type": "code",
   "execution_count": 9,
   "metadata": {},
   "outputs": [
    {
     "data": {
      "text/html": [
       "<div>\n",
       "<style scoped>\n",
       "    .dataframe tbody tr th:only-of-type {\n",
       "        vertical-align: middle;\n",
       "    }\n",
       "\n",
       "    .dataframe tbody tr th {\n",
       "        vertical-align: top;\n",
       "    }\n",
       "\n",
       "    .dataframe thead th {\n",
       "        text-align: right;\n",
       "    }\n",
       "</style>\n",
       "<table border=\"1\" class=\"dataframe\">\n",
       "  <thead>\n",
       "    <tr style=\"text-align: right;\">\n",
       "      <th></th>\n",
       "      <th>msno</th>\n",
       "      <th>payment_method_id</th>\n",
       "      <th>payment_plan_days</th>\n",
       "      <th>plan_list_price</th>\n",
       "      <th>actual_amount_paid</th>\n",
       "      <th>is_auto_renew</th>\n",
       "      <th>transaction_date</th>\n",
       "      <th>membership_expire_date</th>\n",
       "      <th>is_cancel</th>\n",
       "      <th>transaction_date_dtype</th>\n",
       "      <th>membership_expire_date_dtype</th>\n",
       "    </tr>\n",
       "  </thead>\n",
       "  <tbody>\n",
       "    <tr>\n",
       "      <th>0</th>\n",
       "      <td>YyO+tlZtAXYXoZhNr3Vg3+dfVQvrBVGO8j1mfqe4ZHc=</td>\n",
       "      <td>41</td>\n",
       "      <td>30</td>\n",
       "      <td>129</td>\n",
       "      <td>129</td>\n",
       "      <td>1</td>\n",
       "      <td>20150930</td>\n",
       "      <td>20151101</td>\n",
       "      <td>0</td>\n",
       "      <td>2015-09-30</td>\n",
       "      <td>2015-11-01</td>\n",
       "    </tr>\n",
       "    <tr>\n",
       "      <th>1</th>\n",
       "      <td>AZtu6Wl0gPojrEQYB8Q3vBSmE2wnZ3hi1FbK1rQQ0A4=</td>\n",
       "      <td>41</td>\n",
       "      <td>30</td>\n",
       "      <td>149</td>\n",
       "      <td>149</td>\n",
       "      <td>1</td>\n",
       "      <td>20150930</td>\n",
       "      <td>20151031</td>\n",
       "      <td>0</td>\n",
       "      <td>2015-09-30</td>\n",
       "      <td>2015-10-31</td>\n",
       "    </tr>\n",
       "    <tr>\n",
       "      <th>2</th>\n",
       "      <td>UkDFI97Qb6+s2LWcijVVv4rMAsORbVDT2wNXF0aVbns=</td>\n",
       "      <td>41</td>\n",
       "      <td>30</td>\n",
       "      <td>129</td>\n",
       "      <td>129</td>\n",
       "      <td>1</td>\n",
       "      <td>20150930</td>\n",
       "      <td>20160427</td>\n",
       "      <td>0</td>\n",
       "      <td>2015-09-30</td>\n",
       "      <td>2016-04-27</td>\n",
       "    </tr>\n",
       "    <tr>\n",
       "      <th>3</th>\n",
       "      <td>M1C56ijxozNaGD0t2h68PnH2xtx5iO5iR2MVYQB6nBI=</td>\n",
       "      <td>39</td>\n",
       "      <td>30</td>\n",
       "      <td>149</td>\n",
       "      <td>149</td>\n",
       "      <td>1</td>\n",
       "      <td>20150930</td>\n",
       "      <td>20151128</td>\n",
       "      <td>0</td>\n",
       "      <td>2015-09-30</td>\n",
       "      <td>2015-11-28</td>\n",
       "    </tr>\n",
       "    <tr>\n",
       "      <th>4</th>\n",
       "      <td>yvj6zyBUaqdbUQSrKsrZ+xNDVM62knauSZJzakS9OW4=</td>\n",
       "      <td>39</td>\n",
       "      <td>30</td>\n",
       "      <td>149</td>\n",
       "      <td>149</td>\n",
       "      <td>1</td>\n",
       "      <td>20150930</td>\n",
       "      <td>20151121</td>\n",
       "      <td>0</td>\n",
       "      <td>2015-09-30</td>\n",
       "      <td>2015-11-21</td>\n",
       "    </tr>\n",
       "  </tbody>\n",
       "</table>\n",
       "</div>"
      ],
      "text/plain": [
       "                                           msno  payment_method_id  payment_plan_days  plan_list_price  actual_amount_paid  is_auto_renew  transaction_date  membership_expire_date  is_cancel  \\\n",
       "0  YyO+tlZtAXYXoZhNr3Vg3+dfVQvrBVGO8j1mfqe4ZHc=                 41                 30              129                 129              1          20150930                20151101          0   \n",
       "1  AZtu6Wl0gPojrEQYB8Q3vBSmE2wnZ3hi1FbK1rQQ0A4=                 41                 30              149                 149              1          20150930                20151031          0   \n",
       "2  UkDFI97Qb6+s2LWcijVVv4rMAsORbVDT2wNXF0aVbns=                 41                 30              129                 129              1          20150930                20160427          0   \n",
       "3  M1C56ijxozNaGD0t2h68PnH2xtx5iO5iR2MVYQB6nBI=                 39                 30              149                 149              1          20150930                20151128          0   \n",
       "4  yvj6zyBUaqdbUQSrKsrZ+xNDVM62knauSZJzakS9OW4=                 39                 30              149                 149              1          20150930                20151121          0   \n",
       "\n",
       "  transaction_date_dtype membership_expire_date_dtype  \n",
       "0             2015-09-30                   2015-11-01  \n",
       "1             2015-09-30                   2015-10-31  \n",
       "2             2015-09-30                   2016-04-27  \n",
       "3             2015-09-30                   2015-11-28  \n",
       "4             2015-09-30                   2015-11-21  "
      ]
     },
     "execution_count": 9,
     "metadata": {},
     "output_type": "execute_result"
    }
   ],
   "source": [
    "transactions['transaction_date_dtype'] = transactions.transaction_date.apply(lambda x: dt.strptime(str(int(x)), \"%Y%m%d\").date() if pd.notnull(x) else \"NAN\" )\n",
    "transactions['membership_expire_date_dtype'] = transactions.membership_expire_date.apply(lambda x: dt.strptime(str(int(x)), \"%Y%m%d\").date() if pd.notnull(x) else \"NAN\" )\n",
    "transactions.head()"
   ]
  },
  {
   "cell_type": "markdown",
   "metadata": {},
   "source": [
    "### <font color='red'>Now, for each feature I need to compute by **grouping** the sum of the value the feature is related to.</font>"
   ]
  },
  {
   "cell_type": "markdown",
   "metadata": {},
   "source": [
    "### 1.2. \"Dataframe\" and \"new file\": max_expire_date (for a given _msno_)\n",
    "The following line of code normally takes like 1h - 1:30h to run! Be patient...\n",
    "<font color='red'>UPDATE:</font> **I crated this file for:**\n",
    "- 1) Whole file transactions_v2 **(max_expire_date_df_v2_all_file.csv)**\n",
    "- 2) Concat file of transactions and transactions_v2 **(max_expire_date_df_v1_v2.csv)**\n",
    "- 3) Whole file of transactions **(max_expire_date_df_v1.csv)**\n",
    "- 4) 3M rows of transactions and whole transactions_v2 **(max_expire_date_df_v1_v2_3M_rows.csv)**. This one was for testing.\n",
    "<br/><br/>You do not need to compute it again, so I just put it as \"plain text\""
   ]
  },
  {
   "cell_type": "markdown",
   "metadata": {},
   "source": [
    "max_expire_date_df = transactions.groupby('msno', as_index=False)['membership_expire_date_dtype'].max()\n",
    "print('Done!')"
   ]
  },
  {
   "cell_type": "markdown",
   "metadata": {},
   "source": [
    "#New dataframe\n",
    "max_expire_date_df.head()\n",
    "#print(max_expire_date_df.shape)\n",
    "#print(max_expire_date_df.count())\n",
    "#print(max_expire_date_df.nunique()) #It is correct!"
   ]
  },
  {
   "cell_type": "markdown",
   "metadata": {},
   "source": [
    "I will save this as a new .csv file to avoid computing it in the future (as it takes a lot of time)."
   ]
  },
  {
   "cell_type": "markdown",
   "metadata": {},
   "source": [
    "#TO BE CHANGED IF NEEDED\n",
    "max_expire_date_df.to_csv('data/max_expire_date_df_v1_feb.csv', index = False)\n",
    "print('Done :)')"
   ]
  },
  {
   "cell_type": "markdown",
   "metadata": {},
   "source": [
    "<img src=\"https://www.calshrm.org/images/soft%20slit%20separator.png?crc=4104113101\" border=\"1\" alt=\"Dataframe transactions\" width=\"400\" height=\"100\">\n"
   ]
  },
  {
   "cell_type": "markdown",
   "metadata": {},
   "source": [
    "### 1.3. <font color='red'>\"Feature\"</font>: membership duration (in total for al records of the same user) <font color='red'>mem_duration</font>\n",
    "\n",
    "Difference between transaction_date and membership_expire_date. The difference is in terms of days (integer).\n",
    "\n",
    "Later, I will compute the sum of all for each user (at the end of this file) by grouping them!\n",
    "\n",
    "This line takes around 5 min"
   ]
  },
  {
   "cell_type": "code",
   "execution_count": 13,
   "metadata": {},
   "outputs": [],
   "source": [
    "#--- difference in days ---\n",
    "transactions['mem_duration'] = transactions.membership_expire_date_dtype - transactions.transaction_date_dtype\n",
    "transactions['mem_duration'] = transactions['mem_duration'] / np.timedelta64(1, 'D')\n",
    "transactions['mem_duration'] = transactions['mem_duration'].astype(int)"
   ]
  },
  {
   "cell_type": "code",
   "execution_count": 14,
   "metadata": {},
   "outputs": [
    {
     "data": {
      "text/html": [
       "<div>\n",
       "<style scoped>\n",
       "    .dataframe tbody tr th:only-of-type {\n",
       "        vertical-align: middle;\n",
       "    }\n",
       "\n",
       "    .dataframe tbody tr th {\n",
       "        vertical-align: top;\n",
       "    }\n",
       "\n",
       "    .dataframe thead th {\n",
       "        text-align: right;\n",
       "    }\n",
       "</style>\n",
       "<table border=\"1\" class=\"dataframe\">\n",
       "  <thead>\n",
       "    <tr style=\"text-align: right;\">\n",
       "      <th></th>\n",
       "      <th>msno</th>\n",
       "      <th>payment_method_id</th>\n",
       "      <th>payment_plan_days</th>\n",
       "      <th>plan_list_price</th>\n",
       "      <th>actual_amount_paid</th>\n",
       "      <th>is_auto_renew</th>\n",
       "      <th>transaction_date</th>\n",
       "      <th>membership_expire_date</th>\n",
       "      <th>is_cancel</th>\n",
       "      <th>transaction_date_dtype</th>\n",
       "      <th>membership_expire_date_dtype</th>\n",
       "      <th>mem_duration</th>\n",
       "    </tr>\n",
       "  </thead>\n",
       "  <tbody>\n",
       "    <tr>\n",
       "      <th>0</th>\n",
       "      <td>YyO+tlZtAXYXoZhNr3Vg3+dfVQvrBVGO8j1mfqe4ZHc=</td>\n",
       "      <td>41</td>\n",
       "      <td>30</td>\n",
       "      <td>129</td>\n",
       "      <td>129</td>\n",
       "      <td>1</td>\n",
       "      <td>20150930</td>\n",
       "      <td>20151101</td>\n",
       "      <td>0</td>\n",
       "      <td>2015-09-30</td>\n",
       "      <td>2015-11-01</td>\n",
       "      <td>32</td>\n",
       "    </tr>\n",
       "    <tr>\n",
       "      <th>1</th>\n",
       "      <td>AZtu6Wl0gPojrEQYB8Q3vBSmE2wnZ3hi1FbK1rQQ0A4=</td>\n",
       "      <td>41</td>\n",
       "      <td>30</td>\n",
       "      <td>149</td>\n",
       "      <td>149</td>\n",
       "      <td>1</td>\n",
       "      <td>20150930</td>\n",
       "      <td>20151031</td>\n",
       "      <td>0</td>\n",
       "      <td>2015-09-30</td>\n",
       "      <td>2015-10-31</td>\n",
       "      <td>31</td>\n",
       "    </tr>\n",
       "    <tr>\n",
       "      <th>2</th>\n",
       "      <td>UkDFI97Qb6+s2LWcijVVv4rMAsORbVDT2wNXF0aVbns=</td>\n",
       "      <td>41</td>\n",
       "      <td>30</td>\n",
       "      <td>129</td>\n",
       "      <td>129</td>\n",
       "      <td>1</td>\n",
       "      <td>20150930</td>\n",
       "      <td>20160427</td>\n",
       "      <td>0</td>\n",
       "      <td>2015-09-30</td>\n",
       "      <td>2016-04-27</td>\n",
       "      <td>210</td>\n",
       "    </tr>\n",
       "    <tr>\n",
       "      <th>3</th>\n",
       "      <td>M1C56ijxozNaGD0t2h68PnH2xtx5iO5iR2MVYQB6nBI=</td>\n",
       "      <td>39</td>\n",
       "      <td>30</td>\n",
       "      <td>149</td>\n",
       "      <td>149</td>\n",
       "      <td>1</td>\n",
       "      <td>20150930</td>\n",
       "      <td>20151128</td>\n",
       "      <td>0</td>\n",
       "      <td>2015-09-30</td>\n",
       "      <td>2015-11-28</td>\n",
       "      <td>59</td>\n",
       "    </tr>\n",
       "    <tr>\n",
       "      <th>4</th>\n",
       "      <td>yvj6zyBUaqdbUQSrKsrZ+xNDVM62knauSZJzakS9OW4=</td>\n",
       "      <td>39</td>\n",
       "      <td>30</td>\n",
       "      <td>149</td>\n",
       "      <td>149</td>\n",
       "      <td>1</td>\n",
       "      <td>20150930</td>\n",
       "      <td>20151121</td>\n",
       "      <td>0</td>\n",
       "      <td>2015-09-30</td>\n",
       "      <td>2015-11-21</td>\n",
       "      <td>52</td>\n",
       "    </tr>\n",
       "  </tbody>\n",
       "</table>\n",
       "</div>"
      ],
      "text/plain": [
       "                                           msno  payment_method_id  payment_plan_days  plan_list_price  actual_amount_paid  is_auto_renew  transaction_date  membership_expire_date  is_cancel  \\\n",
       "0  YyO+tlZtAXYXoZhNr3Vg3+dfVQvrBVGO8j1mfqe4ZHc=                 41                 30              129                 129              1          20150930                20151101          0   \n",
       "1  AZtu6Wl0gPojrEQYB8Q3vBSmE2wnZ3hi1FbK1rQQ0A4=                 41                 30              149                 149              1          20150930                20151031          0   \n",
       "2  UkDFI97Qb6+s2LWcijVVv4rMAsORbVDT2wNXF0aVbns=                 41                 30              129                 129              1          20150930                20160427          0   \n",
       "3  M1C56ijxozNaGD0t2h68PnH2xtx5iO5iR2MVYQB6nBI=                 39                 30              149                 149              1          20150930                20151128          0   \n",
       "4  yvj6zyBUaqdbUQSrKsrZ+xNDVM62knauSZJzakS9OW4=                 39                 30              149                 149              1          20150930                20151121          0   \n",
       "\n",
       "  transaction_date_dtype membership_expire_date_dtype  mem_duration  \n",
       "0             2015-09-30                   2015-11-01            32  \n",
       "1             2015-09-30                   2015-10-31            31  \n",
       "2             2015-09-30                   2016-04-27           210  \n",
       "3             2015-09-30                   2015-11-28            59  \n",
       "4             2015-09-30                   2015-11-21            52  "
      ]
     },
     "execution_count": 14,
     "metadata": {},
     "output_type": "execute_result"
    }
   ],
   "source": [
    "transactions.head()"
   ]
  },
  {
   "cell_type": "code",
   "execution_count": 15,
   "metadata": {},
   "outputs": [
    {
     "name": "stdout",
     "output_type": "stream",
     "text": [
      "[    32     31    210 ... -16636   -173 -16589]\n",
      "\n",
      "count    2.063948e+07\n",
      "mean     3.610140e+01\n",
      "std      1.479675e+02\n",
      "min     -1.719700e+04\n",
      "25%      3.000000e+01\n",
      "50%      3.100000e+01\n",
      "75%      3.100000e+01\n",
      "max      8.140000e+02\n",
      "Name: mem_duration, dtype: float64\n"
     ]
    }
   ],
   "source": [
    "print(transactions.mem_duration.unique())\n",
    "print('')\n",
    "print(transactions.mem_duration.describe())"
   ]
  },
  {
   "cell_type": "markdown",
   "metadata": {},
   "source": [
    "**The following is a graph but I just put it as a text to ease the reading of the whole document**"
   ]
  },
  {
   "cell_type": "markdown",
   "metadata": {},
   "source": [
    "sns.set(rc={'figure.figsize':(13,4)}) #Horizontal, vertical\n",
    "sns.distplot( transactions[\"mem_duration\"], bins = 1000 )\n",
    "plt.ylabel('Count', fontsize = 12)\n",
    "plt.xlabel('Membership duration', fontsize = 12)\n",
    "plt.show()"
   ]
  },
  {
   "cell_type": "markdown",
   "metadata": {},
   "source": [
    "I can see that 30 is the most general membership duration. So I will put as 30 the values above 100.\n",
    "I will one-hot encode this and get rid of the columns less important."
   ]
  },
  {
   "cell_type": "code",
   "execution_count": 16,
   "metadata": {},
   "outputs": [],
   "source": [
    "#Change the mem_duration of all rows with an value greater than 60 to 40\n",
    "#https://www.shanelynn.ie/select-pandas-dataframe-rows-and-columns-using-iloc-loc-and-ix/\n",
    "transactions.loc[transactions['mem_duration'] > 60, \"mem_duration\"] = 30\n",
    "transactions.loc[transactions['mem_duration'] < 0, \"mem_duration\"] = 0"
   ]
  },
  {
   "cell_type": "markdown",
   "metadata": {},
   "source": [
    "**The following is a graph but I just put it as a text to ease the reading of the whole document**"
   ]
  },
  {
   "cell_type": "markdown",
   "metadata": {},
   "source": [
    "sns.set(rc={'figure.figsize':(13,4)}) #Horizontal, vertical\n",
    "sns.distplot( transactions[\"mem_duration\"], bins = 500 )\n",
    "plt.ylabel('Count', fontsize = 12)\n",
    "plt.xlabel('Membership duration', fontsize = 12)\n",
    "plt.show()"
   ]
  },
  {
   "cell_type": "code",
   "execution_count": 17,
   "metadata": {},
   "outputs": [
    {
     "data": {
      "text/plain": [
       "array([32, 31, 30, 59, 52, 38, 56, 49, 55, 48, 60, 42, 53, 37, 45, 54, 39,\n",
       "       44, 50,  8, 35, 34, 10, 36, 57, 47, 58, 46, 40, 33, 29, 28, 51, 41,\n",
       "        0, 43,  7,  5,  1,  6, 14,  4, 27, 13, 11, 16, 12, 21,  3, 26,  2,\n",
       "       24, 15,  9, 19, 18, 20, 23, 25, 17, 22])"
      ]
     },
     "execution_count": 17,
     "metadata": {},
     "output_type": "execute_result"
    }
   ],
   "source": [
    "transactions.mem_duration.unique()"
   ]
  },
  {
   "cell_type": "code",
   "execution_count": 18,
   "metadata": {},
   "outputs": [
    {
     "data": {
      "text/html": [
       "<div>\n",
       "<style scoped>\n",
       "    .dataframe tbody tr th:only-of-type {\n",
       "        vertical-align: middle;\n",
       "    }\n",
       "\n",
       "    .dataframe tbody tr th {\n",
       "        vertical-align: top;\n",
       "    }\n",
       "\n",
       "    .dataframe thead th {\n",
       "        text-align: right;\n",
       "    }\n",
       "</style>\n",
       "<table border=\"1\" class=\"dataframe\">\n",
       "  <thead>\n",
       "    <tr style=\"text-align: right;\">\n",
       "      <th></th>\n",
       "      <th>msno</th>\n",
       "      <th>payment_method_id</th>\n",
       "      <th>payment_plan_days</th>\n",
       "      <th>plan_list_price</th>\n",
       "      <th>actual_amount_paid</th>\n",
       "      <th>is_auto_renew</th>\n",
       "      <th>transaction_date</th>\n",
       "      <th>membership_expire_date</th>\n",
       "      <th>is_cancel</th>\n",
       "      <th>transaction_date_dtype</th>\n",
       "      <th>membership_expire_date_dtype</th>\n",
       "      <th>mem_duration</th>\n",
       "    </tr>\n",
       "  </thead>\n",
       "  <tbody>\n",
       "    <tr>\n",
       "      <th>0</th>\n",
       "      <td>YyO+tlZtAXYXoZhNr3Vg3+dfVQvrBVGO8j1mfqe4ZHc=</td>\n",
       "      <td>41</td>\n",
       "      <td>30</td>\n",
       "      <td>129</td>\n",
       "      <td>129</td>\n",
       "      <td>1</td>\n",
       "      <td>20150930</td>\n",
       "      <td>20151101</td>\n",
       "      <td>0</td>\n",
       "      <td>2015-09-30</td>\n",
       "      <td>2015-11-01</td>\n",
       "      <td>32</td>\n",
       "    </tr>\n",
       "    <tr>\n",
       "      <th>1</th>\n",
       "      <td>AZtu6Wl0gPojrEQYB8Q3vBSmE2wnZ3hi1FbK1rQQ0A4=</td>\n",
       "      <td>41</td>\n",
       "      <td>30</td>\n",
       "      <td>149</td>\n",
       "      <td>149</td>\n",
       "      <td>1</td>\n",
       "      <td>20150930</td>\n",
       "      <td>20151031</td>\n",
       "      <td>0</td>\n",
       "      <td>2015-09-30</td>\n",
       "      <td>2015-10-31</td>\n",
       "      <td>31</td>\n",
       "    </tr>\n",
       "    <tr>\n",
       "      <th>2</th>\n",
       "      <td>UkDFI97Qb6+s2LWcijVVv4rMAsORbVDT2wNXF0aVbns=</td>\n",
       "      <td>41</td>\n",
       "      <td>30</td>\n",
       "      <td>129</td>\n",
       "      <td>129</td>\n",
       "      <td>1</td>\n",
       "      <td>20150930</td>\n",
       "      <td>20160427</td>\n",
       "      <td>0</td>\n",
       "      <td>2015-09-30</td>\n",
       "      <td>2016-04-27</td>\n",
       "      <td>30</td>\n",
       "    </tr>\n",
       "    <tr>\n",
       "      <th>3</th>\n",
       "      <td>M1C56ijxozNaGD0t2h68PnH2xtx5iO5iR2MVYQB6nBI=</td>\n",
       "      <td>39</td>\n",
       "      <td>30</td>\n",
       "      <td>149</td>\n",
       "      <td>149</td>\n",
       "      <td>1</td>\n",
       "      <td>20150930</td>\n",
       "      <td>20151128</td>\n",
       "      <td>0</td>\n",
       "      <td>2015-09-30</td>\n",
       "      <td>2015-11-28</td>\n",
       "      <td>59</td>\n",
       "    </tr>\n",
       "    <tr>\n",
       "      <th>4</th>\n",
       "      <td>yvj6zyBUaqdbUQSrKsrZ+xNDVM62knauSZJzakS9OW4=</td>\n",
       "      <td>39</td>\n",
       "      <td>30</td>\n",
       "      <td>149</td>\n",
       "      <td>149</td>\n",
       "      <td>1</td>\n",
       "      <td>20150930</td>\n",
       "      <td>20151121</td>\n",
       "      <td>0</td>\n",
       "      <td>2015-09-30</td>\n",
       "      <td>2015-11-21</td>\n",
       "      <td>52</td>\n",
       "    </tr>\n",
       "  </tbody>\n",
       "</table>\n",
       "</div>"
      ],
      "text/plain": [
       "                                           msno  payment_method_id  payment_plan_days  plan_list_price  actual_amount_paid  is_auto_renew  transaction_date  membership_expire_date  is_cancel  \\\n",
       "0  YyO+tlZtAXYXoZhNr3Vg3+dfVQvrBVGO8j1mfqe4ZHc=                 41                 30              129                 129              1          20150930                20151101          0   \n",
       "1  AZtu6Wl0gPojrEQYB8Q3vBSmE2wnZ3hi1FbK1rQQ0A4=                 41                 30              149                 149              1          20150930                20151031          0   \n",
       "2  UkDFI97Qb6+s2LWcijVVv4rMAsORbVDT2wNXF0aVbns=                 41                 30              129                 129              1          20150930                20160427          0   \n",
       "3  M1C56ijxozNaGD0t2h68PnH2xtx5iO5iR2MVYQB6nBI=                 39                 30              149                 149              1          20150930                20151128          0   \n",
       "4  yvj6zyBUaqdbUQSrKsrZ+xNDVM62knauSZJzakS9OW4=                 39                 30              149                 149              1          20150930                20151121          0   \n",
       "\n",
       "  transaction_date_dtype membership_expire_date_dtype  mem_duration  \n",
       "0             2015-09-30                   2015-11-01            32  \n",
       "1             2015-09-30                   2015-10-31            31  \n",
       "2             2015-09-30                   2016-04-27            30  \n",
       "3             2015-09-30                   2015-11-28            59  \n",
       "4             2015-09-30                   2015-11-21            52  "
      ]
     },
     "execution_count": 18,
     "metadata": {},
     "output_type": "execute_result"
    }
   ],
   "source": [
    "transactions.head()"
   ]
  },
  {
   "cell_type": "markdown",
   "metadata": {},
   "source": [
    "### 1.4. <font color='red'>\"Feature Eng.\"</font>: _trans1_. Hot-encode \"payment_method_id\" feature <font color='red'>payment_method_id_XX</font>"
   ]
  },
  {
   "cell_type": "code",
   "execution_count": 19,
   "metadata": {},
   "outputs": [
    {
     "data": {
      "text/plain": [
       "array([41, 39, 21, 37, 40, 34, 33, 31, 23, 38, 19, 24, 14, 36, 27, 35, 29,\n",
       "       30, 28, 22, 26, 32, 25, 20, 17,  5, 11, 18,  7, 13, 12, 16, 10, 15,\n",
       "        8,  6,  3,  2,  4,  1])"
      ]
     },
     "execution_count": 19,
     "metadata": {},
     "output_type": "execute_result"
    }
   ],
   "source": [
    "transactions.payment_method_id.unique()"
   ]
  },
  {
   "cell_type": "code",
   "execution_count": 20,
   "metadata": {},
   "outputs": [],
   "source": [
    "#To improve the speed of running this notebook, I put all values between 0 and 29 (inclusive) to have value 1.\n",
    "#These are not important payment method values.\n",
    "transactions['payment_method_id'] = np.where(transactions['payment_method_id'].between(0,29), 1, transactions['payment_method_id']) #Replace by 1's the values in the range"
   ]
  },
  {
   "cell_type": "code",
   "execution_count": 21,
   "metadata": {},
   "outputs": [
    {
     "data": {
      "text/plain": [
       "array([41, 39,  1, 37, 40, 34, 33, 31, 38, 36, 35, 30, 32])"
      ]
     },
     "execution_count": 21,
     "metadata": {},
     "output_type": "execute_result"
    }
   ],
   "source": [
    "transactions.payment_method_id.unique()"
   ]
  },
  {
   "cell_type": "code",
   "execution_count": 22,
   "metadata": {
    "scrolled": true
   },
   "outputs": [
    {
     "name": "stdout",
     "output_type": "stream",
     "text": [
      "Done!\n",
      "Done!\n"
     ]
    }
   ],
   "source": [
    "trans1 = transactions\n",
    "\n",
    "#One-hot encode payment_method_id and save it into payment_method_id_encode\n",
    "payment_method_id_encode = pd.get_dummies(trans1['payment_method_id'], prefix='payment_method_id')\n",
    "print('Done!')\n",
    "\n",
    "#Join the encoded payment_method_id_encode\n",
    "trans1 = trans1.join(payment_method_id_encode)\n",
    "print('Done!')"
   ]
  },
  {
   "cell_type": "code",
   "execution_count": 23,
   "metadata": {},
   "outputs": [
    {
     "name": "stdout",
     "output_type": "stream",
     "text": [
      "Start...\n",
      "Done!\n"
     ]
    }
   ],
   "source": [
    "#I drop the column of value 1, which at the same time has all the values between 0 and 20 (as it was changed 3 blocks of code above)\n",
    "print('Start...')\n",
    "trans1 = trans1.drop(\"payment_method_id_1\", axis=1)\n",
    "print('Done!')"
   ]
  },
  {
   "cell_type": "code",
   "execution_count": 24,
   "metadata": {},
   "outputs": [
    {
     "data": {
      "text/html": [
       "<div>\n",
       "<style scoped>\n",
       "    .dataframe tbody tr th:only-of-type {\n",
       "        vertical-align: middle;\n",
       "    }\n",
       "\n",
       "    .dataframe tbody tr th {\n",
       "        vertical-align: top;\n",
       "    }\n",
       "\n",
       "    .dataframe thead th {\n",
       "        text-align: right;\n",
       "    }\n",
       "</style>\n",
       "<table border=\"1\" class=\"dataframe\">\n",
       "  <thead>\n",
       "    <tr style=\"text-align: right;\">\n",
       "      <th></th>\n",
       "      <th>msno</th>\n",
       "      <th>payment_method_id</th>\n",
       "      <th>payment_plan_days</th>\n",
       "      <th>plan_list_price</th>\n",
       "      <th>actual_amount_paid</th>\n",
       "      <th>is_auto_renew</th>\n",
       "      <th>transaction_date</th>\n",
       "      <th>membership_expire_date</th>\n",
       "      <th>is_cancel</th>\n",
       "      <th>transaction_date_dtype</th>\n",
       "      <th>...</th>\n",
       "      <th>payment_method_id_32</th>\n",
       "      <th>payment_method_id_33</th>\n",
       "      <th>payment_method_id_34</th>\n",
       "      <th>payment_method_id_35</th>\n",
       "      <th>payment_method_id_36</th>\n",
       "      <th>payment_method_id_37</th>\n",
       "      <th>payment_method_id_38</th>\n",
       "      <th>payment_method_id_39</th>\n",
       "      <th>payment_method_id_40</th>\n",
       "      <th>payment_method_id_41</th>\n",
       "    </tr>\n",
       "  </thead>\n",
       "  <tbody>\n",
       "    <tr>\n",
       "      <th>0</th>\n",
       "      <td>YyO+tlZtAXYXoZhNr3Vg3+dfVQvrBVGO8j1mfqe4ZHc=</td>\n",
       "      <td>41</td>\n",
       "      <td>30</td>\n",
       "      <td>129</td>\n",
       "      <td>129</td>\n",
       "      <td>1</td>\n",
       "      <td>20150930</td>\n",
       "      <td>20151101</td>\n",
       "      <td>0</td>\n",
       "      <td>2015-09-30</td>\n",
       "      <td>...</td>\n",
       "      <td>0</td>\n",
       "      <td>0</td>\n",
       "      <td>0</td>\n",
       "      <td>0</td>\n",
       "      <td>0</td>\n",
       "      <td>0</td>\n",
       "      <td>0</td>\n",
       "      <td>0</td>\n",
       "      <td>0</td>\n",
       "      <td>1</td>\n",
       "    </tr>\n",
       "    <tr>\n",
       "      <th>1</th>\n",
       "      <td>AZtu6Wl0gPojrEQYB8Q3vBSmE2wnZ3hi1FbK1rQQ0A4=</td>\n",
       "      <td>41</td>\n",
       "      <td>30</td>\n",
       "      <td>149</td>\n",
       "      <td>149</td>\n",
       "      <td>1</td>\n",
       "      <td>20150930</td>\n",
       "      <td>20151031</td>\n",
       "      <td>0</td>\n",
       "      <td>2015-09-30</td>\n",
       "      <td>...</td>\n",
       "      <td>0</td>\n",
       "      <td>0</td>\n",
       "      <td>0</td>\n",
       "      <td>0</td>\n",
       "      <td>0</td>\n",
       "      <td>0</td>\n",
       "      <td>0</td>\n",
       "      <td>0</td>\n",
       "      <td>0</td>\n",
       "      <td>1</td>\n",
       "    </tr>\n",
       "    <tr>\n",
       "      <th>2</th>\n",
       "      <td>UkDFI97Qb6+s2LWcijVVv4rMAsORbVDT2wNXF0aVbns=</td>\n",
       "      <td>41</td>\n",
       "      <td>30</td>\n",
       "      <td>129</td>\n",
       "      <td>129</td>\n",
       "      <td>1</td>\n",
       "      <td>20150930</td>\n",
       "      <td>20160427</td>\n",
       "      <td>0</td>\n",
       "      <td>2015-09-30</td>\n",
       "      <td>...</td>\n",
       "      <td>0</td>\n",
       "      <td>0</td>\n",
       "      <td>0</td>\n",
       "      <td>0</td>\n",
       "      <td>0</td>\n",
       "      <td>0</td>\n",
       "      <td>0</td>\n",
       "      <td>0</td>\n",
       "      <td>0</td>\n",
       "      <td>1</td>\n",
       "    </tr>\n",
       "    <tr>\n",
       "      <th>3</th>\n",
       "      <td>M1C56ijxozNaGD0t2h68PnH2xtx5iO5iR2MVYQB6nBI=</td>\n",
       "      <td>39</td>\n",
       "      <td>30</td>\n",
       "      <td>149</td>\n",
       "      <td>149</td>\n",
       "      <td>1</td>\n",
       "      <td>20150930</td>\n",
       "      <td>20151128</td>\n",
       "      <td>0</td>\n",
       "      <td>2015-09-30</td>\n",
       "      <td>...</td>\n",
       "      <td>0</td>\n",
       "      <td>0</td>\n",
       "      <td>0</td>\n",
       "      <td>0</td>\n",
       "      <td>0</td>\n",
       "      <td>0</td>\n",
       "      <td>0</td>\n",
       "      <td>1</td>\n",
       "      <td>0</td>\n",
       "      <td>0</td>\n",
       "    </tr>\n",
       "    <tr>\n",
       "      <th>4</th>\n",
       "      <td>yvj6zyBUaqdbUQSrKsrZ+xNDVM62knauSZJzakS9OW4=</td>\n",
       "      <td>39</td>\n",
       "      <td>30</td>\n",
       "      <td>149</td>\n",
       "      <td>149</td>\n",
       "      <td>1</td>\n",
       "      <td>20150930</td>\n",
       "      <td>20151121</td>\n",
       "      <td>0</td>\n",
       "      <td>2015-09-30</td>\n",
       "      <td>...</td>\n",
       "      <td>0</td>\n",
       "      <td>0</td>\n",
       "      <td>0</td>\n",
       "      <td>0</td>\n",
       "      <td>0</td>\n",
       "      <td>0</td>\n",
       "      <td>0</td>\n",
       "      <td>1</td>\n",
       "      <td>0</td>\n",
       "      <td>0</td>\n",
       "    </tr>\n",
       "  </tbody>\n",
       "</table>\n",
       "<p>5 rows × 24 columns</p>\n",
       "</div>"
      ],
      "text/plain": [
       "                                           msno  payment_method_id  payment_plan_days  plan_list_price  actual_amount_paid  is_auto_renew  transaction_date  membership_expire_date  is_cancel  \\\n",
       "0  YyO+tlZtAXYXoZhNr3Vg3+dfVQvrBVGO8j1mfqe4ZHc=                 41                 30              129                 129              1          20150930                20151101          0   \n",
       "1  AZtu6Wl0gPojrEQYB8Q3vBSmE2wnZ3hi1FbK1rQQ0A4=                 41                 30              149                 149              1          20150930                20151031          0   \n",
       "2  UkDFI97Qb6+s2LWcijVVv4rMAsORbVDT2wNXF0aVbns=                 41                 30              129                 129              1          20150930                20160427          0   \n",
       "3  M1C56ijxozNaGD0t2h68PnH2xtx5iO5iR2MVYQB6nBI=                 39                 30              149                 149              1          20150930                20151128          0   \n",
       "4  yvj6zyBUaqdbUQSrKsrZ+xNDVM62knauSZJzakS9OW4=                 39                 30              149                 149              1          20150930                20151121          0   \n",
       "\n",
       "  transaction_date_dtype          ...          payment_method_id_32  payment_method_id_33  payment_method_id_34  payment_method_id_35  payment_method_id_36  payment_method_id_37  \\\n",
       "0             2015-09-30          ...                             0                     0                     0                     0                     0                     0   \n",
       "1             2015-09-30          ...                             0                     0                     0                     0                     0                     0   \n",
       "2             2015-09-30          ...                             0                     0                     0                     0                     0                     0   \n",
       "3             2015-09-30          ...                             0                     0                     0                     0                     0                     0   \n",
       "4             2015-09-30          ...                             0                     0                     0                     0                     0                     0   \n",
       "\n",
       "   payment_method_id_38  payment_method_id_39  payment_method_id_40  payment_method_id_41  \n",
       "0                     0                     0                     0                     1  \n",
       "1                     0                     0                     0                     1  \n",
       "2                     0                     0                     0                     1  \n",
       "3                     0                     1                     0                     0  \n",
       "4                     0                     1                     0                     0  \n",
       "\n",
       "[5 rows x 24 columns]"
      ]
     },
     "execution_count": 24,
     "metadata": {},
     "output_type": "execute_result"
    }
   ],
   "source": [
    "trans1.head()"
   ]
  },
  {
   "cell_type": "code",
   "execution_count": 25,
   "metadata": {},
   "outputs": [
    {
     "name": "stdout",
     "output_type": "stream",
     "text": [
      "Number of rows & columns:  (20639483, 24)\n"
     ]
    }
   ],
   "source": [
    "print('Number of rows & columns: ', trans1.shape)"
   ]
  },
  {
   "cell_type": "markdown",
   "metadata": {},
   "source": [
    "### 1.5. <font color='red'>\"Feature Eng.\"</font>: <font color='red'>pay_method_churn</font>, create 3 variables for payment method 32, 35, 38 \n",
    "These 3 payment methods are the ones that have most probability to _churn_ as can be seen in the data exploration"
   ]
  },
  {
   "cell_type": "code",
   "execution_count": 26,
   "metadata": {
    "scrolled": true
   },
   "outputs": [
    {
     "data": {
      "text/html": [
       "<div>\n",
       "<style scoped>\n",
       "    .dataframe tbody tr th:only-of-type {\n",
       "        vertical-align: middle;\n",
       "    }\n",
       "\n",
       "    .dataframe tbody tr th {\n",
       "        vertical-align: top;\n",
       "    }\n",
       "\n",
       "    .dataframe thead th {\n",
       "        text-align: right;\n",
       "    }\n",
       "</style>\n",
       "<table border=\"1\" class=\"dataframe\">\n",
       "  <thead>\n",
       "    <tr style=\"text-align: right;\">\n",
       "      <th></th>\n",
       "      <th>msno</th>\n",
       "      <th>payment_plan_days</th>\n",
       "      <th>plan_list_price</th>\n",
       "      <th>actual_amount_paid</th>\n",
       "      <th>is_auto_renew</th>\n",
       "      <th>transaction_date</th>\n",
       "      <th>membership_expire_date</th>\n",
       "      <th>is_cancel</th>\n",
       "      <th>transaction_date_dtype</th>\n",
       "      <th>membership_expire_date_dtype</th>\n",
       "      <th>...</th>\n",
       "      <th>payment_method_id_33</th>\n",
       "      <th>payment_method_id_34</th>\n",
       "      <th>payment_method_id_35</th>\n",
       "      <th>payment_method_id_36</th>\n",
       "      <th>payment_method_id_37</th>\n",
       "      <th>payment_method_id_38</th>\n",
       "      <th>payment_method_id_39</th>\n",
       "      <th>payment_method_id_40</th>\n",
       "      <th>payment_method_id_41</th>\n",
       "      <th>pay_method_churn</th>\n",
       "    </tr>\n",
       "  </thead>\n",
       "  <tbody>\n",
       "    <tr>\n",
       "      <th>0</th>\n",
       "      <td>YyO+tlZtAXYXoZhNr3Vg3+dfVQvrBVGO8j1mfqe4ZHc=</td>\n",
       "      <td>30</td>\n",
       "      <td>129</td>\n",
       "      <td>129</td>\n",
       "      <td>1</td>\n",
       "      <td>20150930</td>\n",
       "      <td>20151101</td>\n",
       "      <td>0</td>\n",
       "      <td>2015-09-30</td>\n",
       "      <td>2015-11-01</td>\n",
       "      <td>...</td>\n",
       "      <td>0</td>\n",
       "      <td>0</td>\n",
       "      <td>0</td>\n",
       "      <td>0</td>\n",
       "      <td>0</td>\n",
       "      <td>0</td>\n",
       "      <td>0</td>\n",
       "      <td>0</td>\n",
       "      <td>1</td>\n",
       "      <td>0</td>\n",
       "    </tr>\n",
       "    <tr>\n",
       "      <th>1</th>\n",
       "      <td>AZtu6Wl0gPojrEQYB8Q3vBSmE2wnZ3hi1FbK1rQQ0A4=</td>\n",
       "      <td>30</td>\n",
       "      <td>149</td>\n",
       "      <td>149</td>\n",
       "      <td>1</td>\n",
       "      <td>20150930</td>\n",
       "      <td>20151031</td>\n",
       "      <td>0</td>\n",
       "      <td>2015-09-30</td>\n",
       "      <td>2015-10-31</td>\n",
       "      <td>...</td>\n",
       "      <td>0</td>\n",
       "      <td>0</td>\n",
       "      <td>0</td>\n",
       "      <td>0</td>\n",
       "      <td>0</td>\n",
       "      <td>0</td>\n",
       "      <td>0</td>\n",
       "      <td>0</td>\n",
       "      <td>1</td>\n",
       "      <td>0</td>\n",
       "    </tr>\n",
       "    <tr>\n",
       "      <th>2</th>\n",
       "      <td>UkDFI97Qb6+s2LWcijVVv4rMAsORbVDT2wNXF0aVbns=</td>\n",
       "      <td>30</td>\n",
       "      <td>129</td>\n",
       "      <td>129</td>\n",
       "      <td>1</td>\n",
       "      <td>20150930</td>\n",
       "      <td>20160427</td>\n",
       "      <td>0</td>\n",
       "      <td>2015-09-30</td>\n",
       "      <td>2016-04-27</td>\n",
       "      <td>...</td>\n",
       "      <td>0</td>\n",
       "      <td>0</td>\n",
       "      <td>0</td>\n",
       "      <td>0</td>\n",
       "      <td>0</td>\n",
       "      <td>0</td>\n",
       "      <td>0</td>\n",
       "      <td>0</td>\n",
       "      <td>1</td>\n",
       "      <td>0</td>\n",
       "    </tr>\n",
       "    <tr>\n",
       "      <th>3</th>\n",
       "      <td>M1C56ijxozNaGD0t2h68PnH2xtx5iO5iR2MVYQB6nBI=</td>\n",
       "      <td>30</td>\n",
       "      <td>149</td>\n",
       "      <td>149</td>\n",
       "      <td>1</td>\n",
       "      <td>20150930</td>\n",
       "      <td>20151128</td>\n",
       "      <td>0</td>\n",
       "      <td>2015-09-30</td>\n",
       "      <td>2015-11-28</td>\n",
       "      <td>...</td>\n",
       "      <td>0</td>\n",
       "      <td>0</td>\n",
       "      <td>0</td>\n",
       "      <td>0</td>\n",
       "      <td>0</td>\n",
       "      <td>0</td>\n",
       "      <td>1</td>\n",
       "      <td>0</td>\n",
       "      <td>0</td>\n",
       "      <td>0</td>\n",
       "    </tr>\n",
       "    <tr>\n",
       "      <th>4</th>\n",
       "      <td>yvj6zyBUaqdbUQSrKsrZ+xNDVM62knauSZJzakS9OW4=</td>\n",
       "      <td>30</td>\n",
       "      <td>149</td>\n",
       "      <td>149</td>\n",
       "      <td>1</td>\n",
       "      <td>20150930</td>\n",
       "      <td>20151121</td>\n",
       "      <td>0</td>\n",
       "      <td>2015-09-30</td>\n",
       "      <td>2015-11-21</td>\n",
       "      <td>...</td>\n",
       "      <td>0</td>\n",
       "      <td>0</td>\n",
       "      <td>0</td>\n",
       "      <td>0</td>\n",
       "      <td>0</td>\n",
       "      <td>0</td>\n",
       "      <td>1</td>\n",
       "      <td>0</td>\n",
       "      <td>0</td>\n",
       "      <td>0</td>\n",
       "    </tr>\n",
       "  </tbody>\n",
       "</table>\n",
       "<p>5 rows × 24 columns</p>\n",
       "</div>"
      ],
      "text/plain": [
       "                                           msno  payment_plan_days  plan_list_price  actual_amount_paid  is_auto_renew  transaction_date  membership_expire_date  is_cancel transaction_date_dtype  \\\n",
       "0  YyO+tlZtAXYXoZhNr3Vg3+dfVQvrBVGO8j1mfqe4ZHc=                 30              129                 129              1          20150930                20151101          0             2015-09-30   \n",
       "1  AZtu6Wl0gPojrEQYB8Q3vBSmE2wnZ3hi1FbK1rQQ0A4=                 30              149                 149              1          20150930                20151031          0             2015-09-30   \n",
       "2  UkDFI97Qb6+s2LWcijVVv4rMAsORbVDT2wNXF0aVbns=                 30              129                 129              1          20150930                20160427          0             2015-09-30   \n",
       "3  M1C56ijxozNaGD0t2h68PnH2xtx5iO5iR2MVYQB6nBI=                 30              149                 149              1          20150930                20151128          0             2015-09-30   \n",
       "4  yvj6zyBUaqdbUQSrKsrZ+xNDVM62knauSZJzakS9OW4=                 30              149                 149              1          20150930                20151121          0             2015-09-30   \n",
       "\n",
       "  membership_expire_date_dtype        ...         payment_method_id_33  payment_method_id_34  payment_method_id_35  payment_method_id_36  payment_method_id_37  payment_method_id_38  \\\n",
       "0                   2015-11-01        ...                            0                     0                     0                     0                     0                     0   \n",
       "1                   2015-10-31        ...                            0                     0                     0                     0                     0                     0   \n",
       "2                   2016-04-27        ...                            0                     0                     0                     0                     0                     0   \n",
       "3                   2015-11-28        ...                            0                     0                     0                     0                     0                     0   \n",
       "4                   2015-11-21        ...                            0                     0                     0                     0                     0                     0   \n",
       "\n",
       "   payment_method_id_39  payment_method_id_40  payment_method_id_41  pay_method_churn  \n",
       "0                     0                     0                     1                 0  \n",
       "1                     0                     0                     1                 0  \n",
       "2                     0                     0                     1                 0  \n",
       "3                     1                     0                     0                 0  \n",
       "4                     1                     0                     0                 0  \n",
       "\n",
       "[5 rows x 24 columns]"
      ]
     },
     "execution_count": 26,
     "metadata": {},
     "output_type": "execute_result"
    }
   ],
   "source": [
    "mask = (trans1.payment_method_id == 32)\n",
    "mask1 = (trans1.payment_method_id == 35)\n",
    "mask2 = (trans1.payment_method_id == 38)\n",
    "\n",
    "trans1['pay_method_churn'] = trans1.payment_method_id\n",
    "trans1.pay_method_churn = 0\n",
    "column_name = 'pay_method_churn'\n",
    "trans1.loc[mask,column_name] = 1\n",
    "trans1.loc[mask1,column_name] = 1\n",
    "trans1.loc[mask2,column_name] = 1\n",
    "\n",
    "trans1 = trans1.drop('payment_method_id', axis = 1)\n",
    "\n",
    "trans1.head()"
   ]
  },
  {
   "cell_type": "markdown",
   "metadata": {},
   "source": [
    "### 1.6. <font color='red'>\"Feature Eng.\"</font>: \"trans2\". Hot-encode \"payment_plan_days\" feature and test algorithm <font color='red'>payment_plan_days_XX</font>"
   ]
  },
  {
   "cell_type": "code",
   "execution_count": 27,
   "metadata": {},
   "outputs": [
    {
     "data": {
      "text/plain": [
       "array([ 30,   0,  10,  31,   7, 410, 195, 100, 395,   1, 180, 120,  60,\n",
       "       400,  14, 360, 200,  35,  90,  21, 450,  70,  80,  45, 110, 365,\n",
       "        66, 240, 270,  99,   2, 230,   3,  15, 425, 415,  95])"
      ]
     },
     "execution_count": 27,
     "metadata": {},
     "output_type": "execute_result"
    }
   ],
   "source": [
    "trans1.payment_plan_days.unique()"
   ]
  },
  {
   "cell_type": "code",
   "execution_count": 28,
   "metadata": {},
   "outputs": [
    {
     "name": "stdout",
     "output_type": "stream",
     "text": [
      "Done1\n",
      "Done2\n"
     ]
    }
   ],
   "source": [
    "#All outliers (not important values) are changed its value to 1. Later, this value will be dropped!\n",
    "trans1['payment_plan_days'] = np.where(trans1['payment_plan_days'].between(0,3), 1, trans1['payment_plan_days']) #Replace by 1's the values in the range\n",
    "trans1['payment_plan_days'] = np.where(trans1['payment_plan_days'].between(8,29), 1, trans1['payment_plan_days']) #Replace by 1's the values in the range\n",
    "trans1['payment_plan_days'] = np.where(trans1['payment_plan_days'].between(31,89), 1, trans1['payment_plan_days']) #Replace by 1's the values in the range\n",
    "print('Done1')\n",
    "trans1['payment_plan_days'] = np.where(trans1['payment_plan_days'].between(95,179), 1, trans1['payment_plan_days']) #Replace by 1's the values in the range\n",
    "trans1['payment_plan_days'] = np.where(trans1['payment_plan_days'].between(181,194), 1, trans1['payment_plan_days']) #Replace by 1's the values in the range\n",
    "print('Done2')\n",
    "trans1['payment_plan_days'] = np.where(trans1['payment_plan_days'].between(196,409), 1, trans1['payment_plan_days']) #Replace by 1's the values in the range\n",
    "trans1['payment_plan_days'] = np.where(trans1['payment_plan_days'].between(411,500), 1, trans1['payment_plan_days']) #Replace by 1's the values in the range"
   ]
  },
  {
   "cell_type": "code",
   "execution_count": 29,
   "metadata": {},
   "outputs": [
    {
     "data": {
      "text/plain": [
       "array([ 30,   1,   7, 410, 195, 180,  90])"
      ]
     },
     "execution_count": 29,
     "metadata": {},
     "output_type": "execute_result"
    }
   ],
   "source": [
    "trans1.payment_plan_days.unique()"
   ]
  },
  {
   "cell_type": "code",
   "execution_count": 30,
   "metadata": {
    "scrolled": true
   },
   "outputs": [
    {
     "name": "stdout",
     "output_type": "stream",
     "text": [
      "Start\n",
      "Done2\n"
     ]
    }
   ],
   "source": [
    "trans2 = trans1\n",
    "\n",
    "payment_plan_days_encode = pd.get_dummies(trans2['payment_plan_days'], prefix='payment_plan_days')\n",
    "\n",
    "trans2 = trans2.drop('payment_plan_days', axis=1)\n",
    "\n",
    "print('Start')\n",
    "trans2 = trans2.join(payment_plan_days_encode)\n",
    "print('Done2')\n",
    "#trans2.head()"
   ]
  },
  {
   "cell_type": "code",
   "execution_count": 31,
   "metadata": {},
   "outputs": [
    {
     "name": "stdout",
     "output_type": "stream",
     "text": [
      "Start!\n",
      "Done!\n"
     ]
    }
   ],
   "source": [
    "#I get rid of columns whose value is 1\n",
    "print('Start!')\n",
    "trans2 = trans2.drop(\"payment_plan_days_1\", axis=1)\n",
    "print('Done!')"
   ]
  },
  {
   "cell_type": "code",
   "execution_count": 32,
   "metadata": {},
   "outputs": [
    {
     "data": {
      "text/html": [
       "<div>\n",
       "<style scoped>\n",
       "    .dataframe tbody tr th:only-of-type {\n",
       "        vertical-align: middle;\n",
       "    }\n",
       "\n",
       "    .dataframe tbody tr th {\n",
       "        vertical-align: top;\n",
       "    }\n",
       "\n",
       "    .dataframe thead th {\n",
       "        text-align: right;\n",
       "    }\n",
       "</style>\n",
       "<table border=\"1\" class=\"dataframe\">\n",
       "  <thead>\n",
       "    <tr style=\"text-align: right;\">\n",
       "      <th></th>\n",
       "      <th>msno</th>\n",
       "      <th>plan_list_price</th>\n",
       "      <th>actual_amount_paid</th>\n",
       "      <th>is_auto_renew</th>\n",
       "      <th>transaction_date</th>\n",
       "      <th>membership_expire_date</th>\n",
       "      <th>is_cancel</th>\n",
       "      <th>transaction_date_dtype</th>\n",
       "      <th>membership_expire_date_dtype</th>\n",
       "      <th>mem_duration</th>\n",
       "      <th>...</th>\n",
       "      <th>payment_method_id_39</th>\n",
       "      <th>payment_method_id_40</th>\n",
       "      <th>payment_method_id_41</th>\n",
       "      <th>pay_method_churn</th>\n",
       "      <th>payment_plan_days_7</th>\n",
       "      <th>payment_plan_days_30</th>\n",
       "      <th>payment_plan_days_90</th>\n",
       "      <th>payment_plan_days_180</th>\n",
       "      <th>payment_plan_days_195</th>\n",
       "      <th>payment_plan_days_410</th>\n",
       "    </tr>\n",
       "  </thead>\n",
       "  <tbody>\n",
       "    <tr>\n",
       "      <th>0</th>\n",
       "      <td>YyO+tlZtAXYXoZhNr3Vg3+dfVQvrBVGO8j1mfqe4ZHc=</td>\n",
       "      <td>129</td>\n",
       "      <td>129</td>\n",
       "      <td>1</td>\n",
       "      <td>20150930</td>\n",
       "      <td>20151101</td>\n",
       "      <td>0</td>\n",
       "      <td>2015-09-30</td>\n",
       "      <td>2015-11-01</td>\n",
       "      <td>32</td>\n",
       "      <td>...</td>\n",
       "      <td>0</td>\n",
       "      <td>0</td>\n",
       "      <td>1</td>\n",
       "      <td>0</td>\n",
       "      <td>0</td>\n",
       "      <td>1</td>\n",
       "      <td>0</td>\n",
       "      <td>0</td>\n",
       "      <td>0</td>\n",
       "      <td>0</td>\n",
       "    </tr>\n",
       "    <tr>\n",
       "      <th>1</th>\n",
       "      <td>AZtu6Wl0gPojrEQYB8Q3vBSmE2wnZ3hi1FbK1rQQ0A4=</td>\n",
       "      <td>149</td>\n",
       "      <td>149</td>\n",
       "      <td>1</td>\n",
       "      <td>20150930</td>\n",
       "      <td>20151031</td>\n",
       "      <td>0</td>\n",
       "      <td>2015-09-30</td>\n",
       "      <td>2015-10-31</td>\n",
       "      <td>31</td>\n",
       "      <td>...</td>\n",
       "      <td>0</td>\n",
       "      <td>0</td>\n",
       "      <td>1</td>\n",
       "      <td>0</td>\n",
       "      <td>0</td>\n",
       "      <td>1</td>\n",
       "      <td>0</td>\n",
       "      <td>0</td>\n",
       "      <td>0</td>\n",
       "      <td>0</td>\n",
       "    </tr>\n",
       "    <tr>\n",
       "      <th>2</th>\n",
       "      <td>UkDFI97Qb6+s2LWcijVVv4rMAsORbVDT2wNXF0aVbns=</td>\n",
       "      <td>129</td>\n",
       "      <td>129</td>\n",
       "      <td>1</td>\n",
       "      <td>20150930</td>\n",
       "      <td>20160427</td>\n",
       "      <td>0</td>\n",
       "      <td>2015-09-30</td>\n",
       "      <td>2016-04-27</td>\n",
       "      <td>30</td>\n",
       "      <td>...</td>\n",
       "      <td>0</td>\n",
       "      <td>0</td>\n",
       "      <td>1</td>\n",
       "      <td>0</td>\n",
       "      <td>0</td>\n",
       "      <td>1</td>\n",
       "      <td>0</td>\n",
       "      <td>0</td>\n",
       "      <td>0</td>\n",
       "      <td>0</td>\n",
       "    </tr>\n",
       "    <tr>\n",
       "      <th>3</th>\n",
       "      <td>M1C56ijxozNaGD0t2h68PnH2xtx5iO5iR2MVYQB6nBI=</td>\n",
       "      <td>149</td>\n",
       "      <td>149</td>\n",
       "      <td>1</td>\n",
       "      <td>20150930</td>\n",
       "      <td>20151128</td>\n",
       "      <td>0</td>\n",
       "      <td>2015-09-30</td>\n",
       "      <td>2015-11-28</td>\n",
       "      <td>59</td>\n",
       "      <td>...</td>\n",
       "      <td>1</td>\n",
       "      <td>0</td>\n",
       "      <td>0</td>\n",
       "      <td>0</td>\n",
       "      <td>0</td>\n",
       "      <td>1</td>\n",
       "      <td>0</td>\n",
       "      <td>0</td>\n",
       "      <td>0</td>\n",
       "      <td>0</td>\n",
       "    </tr>\n",
       "    <tr>\n",
       "      <th>4</th>\n",
       "      <td>yvj6zyBUaqdbUQSrKsrZ+xNDVM62knauSZJzakS9OW4=</td>\n",
       "      <td>149</td>\n",
       "      <td>149</td>\n",
       "      <td>1</td>\n",
       "      <td>20150930</td>\n",
       "      <td>20151121</td>\n",
       "      <td>0</td>\n",
       "      <td>2015-09-30</td>\n",
       "      <td>2015-11-21</td>\n",
       "      <td>52</td>\n",
       "      <td>...</td>\n",
       "      <td>1</td>\n",
       "      <td>0</td>\n",
       "      <td>0</td>\n",
       "      <td>0</td>\n",
       "      <td>0</td>\n",
       "      <td>1</td>\n",
       "      <td>0</td>\n",
       "      <td>0</td>\n",
       "      <td>0</td>\n",
       "      <td>0</td>\n",
       "    </tr>\n",
       "  </tbody>\n",
       "</table>\n",
       "<p>5 rows × 29 columns</p>\n",
       "</div>"
      ],
      "text/plain": [
       "                                           msno  plan_list_price  actual_amount_paid  is_auto_renew  transaction_date  membership_expire_date  is_cancel transaction_date_dtype  \\\n",
       "0  YyO+tlZtAXYXoZhNr3Vg3+dfVQvrBVGO8j1mfqe4ZHc=              129                 129              1          20150930                20151101          0             2015-09-30   \n",
       "1  AZtu6Wl0gPojrEQYB8Q3vBSmE2wnZ3hi1FbK1rQQ0A4=              149                 149              1          20150930                20151031          0             2015-09-30   \n",
       "2  UkDFI97Qb6+s2LWcijVVv4rMAsORbVDT2wNXF0aVbns=              129                 129              1          20150930                20160427          0             2015-09-30   \n",
       "3  M1C56ijxozNaGD0t2h68PnH2xtx5iO5iR2MVYQB6nBI=              149                 149              1          20150930                20151128          0             2015-09-30   \n",
       "4  yvj6zyBUaqdbUQSrKsrZ+xNDVM62knauSZJzakS9OW4=              149                 149              1          20150930                20151121          0             2015-09-30   \n",
       "\n",
       "  membership_expire_date_dtype  mem_duration          ...            payment_method_id_39  payment_method_id_40  payment_method_id_41  pay_method_churn  payment_plan_days_7  payment_plan_days_30  \\\n",
       "0                   2015-11-01            32          ...                               0                     0                     1                 0                    0                     1   \n",
       "1                   2015-10-31            31          ...                               0                     0                     1                 0                    0                     1   \n",
       "2                   2016-04-27            30          ...                               0                     0                     1                 0                    0                     1   \n",
       "3                   2015-11-28            59          ...                               1                     0                     0                 0                    0                     1   \n",
       "4                   2015-11-21            52          ...                               1                     0                     0                 0                    0                     1   \n",
       "\n",
       "   payment_plan_days_90  payment_plan_days_180  payment_plan_days_195  payment_plan_days_410  \n",
       "0                     0                      0                      0                      0  \n",
       "1                     0                      0                      0                      0  \n",
       "2                     0                      0                      0                      0  \n",
       "3                     0                      0                      0                      0  \n",
       "4                     0                      0                      0                      0  \n",
       "\n",
       "[5 rows x 29 columns]"
      ]
     },
     "execution_count": 32,
     "metadata": {},
     "output_type": "execute_result"
    }
   ],
   "source": [
    "trans2.head()"
   ]
  },
  {
   "cell_type": "code",
   "execution_count": 33,
   "metadata": {},
   "outputs": [
    {
     "name": "stdout",
     "output_type": "stream",
     "text": [
      "Number of rows & columns:  (20639483, 29)\n"
     ]
    }
   ],
   "source": [
    "print('Number of rows & columns: ', trans2.shape)"
   ]
  },
  {
   "cell_type": "markdown",
   "metadata": {},
   "source": [
    "There is no 1.7 point\n",
    "### 1.8. <font color='red'>\"Feature Eng.\"</font>: notAutorenew_&_cancel\n",
    "Binary feature to predict possible churning if\n",
    "- auto_renew = 0 and\n",
    "- is_cancel = 1"
   ]
  },
  {
   "cell_type": "code",
   "execution_count": 34,
   "metadata": {},
   "outputs": [],
   "source": [
    "trans2['notAutorenew_and_cancel'] = ((trans2.is_auto_renew == 0) == (trans2.is_cancel == 1)).astype(np.int8)"
   ]
  },
  {
   "cell_type": "code",
   "execution_count": 35,
   "metadata": {
    "scrolled": true
   },
   "outputs": [
    {
     "data": {
      "text/html": [
       "<div>\n",
       "<style scoped>\n",
       "    .dataframe tbody tr th:only-of-type {\n",
       "        vertical-align: middle;\n",
       "    }\n",
       "\n",
       "    .dataframe tbody tr th {\n",
       "        vertical-align: top;\n",
       "    }\n",
       "\n",
       "    .dataframe thead th {\n",
       "        text-align: right;\n",
       "    }\n",
       "</style>\n",
       "<table border=\"1\" class=\"dataframe\">\n",
       "  <thead>\n",
       "    <tr style=\"text-align: right;\">\n",
       "      <th></th>\n",
       "      <th>msno</th>\n",
       "      <th>plan_list_price</th>\n",
       "      <th>actual_amount_paid</th>\n",
       "      <th>is_auto_renew</th>\n",
       "      <th>transaction_date</th>\n",
       "      <th>membership_expire_date</th>\n",
       "      <th>is_cancel</th>\n",
       "      <th>transaction_date_dtype</th>\n",
       "      <th>membership_expire_date_dtype</th>\n",
       "      <th>mem_duration</th>\n",
       "      <th>...</th>\n",
       "      <th>payment_method_id_40</th>\n",
       "      <th>payment_method_id_41</th>\n",
       "      <th>pay_method_churn</th>\n",
       "      <th>payment_plan_days_7</th>\n",
       "      <th>payment_plan_days_30</th>\n",
       "      <th>payment_plan_days_90</th>\n",
       "      <th>payment_plan_days_180</th>\n",
       "      <th>payment_plan_days_195</th>\n",
       "      <th>payment_plan_days_410</th>\n",
       "      <th>notAutorenew_and_cancel</th>\n",
       "    </tr>\n",
       "  </thead>\n",
       "  <tbody>\n",
       "    <tr>\n",
       "      <th>0</th>\n",
       "      <td>YyO+tlZtAXYXoZhNr3Vg3+dfVQvrBVGO8j1mfqe4ZHc=</td>\n",
       "      <td>129</td>\n",
       "      <td>129</td>\n",
       "      <td>1</td>\n",
       "      <td>20150930</td>\n",
       "      <td>20151101</td>\n",
       "      <td>0</td>\n",
       "      <td>2015-09-30</td>\n",
       "      <td>2015-11-01</td>\n",
       "      <td>32</td>\n",
       "      <td>...</td>\n",
       "      <td>0</td>\n",
       "      <td>1</td>\n",
       "      <td>0</td>\n",
       "      <td>0</td>\n",
       "      <td>1</td>\n",
       "      <td>0</td>\n",
       "      <td>0</td>\n",
       "      <td>0</td>\n",
       "      <td>0</td>\n",
       "      <td>1</td>\n",
       "    </tr>\n",
       "    <tr>\n",
       "      <th>1</th>\n",
       "      <td>AZtu6Wl0gPojrEQYB8Q3vBSmE2wnZ3hi1FbK1rQQ0A4=</td>\n",
       "      <td>149</td>\n",
       "      <td>149</td>\n",
       "      <td>1</td>\n",
       "      <td>20150930</td>\n",
       "      <td>20151031</td>\n",
       "      <td>0</td>\n",
       "      <td>2015-09-30</td>\n",
       "      <td>2015-10-31</td>\n",
       "      <td>31</td>\n",
       "      <td>...</td>\n",
       "      <td>0</td>\n",
       "      <td>1</td>\n",
       "      <td>0</td>\n",
       "      <td>0</td>\n",
       "      <td>1</td>\n",
       "      <td>0</td>\n",
       "      <td>0</td>\n",
       "      <td>0</td>\n",
       "      <td>0</td>\n",
       "      <td>1</td>\n",
       "    </tr>\n",
       "    <tr>\n",
       "      <th>2</th>\n",
       "      <td>UkDFI97Qb6+s2LWcijVVv4rMAsORbVDT2wNXF0aVbns=</td>\n",
       "      <td>129</td>\n",
       "      <td>129</td>\n",
       "      <td>1</td>\n",
       "      <td>20150930</td>\n",
       "      <td>20160427</td>\n",
       "      <td>0</td>\n",
       "      <td>2015-09-30</td>\n",
       "      <td>2016-04-27</td>\n",
       "      <td>30</td>\n",
       "      <td>...</td>\n",
       "      <td>0</td>\n",
       "      <td>1</td>\n",
       "      <td>0</td>\n",
       "      <td>0</td>\n",
       "      <td>1</td>\n",
       "      <td>0</td>\n",
       "      <td>0</td>\n",
       "      <td>0</td>\n",
       "      <td>0</td>\n",
       "      <td>1</td>\n",
       "    </tr>\n",
       "    <tr>\n",
       "      <th>3</th>\n",
       "      <td>M1C56ijxozNaGD0t2h68PnH2xtx5iO5iR2MVYQB6nBI=</td>\n",
       "      <td>149</td>\n",
       "      <td>149</td>\n",
       "      <td>1</td>\n",
       "      <td>20150930</td>\n",
       "      <td>20151128</td>\n",
       "      <td>0</td>\n",
       "      <td>2015-09-30</td>\n",
       "      <td>2015-11-28</td>\n",
       "      <td>59</td>\n",
       "      <td>...</td>\n",
       "      <td>0</td>\n",
       "      <td>0</td>\n",
       "      <td>0</td>\n",
       "      <td>0</td>\n",
       "      <td>1</td>\n",
       "      <td>0</td>\n",
       "      <td>0</td>\n",
       "      <td>0</td>\n",
       "      <td>0</td>\n",
       "      <td>1</td>\n",
       "    </tr>\n",
       "    <tr>\n",
       "      <th>4</th>\n",
       "      <td>yvj6zyBUaqdbUQSrKsrZ+xNDVM62knauSZJzakS9OW4=</td>\n",
       "      <td>149</td>\n",
       "      <td>149</td>\n",
       "      <td>1</td>\n",
       "      <td>20150930</td>\n",
       "      <td>20151121</td>\n",
       "      <td>0</td>\n",
       "      <td>2015-09-30</td>\n",
       "      <td>2015-11-21</td>\n",
       "      <td>52</td>\n",
       "      <td>...</td>\n",
       "      <td>0</td>\n",
       "      <td>0</td>\n",
       "      <td>0</td>\n",
       "      <td>0</td>\n",
       "      <td>1</td>\n",
       "      <td>0</td>\n",
       "      <td>0</td>\n",
       "      <td>0</td>\n",
       "      <td>0</td>\n",
       "      <td>1</td>\n",
       "    </tr>\n",
       "  </tbody>\n",
       "</table>\n",
       "<p>5 rows × 30 columns</p>\n",
       "</div>"
      ],
      "text/plain": [
       "                                           msno  plan_list_price  actual_amount_paid  is_auto_renew  transaction_date  membership_expire_date  is_cancel transaction_date_dtype  \\\n",
       "0  YyO+tlZtAXYXoZhNr3Vg3+dfVQvrBVGO8j1mfqe4ZHc=              129                 129              1          20150930                20151101          0             2015-09-30   \n",
       "1  AZtu6Wl0gPojrEQYB8Q3vBSmE2wnZ3hi1FbK1rQQ0A4=              149                 149              1          20150930                20151031          0             2015-09-30   \n",
       "2  UkDFI97Qb6+s2LWcijVVv4rMAsORbVDT2wNXF0aVbns=              129                 129              1          20150930                20160427          0             2015-09-30   \n",
       "3  M1C56ijxozNaGD0t2h68PnH2xtx5iO5iR2MVYQB6nBI=              149                 149              1          20150930                20151128          0             2015-09-30   \n",
       "4  yvj6zyBUaqdbUQSrKsrZ+xNDVM62knauSZJzakS9OW4=              149                 149              1          20150930                20151121          0             2015-09-30   \n",
       "\n",
       "  membership_expire_date_dtype  mem_duration           ...             payment_method_id_40  payment_method_id_41  pay_method_churn  payment_plan_days_7  payment_plan_days_30  payment_plan_days_90  \\\n",
       "0                   2015-11-01            32           ...                                0                     1                 0                    0                     1                     0   \n",
       "1                   2015-10-31            31           ...                                0                     1                 0                    0                     1                     0   \n",
       "2                   2016-04-27            30           ...                                0                     1                 0                    0                     1                     0   \n",
       "3                   2015-11-28            59           ...                                0                     0                 0                    0                     1                     0   \n",
       "4                   2015-11-21            52           ...                                0                     0                 0                    0                     1                     0   \n",
       "\n",
       "   payment_plan_days_180  payment_plan_days_195  payment_plan_days_410  notAutorenew_and_cancel  \n",
       "0                      0                      0                      0                        1  \n",
       "1                      0                      0                      0                        1  \n",
       "2                      0                      0                      0                        1  \n",
       "3                      0                      0                      0                        1  \n",
       "4                      0                      0                      0                        1  \n",
       "\n",
       "[5 rows x 30 columns]"
      ]
     },
     "execution_count": 35,
     "metadata": {},
     "output_type": "execute_result"
    }
   ],
   "source": [
    "trans2.head()"
   ]
  },
  {
   "cell_type": "markdown",
   "metadata": {},
   "source": [
    "### 1.9. <font color='red'>\"GROUPBY ALL COLUMNS\"</font>\n",
    "I first drop unwanted features and then, I group all **msno**! (obtaining a dataframe with unique msnos)"
   ]
  },
  {
   "cell_type": "code",
   "execution_count": 36,
   "metadata": {
    "scrolled": true
   },
   "outputs": [],
   "source": [
    "#DATAFRAME I WILL WORK WITH\n",
    "unwanted = ['transaction_date_dtype','membership_expire_date_dtype','plan_list_price','actual_amount_paid','transaction_date','membership_expire_date']\n",
    "trans2 = trans2.drop(unwanted, axis = 1)"
   ]
  },
  {
   "cell_type": "markdown",
   "metadata": {},
   "source": [
    "The following line takes around 5 min..."
   ]
  },
  {
   "cell_type": "code",
   "execution_count": 37,
   "metadata": {},
   "outputs": [],
   "source": [
    "sums_df = trans2.groupby('msno').sum().reset_index()"
   ]
  },
  {
   "cell_type": "code",
   "execution_count": 38,
   "metadata": {},
   "outputs": [
    {
     "data": {
      "text/html": [
       "<div>\n",
       "<style scoped>\n",
       "    .dataframe tbody tr th:only-of-type {\n",
       "        vertical-align: middle;\n",
       "    }\n",
       "\n",
       "    .dataframe tbody tr th {\n",
       "        vertical-align: top;\n",
       "    }\n",
       "\n",
       "    .dataframe thead th {\n",
       "        text-align: right;\n",
       "    }\n",
       "</style>\n",
       "<table border=\"1\" class=\"dataframe\">\n",
       "  <thead>\n",
       "    <tr style=\"text-align: right;\">\n",
       "      <th></th>\n",
       "      <th>msno</th>\n",
       "      <th>is_auto_renew</th>\n",
       "      <th>is_cancel</th>\n",
       "      <th>mem_duration</th>\n",
       "      <th>payment_method_id_30</th>\n",
       "      <th>payment_method_id_31</th>\n",
       "      <th>payment_method_id_32</th>\n",
       "      <th>payment_method_id_33</th>\n",
       "      <th>payment_method_id_34</th>\n",
       "      <th>payment_method_id_35</th>\n",
       "      <th>...</th>\n",
       "      <th>payment_method_id_40</th>\n",
       "      <th>payment_method_id_41</th>\n",
       "      <th>pay_method_churn</th>\n",
       "      <th>payment_plan_days_7</th>\n",
       "      <th>payment_plan_days_30</th>\n",
       "      <th>payment_plan_days_90</th>\n",
       "      <th>payment_plan_days_180</th>\n",
       "      <th>payment_plan_days_195</th>\n",
       "      <th>payment_plan_days_410</th>\n",
       "      <th>notAutorenew_and_cancel</th>\n",
       "    </tr>\n",
       "  </thead>\n",
       "  <tbody>\n",
       "    <tr>\n",
       "      <th>0</th>\n",
       "      <td>+++FOrTS7ab3tIgIh8eWwX4FqRv8w/FoiOuyXsFvphY=</td>\n",
       "      <td>0</td>\n",
       "      <td>0</td>\n",
       "      <td>5</td>\n",
       "      <td>0</td>\n",
       "      <td>0</td>\n",
       "      <td>0</td>\n",
       "      <td>0</td>\n",
       "      <td>0</td>\n",
       "      <td>1</td>\n",
       "      <td>...</td>\n",
       "      <td>0</td>\n",
       "      <td>0</td>\n",
       "      <td>1</td>\n",
       "      <td>1</td>\n",
       "      <td>0</td>\n",
       "      <td>0</td>\n",
       "      <td>0</td>\n",
       "      <td>0</td>\n",
       "      <td>0</td>\n",
       "      <td>0</td>\n",
       "    </tr>\n",
       "    <tr>\n",
       "      <th>1</th>\n",
       "      <td>+++IZseRRiQS9aaSkH6cMYU6bGDcxUieAi/tH67sC5s=</td>\n",
       "      <td>0</td>\n",
       "      <td>0</td>\n",
       "      <td>30</td>\n",
       "      <td>0</td>\n",
       "      <td>0</td>\n",
       "      <td>0</td>\n",
       "      <td>0</td>\n",
       "      <td>0</td>\n",
       "      <td>0</td>\n",
       "      <td>...</td>\n",
       "      <td>0</td>\n",
       "      <td>0</td>\n",
       "      <td>1</td>\n",
       "      <td>0</td>\n",
       "      <td>0</td>\n",
       "      <td>0</td>\n",
       "      <td>0</td>\n",
       "      <td>0</td>\n",
       "      <td>1</td>\n",
       "      <td>0</td>\n",
       "    </tr>\n",
       "    <tr>\n",
       "      <th>2</th>\n",
       "      <td>+++hVY1rZox/33YtvDgmKA2Frg/2qhkz12B9ylCvh8o=</td>\n",
       "      <td>3</td>\n",
       "      <td>0</td>\n",
       "      <td>91</td>\n",
       "      <td>0</td>\n",
       "      <td>0</td>\n",
       "      <td>0</td>\n",
       "      <td>0</td>\n",
       "      <td>0</td>\n",
       "      <td>0</td>\n",
       "      <td>...</td>\n",
       "      <td>0</td>\n",
       "      <td>3</td>\n",
       "      <td>0</td>\n",
       "      <td>0</td>\n",
       "      <td>3</td>\n",
       "      <td>0</td>\n",
       "      <td>0</td>\n",
       "      <td>0</td>\n",
       "      <td>0</td>\n",
       "      <td>3</td>\n",
       "    </tr>\n",
       "    <tr>\n",
       "      <th>3</th>\n",
       "      <td>+++l/EXNMLTijfLBa8p2TUVVVp2aFGSuUI/h7mLmthw=</td>\n",
       "      <td>19</td>\n",
       "      <td>0</td>\n",
       "      <td>932</td>\n",
       "      <td>0</td>\n",
       "      <td>0</td>\n",
       "      <td>0</td>\n",
       "      <td>0</td>\n",
       "      <td>0</td>\n",
       "      <td>0</td>\n",
       "      <td>...</td>\n",
       "      <td>0</td>\n",
       "      <td>0</td>\n",
       "      <td>0</td>\n",
       "      <td>0</td>\n",
       "      <td>15</td>\n",
       "      <td>0</td>\n",
       "      <td>0</td>\n",
       "      <td>0</td>\n",
       "      <td>0</td>\n",
       "      <td>19</td>\n",
       "    </tr>\n",
       "    <tr>\n",
       "      <th>4</th>\n",
       "      <td>+++snpr7pmobhLKUgSHTv/mpkqgBT0tQJ0zQj6qKrqc=</td>\n",
       "      <td>25</td>\n",
       "      <td>0</td>\n",
       "      <td>762</td>\n",
       "      <td>0</td>\n",
       "      <td>0</td>\n",
       "      <td>0</td>\n",
       "      <td>0</td>\n",
       "      <td>0</td>\n",
       "      <td>0</td>\n",
       "      <td>...</td>\n",
       "      <td>0</td>\n",
       "      <td>25</td>\n",
       "      <td>0</td>\n",
       "      <td>0</td>\n",
       "      <td>24</td>\n",
       "      <td>0</td>\n",
       "      <td>0</td>\n",
       "      <td>0</td>\n",
       "      <td>0</td>\n",
       "      <td>25</td>\n",
       "    </tr>\n",
       "  </tbody>\n",
       "</table>\n",
       "<p>5 rows × 24 columns</p>\n",
       "</div>"
      ],
      "text/plain": [
       "                                           msno  is_auto_renew  is_cancel  mem_duration  payment_method_id_30  payment_method_id_31  payment_method_id_32  payment_method_id_33  payment_method_id_34  \\\n",
       "0  +++FOrTS7ab3tIgIh8eWwX4FqRv8w/FoiOuyXsFvphY=              0          0             5                     0                     0                     0                     0                     0   \n",
       "1  +++IZseRRiQS9aaSkH6cMYU6bGDcxUieAi/tH67sC5s=              0          0            30                     0                     0                     0                     0                     0   \n",
       "2  +++hVY1rZox/33YtvDgmKA2Frg/2qhkz12B9ylCvh8o=              3          0            91                     0                     0                     0                     0                     0   \n",
       "3  +++l/EXNMLTijfLBa8p2TUVVVp2aFGSuUI/h7mLmthw=             19          0           932                     0                     0                     0                     0                     0   \n",
       "4  +++snpr7pmobhLKUgSHTv/mpkqgBT0tQJ0zQj6qKrqc=             25          0           762                     0                     0                     0                     0                     0   \n",
       "\n",
       "   payment_method_id_35           ...             payment_method_id_40  payment_method_id_41  pay_method_churn  payment_plan_days_7  payment_plan_days_30  payment_plan_days_90  \\\n",
       "0                     1           ...                                0                     0                 1                    1                     0                     0   \n",
       "1                     0           ...                                0                     0                 1                    0                     0                     0   \n",
       "2                     0           ...                                0                     3                 0                    0                     3                     0   \n",
       "3                     0           ...                                0                     0                 0                    0                    15                     0   \n",
       "4                     0           ...                                0                    25                 0                    0                    24                     0   \n",
       "\n",
       "   payment_plan_days_180  payment_plan_days_195  payment_plan_days_410  notAutorenew_and_cancel  \n",
       "0                      0                      0                      0                        0  \n",
       "1                      0                      0                      1                        0  \n",
       "2                      0                      0                      0                        3  \n",
       "3                      0                      0                      0                       19  \n",
       "4                      0                      0                      0                       25  \n",
       "\n",
       "[5 rows x 24 columns]"
      ]
     },
     "execution_count": 38,
     "metadata": {},
     "output_type": "execute_result"
    }
   ],
   "source": [
    "sums_df.head()"
   ]
  },
  {
   "cell_type": "code",
   "execution_count": 39,
   "metadata": {
    "scrolled": true
   },
   "outputs": [
    {
     "name": "stdout",
     "output_type": "stream",
     "text": [
      "(2330992, 24)\n"
     ]
    }
   ],
   "source": [
    "print(sums_df.shape)"
   ]
  },
  {
   "cell_type": "markdown",
   "metadata": {},
   "source": [
    "**Now, I have a dataframe with all my data grouped by msno and added values of each feature (SUM)**"
   ]
  },
  {
   "cell_type": "markdown",
   "metadata": {},
   "source": [
    "### 1.10. <font color='red'>\"Feature Eng.\"</font>: cancel_ratio\n",
    "Next code box will take 4 mins."
   ]
  },
  {
   "cell_type": "code",
   "execution_count": 40,
   "metadata": {},
   "outputs": [
    {
     "name": "stdout",
     "output_type": "stream",
     "text": [
      "(2330992, 3)\n"
     ]
    }
   ],
   "source": [
    "counts = trans2.groupby('msno')['is_cancel'].count().reset_index()\n",
    "counts.columns = ['msno','transactions']\n",
    "sums_is_cancel = trans2.groupby('msno')['is_cancel'].sum().reset_index()\n",
    "merged_dataset = sums_is_cancel.merge(counts, how='inner', on='msno')\n",
    "\n",
    "merged_dataset['is_cancel_number'] = merged_dataset['is_cancel']\n",
    "merged_dataset = merged_dataset.drop(['is_cancel'], axis = 1)\n",
    "print(merged_dataset.shape)"
   ]
  },
  {
   "cell_type": "code",
   "execution_count": 41,
   "metadata": {
    "scrolled": true
   },
   "outputs": [
    {
     "data": {
      "text/html": [
       "<div>\n",
       "<style scoped>\n",
       "    .dataframe tbody tr th:only-of-type {\n",
       "        vertical-align: middle;\n",
       "    }\n",
       "\n",
       "    .dataframe tbody tr th {\n",
       "        vertical-align: top;\n",
       "    }\n",
       "\n",
       "    .dataframe thead th {\n",
       "        text-align: right;\n",
       "    }\n",
       "</style>\n",
       "<table border=\"1\" class=\"dataframe\">\n",
       "  <thead>\n",
       "    <tr style=\"text-align: right;\">\n",
       "      <th></th>\n",
       "      <th>msno</th>\n",
       "      <th>transactions</th>\n",
       "      <th>is_cancel_number</th>\n",
       "    </tr>\n",
       "  </thead>\n",
       "  <tbody>\n",
       "    <tr>\n",
       "      <th>0</th>\n",
       "      <td>+++FOrTS7ab3tIgIh8eWwX4FqRv8w/FoiOuyXsFvphY=</td>\n",
       "      <td>1</td>\n",
       "      <td>0</td>\n",
       "    </tr>\n",
       "    <tr>\n",
       "      <th>1</th>\n",
       "      <td>+++IZseRRiQS9aaSkH6cMYU6bGDcxUieAi/tH67sC5s=</td>\n",
       "      <td>1</td>\n",
       "      <td>0</td>\n",
       "    </tr>\n",
       "    <tr>\n",
       "      <th>2</th>\n",
       "      <td>+++hVY1rZox/33YtvDgmKA2Frg/2qhkz12B9ylCvh8o=</td>\n",
       "      <td>3</td>\n",
       "      <td>0</td>\n",
       "    </tr>\n",
       "    <tr>\n",
       "      <th>3</th>\n",
       "      <td>+++l/EXNMLTijfLBa8p2TUVVVp2aFGSuUI/h7mLmthw=</td>\n",
       "      <td>19</td>\n",
       "      <td>0</td>\n",
       "    </tr>\n",
       "    <tr>\n",
       "      <th>4</th>\n",
       "      <td>+++snpr7pmobhLKUgSHTv/mpkqgBT0tQJ0zQj6qKrqc=</td>\n",
       "      <td>25</td>\n",
       "      <td>0</td>\n",
       "    </tr>\n",
       "  </tbody>\n",
       "</table>\n",
       "</div>"
      ],
      "text/plain": [
       "                                           msno  transactions  is_cancel_number\n",
       "0  +++FOrTS7ab3tIgIh8eWwX4FqRv8w/FoiOuyXsFvphY=             1                 0\n",
       "1  +++IZseRRiQS9aaSkH6cMYU6bGDcxUieAi/tH67sC5s=             1                 0\n",
       "2  +++hVY1rZox/33YtvDgmKA2Frg/2qhkz12B9ylCvh8o=             3                 0\n",
       "3  +++l/EXNMLTijfLBa8p2TUVVVp2aFGSuUI/h7mLmthw=            19                 0\n",
       "4  +++snpr7pmobhLKUgSHTv/mpkqgBT0tQJ0zQj6qKrqc=            25                 0"
      ]
     },
     "execution_count": 41,
     "metadata": {},
     "output_type": "execute_result"
    }
   ],
   "source": [
    "merged_dataset.head()"
   ]
  },
  {
   "cell_type": "markdown",
   "metadata": {},
   "source": [
    "### 1.11. Merge step 1.9. and 1.10."
   ]
  },
  {
   "cell_type": "code",
   "execution_count": 42,
   "metadata": {},
   "outputs": [
    {
     "name": "stdout",
     "output_type": "stream",
     "text": [
      "(2330992, 26)\n"
     ]
    }
   ],
   "source": [
    "result = sums_df.merge(merged_dataset, on='msno')\n",
    "print(result.shape)"
   ]
  },
  {
   "cell_type": "code",
   "execution_count": 43,
   "metadata": {},
   "outputs": [
    {
     "data": {
      "text/html": [
       "<div>\n",
       "<style scoped>\n",
       "    .dataframe tbody tr th:only-of-type {\n",
       "        vertical-align: middle;\n",
       "    }\n",
       "\n",
       "    .dataframe tbody tr th {\n",
       "        vertical-align: top;\n",
       "    }\n",
       "\n",
       "    .dataframe thead th {\n",
       "        text-align: right;\n",
       "    }\n",
       "</style>\n",
       "<table border=\"1\" class=\"dataframe\">\n",
       "  <thead>\n",
       "    <tr style=\"text-align: right;\">\n",
       "      <th></th>\n",
       "      <th>msno</th>\n",
       "      <th>is_auto_renew</th>\n",
       "      <th>is_cancel</th>\n",
       "      <th>mem_duration</th>\n",
       "      <th>payment_method_id_30</th>\n",
       "      <th>payment_method_id_31</th>\n",
       "      <th>payment_method_id_32</th>\n",
       "      <th>payment_method_id_33</th>\n",
       "      <th>payment_method_id_34</th>\n",
       "      <th>payment_method_id_35</th>\n",
       "      <th>...</th>\n",
       "      <th>pay_method_churn</th>\n",
       "      <th>payment_plan_days_7</th>\n",
       "      <th>payment_plan_days_30</th>\n",
       "      <th>payment_plan_days_90</th>\n",
       "      <th>payment_plan_days_180</th>\n",
       "      <th>payment_plan_days_195</th>\n",
       "      <th>payment_plan_days_410</th>\n",
       "      <th>notAutorenew_and_cancel</th>\n",
       "      <th>transactions</th>\n",
       "      <th>is_cancel_number</th>\n",
       "    </tr>\n",
       "  </thead>\n",
       "  <tbody>\n",
       "    <tr>\n",
       "      <th>0</th>\n",
       "      <td>+++FOrTS7ab3tIgIh8eWwX4FqRv8w/FoiOuyXsFvphY=</td>\n",
       "      <td>0</td>\n",
       "      <td>0</td>\n",
       "      <td>5</td>\n",
       "      <td>0</td>\n",
       "      <td>0</td>\n",
       "      <td>0</td>\n",
       "      <td>0</td>\n",
       "      <td>0</td>\n",
       "      <td>1</td>\n",
       "      <td>...</td>\n",
       "      <td>1</td>\n",
       "      <td>1</td>\n",
       "      <td>0</td>\n",
       "      <td>0</td>\n",
       "      <td>0</td>\n",
       "      <td>0</td>\n",
       "      <td>0</td>\n",
       "      <td>0</td>\n",
       "      <td>1</td>\n",
       "      <td>0</td>\n",
       "    </tr>\n",
       "    <tr>\n",
       "      <th>1</th>\n",
       "      <td>+++IZseRRiQS9aaSkH6cMYU6bGDcxUieAi/tH67sC5s=</td>\n",
       "      <td>0</td>\n",
       "      <td>0</td>\n",
       "      <td>30</td>\n",
       "      <td>0</td>\n",
       "      <td>0</td>\n",
       "      <td>0</td>\n",
       "      <td>0</td>\n",
       "      <td>0</td>\n",
       "      <td>0</td>\n",
       "      <td>...</td>\n",
       "      <td>1</td>\n",
       "      <td>0</td>\n",
       "      <td>0</td>\n",
       "      <td>0</td>\n",
       "      <td>0</td>\n",
       "      <td>0</td>\n",
       "      <td>1</td>\n",
       "      <td>0</td>\n",
       "      <td>1</td>\n",
       "      <td>0</td>\n",
       "    </tr>\n",
       "    <tr>\n",
       "      <th>2</th>\n",
       "      <td>+++hVY1rZox/33YtvDgmKA2Frg/2qhkz12B9ylCvh8o=</td>\n",
       "      <td>3</td>\n",
       "      <td>0</td>\n",
       "      <td>91</td>\n",
       "      <td>0</td>\n",
       "      <td>0</td>\n",
       "      <td>0</td>\n",
       "      <td>0</td>\n",
       "      <td>0</td>\n",
       "      <td>0</td>\n",
       "      <td>...</td>\n",
       "      <td>0</td>\n",
       "      <td>0</td>\n",
       "      <td>3</td>\n",
       "      <td>0</td>\n",
       "      <td>0</td>\n",
       "      <td>0</td>\n",
       "      <td>0</td>\n",
       "      <td>3</td>\n",
       "      <td>3</td>\n",
       "      <td>0</td>\n",
       "    </tr>\n",
       "    <tr>\n",
       "      <th>3</th>\n",
       "      <td>+++l/EXNMLTijfLBa8p2TUVVVp2aFGSuUI/h7mLmthw=</td>\n",
       "      <td>19</td>\n",
       "      <td>0</td>\n",
       "      <td>932</td>\n",
       "      <td>0</td>\n",
       "      <td>0</td>\n",
       "      <td>0</td>\n",
       "      <td>0</td>\n",
       "      <td>0</td>\n",
       "      <td>0</td>\n",
       "      <td>...</td>\n",
       "      <td>0</td>\n",
       "      <td>0</td>\n",
       "      <td>15</td>\n",
       "      <td>0</td>\n",
       "      <td>0</td>\n",
       "      <td>0</td>\n",
       "      <td>0</td>\n",
       "      <td>19</td>\n",
       "      <td>19</td>\n",
       "      <td>0</td>\n",
       "    </tr>\n",
       "    <tr>\n",
       "      <th>4</th>\n",
       "      <td>+++snpr7pmobhLKUgSHTv/mpkqgBT0tQJ0zQj6qKrqc=</td>\n",
       "      <td>25</td>\n",
       "      <td>0</td>\n",
       "      <td>762</td>\n",
       "      <td>0</td>\n",
       "      <td>0</td>\n",
       "      <td>0</td>\n",
       "      <td>0</td>\n",
       "      <td>0</td>\n",
       "      <td>0</td>\n",
       "      <td>...</td>\n",
       "      <td>0</td>\n",
       "      <td>0</td>\n",
       "      <td>24</td>\n",
       "      <td>0</td>\n",
       "      <td>0</td>\n",
       "      <td>0</td>\n",
       "      <td>0</td>\n",
       "      <td>25</td>\n",
       "      <td>25</td>\n",
       "      <td>0</td>\n",
       "    </tr>\n",
       "  </tbody>\n",
       "</table>\n",
       "<p>5 rows × 26 columns</p>\n",
       "</div>"
      ],
      "text/plain": [
       "                                           msno  is_auto_renew  is_cancel  mem_duration  payment_method_id_30  payment_method_id_31  payment_method_id_32  payment_method_id_33  payment_method_id_34  \\\n",
       "0  +++FOrTS7ab3tIgIh8eWwX4FqRv8w/FoiOuyXsFvphY=              0          0             5                     0                     0                     0                     0                     0   \n",
       "1  +++IZseRRiQS9aaSkH6cMYU6bGDcxUieAi/tH67sC5s=              0          0            30                     0                     0                     0                     0                     0   \n",
       "2  +++hVY1rZox/33YtvDgmKA2Frg/2qhkz12B9ylCvh8o=              3          0            91                     0                     0                     0                     0                     0   \n",
       "3  +++l/EXNMLTijfLBa8p2TUVVVp2aFGSuUI/h7mLmthw=             19          0           932                     0                     0                     0                     0                     0   \n",
       "4  +++snpr7pmobhLKUgSHTv/mpkqgBT0tQJ0zQj6qKrqc=             25          0           762                     0                     0                     0                     0                     0   \n",
       "\n",
       "   payment_method_id_35        ...         pay_method_churn  payment_plan_days_7  payment_plan_days_30  payment_plan_days_90  payment_plan_days_180  payment_plan_days_195  payment_plan_days_410  \\\n",
       "0                     1        ...                        1                    1                     0                     0                      0                      0                      0   \n",
       "1                     0        ...                        1                    0                     0                     0                      0                      0                      1   \n",
       "2                     0        ...                        0                    0                     3                     0                      0                      0                      0   \n",
       "3                     0        ...                        0                    0                    15                     0                      0                      0                      0   \n",
       "4                     0        ...                        0                    0                    24                     0                      0                      0                      0   \n",
       "\n",
       "   notAutorenew_and_cancel  transactions  is_cancel_number  \n",
       "0                        0             1                 0  \n",
       "1                        0             1                 0  \n",
       "2                        3             3                 0  \n",
       "3                       19            19                 0  \n",
       "4                       25            25                 0  \n",
       "\n",
       "[5 rows x 26 columns]"
      ]
     },
     "execution_count": 43,
     "metadata": {},
     "output_type": "execute_result"
    }
   ],
   "source": [
    "result.head()"
   ]
  },
  {
   "cell_type": "markdown",
   "metadata": {},
   "source": [
    "### 1.12. Put together 1.11. and the file I created in the first parts of this notebook: \"max_expire_date_df.csv\" (part 1.2.)"
   ]
  },
  {
   "cell_type": "code",
   "execution_count": 44,
   "metadata": {},
   "outputs": [
    {
     "name": "stdout",
     "output_type": "stream",
     "text": [
      "Done!\n"
     ]
    }
   ],
   "source": [
    "#CHECK IF YOU HAVE THIS FILE! If not, email pablo.depaz@hotmail.es asking for help :)\n",
    "\n",
    "#TO BE CHANGED IF NEEDED\n",
    "max_expire_date_dataframe = pd.read_csv('data/max_expire_date_df_v1_feb.csv')\n",
    "print('Done!')"
   ]
  },
  {
   "cell_type": "markdown",
   "metadata": {},
   "source": [
    "**Now, merge this with the \"result\" dataframe in section 1.11.**"
   ]
  },
  {
   "cell_type": "code",
   "execution_count": 45,
   "metadata": {},
   "outputs": [
    {
     "name": "stdout",
     "output_type": "stream",
     "text": [
      "(2330992, 27)\n"
     ]
    }
   ],
   "source": [
    "merging = result.merge(max_expire_date_dataframe, on='msno')\n",
    "print(merging.shape)"
   ]
  },
  {
   "cell_type": "code",
   "execution_count": 46,
   "metadata": {},
   "outputs": [
    {
     "data": {
      "text/html": [
       "<div>\n",
       "<style scoped>\n",
       "    .dataframe tbody tr th:only-of-type {\n",
       "        vertical-align: middle;\n",
       "    }\n",
       "\n",
       "    .dataframe tbody tr th {\n",
       "        vertical-align: top;\n",
       "    }\n",
       "\n",
       "    .dataframe thead th {\n",
       "        text-align: right;\n",
       "    }\n",
       "</style>\n",
       "<table border=\"1\" class=\"dataframe\">\n",
       "  <thead>\n",
       "    <tr style=\"text-align: right;\">\n",
       "      <th></th>\n",
       "      <th>msno</th>\n",
       "      <th>is_auto_renew</th>\n",
       "      <th>is_cancel</th>\n",
       "      <th>mem_duration</th>\n",
       "      <th>payment_method_id_30</th>\n",
       "      <th>payment_method_id_31</th>\n",
       "      <th>payment_method_id_32</th>\n",
       "      <th>payment_method_id_33</th>\n",
       "      <th>payment_method_id_34</th>\n",
       "      <th>payment_method_id_35</th>\n",
       "      <th>...</th>\n",
       "      <th>payment_plan_days_7</th>\n",
       "      <th>payment_plan_days_30</th>\n",
       "      <th>payment_plan_days_90</th>\n",
       "      <th>payment_plan_days_180</th>\n",
       "      <th>payment_plan_days_195</th>\n",
       "      <th>payment_plan_days_410</th>\n",
       "      <th>notAutorenew_and_cancel</th>\n",
       "      <th>transactions</th>\n",
       "      <th>is_cancel_number</th>\n",
       "      <th>membership_expire_date_dtype</th>\n",
       "    </tr>\n",
       "  </thead>\n",
       "  <tbody>\n",
       "    <tr>\n",
       "      <th>0</th>\n",
       "      <td>+++FOrTS7ab3tIgIh8eWwX4FqRv8w/FoiOuyXsFvphY=</td>\n",
       "      <td>0</td>\n",
       "      <td>0</td>\n",
       "      <td>5</td>\n",
       "      <td>0</td>\n",
       "      <td>0</td>\n",
       "      <td>0</td>\n",
       "      <td>0</td>\n",
       "      <td>0</td>\n",
       "      <td>1</td>\n",
       "      <td>...</td>\n",
       "      <td>1</td>\n",
       "      <td>0</td>\n",
       "      <td>0</td>\n",
       "      <td>0</td>\n",
       "      <td>0</td>\n",
       "      <td>0</td>\n",
       "      <td>0</td>\n",
       "      <td>1</td>\n",
       "      <td>0</td>\n",
       "      <td>2016-09-14</td>\n",
       "    </tr>\n",
       "    <tr>\n",
       "      <th>1</th>\n",
       "      <td>+++IZseRRiQS9aaSkH6cMYU6bGDcxUieAi/tH67sC5s=</td>\n",
       "      <td>0</td>\n",
       "      <td>0</td>\n",
       "      <td>30</td>\n",
       "      <td>0</td>\n",
       "      <td>0</td>\n",
       "      <td>0</td>\n",
       "      <td>0</td>\n",
       "      <td>0</td>\n",
       "      <td>0</td>\n",
       "      <td>...</td>\n",
       "      <td>0</td>\n",
       "      <td>0</td>\n",
       "      <td>0</td>\n",
       "      <td>0</td>\n",
       "      <td>0</td>\n",
       "      <td>1</td>\n",
       "      <td>0</td>\n",
       "      <td>1</td>\n",
       "      <td>0</td>\n",
       "      <td>2017-01-04</td>\n",
       "    </tr>\n",
       "    <tr>\n",
       "      <th>2</th>\n",
       "      <td>+++hVY1rZox/33YtvDgmKA2Frg/2qhkz12B9ylCvh8o=</td>\n",
       "      <td>3</td>\n",
       "      <td>0</td>\n",
       "      <td>91</td>\n",
       "      <td>0</td>\n",
       "      <td>0</td>\n",
       "      <td>0</td>\n",
       "      <td>0</td>\n",
       "      <td>0</td>\n",
       "      <td>0</td>\n",
       "      <td>...</td>\n",
       "      <td>0</td>\n",
       "      <td>3</td>\n",
       "      <td>0</td>\n",
       "      <td>0</td>\n",
       "      <td>0</td>\n",
       "      <td>0</td>\n",
       "      <td>3</td>\n",
       "      <td>3</td>\n",
       "      <td>0</td>\n",
       "      <td>2017-02-15</td>\n",
       "    </tr>\n",
       "    <tr>\n",
       "      <th>3</th>\n",
       "      <td>+++l/EXNMLTijfLBa8p2TUVVVp2aFGSuUI/h7mLmthw=</td>\n",
       "      <td>19</td>\n",
       "      <td>0</td>\n",
       "      <td>932</td>\n",
       "      <td>0</td>\n",
       "      <td>0</td>\n",
       "      <td>0</td>\n",
       "      <td>0</td>\n",
       "      <td>0</td>\n",
       "      <td>0</td>\n",
       "      <td>...</td>\n",
       "      <td>0</td>\n",
       "      <td>15</td>\n",
       "      <td>0</td>\n",
       "      <td>0</td>\n",
       "      <td>0</td>\n",
       "      <td>0</td>\n",
       "      <td>19</td>\n",
       "      <td>19</td>\n",
       "      <td>0</td>\n",
       "      <td>2017-03-19</td>\n",
       "    </tr>\n",
       "    <tr>\n",
       "      <th>4</th>\n",
       "      <td>+++snpr7pmobhLKUgSHTv/mpkqgBT0tQJ0zQj6qKrqc=</td>\n",
       "      <td>25</td>\n",
       "      <td>0</td>\n",
       "      <td>762</td>\n",
       "      <td>0</td>\n",
       "      <td>0</td>\n",
       "      <td>0</td>\n",
       "      <td>0</td>\n",
       "      <td>0</td>\n",
       "      <td>0</td>\n",
       "      <td>...</td>\n",
       "      <td>0</td>\n",
       "      <td>24</td>\n",
       "      <td>0</td>\n",
       "      <td>0</td>\n",
       "      <td>0</td>\n",
       "      <td>0</td>\n",
       "      <td>25</td>\n",
       "      <td>25</td>\n",
       "      <td>0</td>\n",
       "      <td>2017-02-26</td>\n",
       "    </tr>\n",
       "  </tbody>\n",
       "</table>\n",
       "<p>5 rows × 27 columns</p>\n",
       "</div>"
      ],
      "text/plain": [
       "                                           msno  is_auto_renew  is_cancel  mem_duration  payment_method_id_30  payment_method_id_31  payment_method_id_32  payment_method_id_33  payment_method_id_34  \\\n",
       "0  +++FOrTS7ab3tIgIh8eWwX4FqRv8w/FoiOuyXsFvphY=              0          0             5                     0                     0                     0                     0                     0   \n",
       "1  +++IZseRRiQS9aaSkH6cMYU6bGDcxUieAi/tH67sC5s=              0          0            30                     0                     0                     0                     0                     0   \n",
       "2  +++hVY1rZox/33YtvDgmKA2Frg/2qhkz12B9ylCvh8o=              3          0            91                     0                     0                     0                     0                     0   \n",
       "3  +++l/EXNMLTijfLBa8p2TUVVVp2aFGSuUI/h7mLmthw=             19          0           932                     0                     0                     0                     0                     0   \n",
       "4  +++snpr7pmobhLKUgSHTv/mpkqgBT0tQJ0zQj6qKrqc=             25          0           762                     0                     0                     0                     0                     0   \n",
       "\n",
       "   payment_method_id_35              ...               payment_plan_days_7  payment_plan_days_30  payment_plan_days_90  payment_plan_days_180  payment_plan_days_195  payment_plan_days_410  \\\n",
       "0                     1              ...                                 1                     0                     0                      0                      0                      0   \n",
       "1                     0              ...                                 0                     0                     0                      0                      0                      1   \n",
       "2                     0              ...                                 0                     3                     0                      0                      0                      0   \n",
       "3                     0              ...                                 0                    15                     0                      0                      0                      0   \n",
       "4                     0              ...                                 0                    24                     0                      0                      0                      0   \n",
       "\n",
       "   notAutorenew_and_cancel  transactions  is_cancel_number  membership_expire_date_dtype  \n",
       "0                        0             1                 0                    2016-09-14  \n",
       "1                        0             1                 0                    2017-01-04  \n",
       "2                        3             3                 0                    2017-02-15  \n",
       "3                       19            19                 0                    2017-03-19  \n",
       "4                       25            25                 0                    2017-02-26  \n",
       "\n",
       "[5 rows x 27 columns]"
      ]
     },
     "execution_count": 46,
     "metadata": {},
     "output_type": "execute_result"
    }
   ],
   "source": [
    "merging.head()"
   ]
  },
  {
   "cell_type": "markdown",
   "metadata": {},
   "source": [
    "### 1.13. Check if missing values"
   ]
  },
  {
   "cell_type": "code",
   "execution_count": 47,
   "metadata": {
    "scrolled": true
   },
   "outputs": [
    {
     "data": {
      "text/plain": [
       "msno                            0\n",
       "is_auto_renew                   0\n",
       "is_cancel                       0\n",
       "mem_duration                    0\n",
       "payment_method_id_30            0\n",
       "payment_method_id_31            0\n",
       "payment_method_id_32            0\n",
       "payment_method_id_33            0\n",
       "payment_method_id_34            0\n",
       "payment_method_id_35            0\n",
       "payment_method_id_36            0\n",
       "payment_method_id_37            0\n",
       "payment_method_id_38            0\n",
       "payment_method_id_39            0\n",
       "payment_method_id_40            0\n",
       "payment_method_id_41            0\n",
       "pay_method_churn                0\n",
       "payment_plan_days_7             0\n",
       "payment_plan_days_30            0\n",
       "payment_plan_days_90            0\n",
       "payment_plan_days_180           0\n",
       "payment_plan_days_195           0\n",
       "payment_plan_days_410           0\n",
       "notAutorenew_and_cancel         0\n",
       "transactions                    0\n",
       "is_cancel_number                0\n",
       "membership_expire_date_dtype    0\n",
       "dtype: int64"
      ]
     },
     "execution_count": 47,
     "metadata": {},
     "output_type": "execute_result"
    }
   ],
   "source": [
    "merging.isnull().sum()\n",
    "#We should get 0!"
   ]
  },
  {
   "cell_type": "markdown",
   "metadata": {},
   "source": [
    "<img src=\"https://www.calshrm.org/images/soft%20slit%20separator.png?crc=4104113101\" border=\"1\" alt=\"Dataframe transactions\" width=\"400\" height=\"100\">\n"
   ]
  },
  {
   "cell_type": "markdown",
   "metadata": {},
   "source": [
    "# 2. Create 3 dataframes with train_v1, train_v2 and submission_file.\n",
    "I compute the days difference between **max_expire_date** and:\n",
    "- Feb 28th (**for train_v1**)\n",
    "- March 31th (**for train_v2**). We use this one\n",
    "- April 30th (**for submission_file**). We use this one\n",
    "<img src=\"http://tripkendall.com/wp-content/uploads/2018/01/pandas_logo-1080x675.jpg\" border=\"1\" alt=\"Dataframe transactions\" width=\"200\" height=\"150\">"
   ]
  },
  {
   "cell_type": "code",
   "execution_count": 48,
   "metadata": {},
   "outputs": [
    {
     "name": "stdout",
     "output_type": "stream",
     "text": [
      "(992931, 2)\n",
      "(970960, 2)\n",
      "(907471, 2)\n"
     ]
    }
   ],
   "source": [
    "#Import train sets and sample_submission_zero.csv\n",
    "train = pd.read_csv('data/train.csv')\n",
    "print(train.shape)\n",
    "train_v2 = pd.read_csv('data/train_v2.csv')\n",
    "print(train_v2.shape)\n",
    "sample_sub = pd.read_csv('data/sample_submission_v2.csv')\n",
    "print(sample_sub.shape)"
   ]
  },
  {
   "cell_type": "markdown",
   "metadata": {},
   "source": [
    "### 2.1. Compute the dates difference"
   ]
  },
  {
   "cell_type": "code",
   "execution_count": 49,
   "metadata": {},
   "outputs": [],
   "source": [
    "#Compute the difference for \"train\" (w.r.t. 2017 Feb 28th)\n",
    "merging['membership_expire_date_dtype'] = pd.to_datetime(merging['membership_expire_date_dtype'])\n",
    "merging.dtypes\n",
    "\n",
    "merging['diff_feb'] = merging['membership_expire_date_dtype'] - datetime.date(2017,2,28)\n",
    "merging['diff_feb'] = merging['diff_feb'] / np.timedelta64(1, 'D')\n",
    "merging['diff_feb'] = merging['diff_feb'].astype(int)"
   ]
  },
  {
   "cell_type": "code",
   "execution_count": 50,
   "metadata": {},
   "outputs": [],
   "source": [
    "#Compute the difference for \"train\" (w.r.t. 2017 March 31st)\n",
    "merging['diff_mar'] = merging['membership_expire_date_dtype'] - datetime.date(2017,3,31)\n",
    "merging['diff_mar'] = merging['diff_mar'] / np.timedelta64(1, 'D')\n",
    "merging['diff_mar'] = merging['diff_mar'].astype(int)"
   ]
  },
  {
   "cell_type": "code",
   "execution_count": 51,
   "metadata": {},
   "outputs": [],
   "source": [
    "#Compute the difference for \"train\" (w.r.t. 2017 April 30th)\n",
    "merging['diff_apr'] = merging['membership_expire_date_dtype'] - datetime.date(2017,4,30)\n",
    "merging['diff_apr'] = merging['diff_apr'] / np.timedelta64(1, 'D')\n",
    "merging['diff_apr'] = merging['diff_apr'].astype(int)"
   ]
  },
  {
   "cell_type": "code",
   "execution_count": 52,
   "metadata": {},
   "outputs": [],
   "source": [
    "#I don't need it anymore\n",
    "merging = merging.drop(\"membership_expire_date_dtype\", axis = 1)"
   ]
  },
  {
   "cell_type": "markdown",
   "metadata": {},
   "source": [
    "So, here I have in **merging** 3 features:\n",
    "- **\"diff_feb\"**: feature with the difference of the expiration date w.r.t. 2017 Feb 28th.\n",
    "- **\"diff_mar\"**: feature with the difference of the expiration date w.r.t. 2017 Mar 31st.\n",
    "- **\"diff_apr\"**: feature with the difference of the expiration date w.r.t. 2017 Apr 30th."
   ]
  },
  {
   "cell_type": "markdown",
   "metadata": {},
   "source": [
    "### 2.2. Merge the \"dfX\" dataframes with train, train_v2 and sample_submission"
   ]
  },
  {
   "cell_type": "code",
   "execution_count": 53,
   "metadata": {},
   "outputs": [],
   "source": [
    "#TO BE CHANGED IF NEEDED (change right file to merge with)\n",
    "train_final = pd.merge(merging, train, on = 'msno', how = 'right')\n",
    "\n",
    "#TO BE CHANGED IF NEEDED (change the features to drop)\n",
    "train_final = train_final.drop(\"diff_apr\", axis=1)\n",
    "train_final = train_final.drop(\"diff_mar\", axis=1)"
   ]
  },
  {
   "cell_type": "code",
   "execution_count": 54,
   "metadata": {},
   "outputs": [],
   "source": [
    "#Rename the feature of the difference with the same name! (to be able to work with different files)\n",
    "\n",
    "#TO BE CHANGED IF NEEDED (change the feature in the right part of the assignment below)\n",
    "train_final['diff'] = train_final['diff_feb']"
   ]
  },
  {
   "cell_type": "code",
   "execution_count": 55,
   "metadata": {},
   "outputs": [
    {
     "data": {
      "text/html": [
       "<div>\n",
       "<style scoped>\n",
       "    .dataframe tbody tr th:only-of-type {\n",
       "        vertical-align: middle;\n",
       "    }\n",
       "\n",
       "    .dataframe tbody tr th {\n",
       "        vertical-align: top;\n",
       "    }\n",
       "\n",
       "    .dataframe thead th {\n",
       "        text-align: right;\n",
       "    }\n",
       "</style>\n",
       "<table border=\"1\" class=\"dataframe\">\n",
       "  <thead>\n",
       "    <tr style=\"text-align: right;\">\n",
       "      <th></th>\n",
       "      <th>msno</th>\n",
       "      <th>is_auto_renew</th>\n",
       "      <th>is_cancel</th>\n",
       "      <th>mem_duration</th>\n",
       "      <th>payment_method_id_30</th>\n",
       "      <th>payment_method_id_31</th>\n",
       "      <th>payment_method_id_32</th>\n",
       "      <th>payment_method_id_33</th>\n",
       "      <th>payment_method_id_34</th>\n",
       "      <th>payment_method_id_35</th>\n",
       "      <th>...</th>\n",
       "      <th>payment_plan_days_30</th>\n",
       "      <th>payment_plan_days_90</th>\n",
       "      <th>payment_plan_days_180</th>\n",
       "      <th>payment_plan_days_195</th>\n",
       "      <th>payment_plan_days_410</th>\n",
       "      <th>notAutorenew_and_cancel</th>\n",
       "      <th>transactions</th>\n",
       "      <th>is_cancel_number</th>\n",
       "      <th>is_churn</th>\n",
       "      <th>diff</th>\n",
       "    </tr>\n",
       "  </thead>\n",
       "  <tbody>\n",
       "    <tr>\n",
       "      <th>0</th>\n",
       "      <td>+++hVY1rZox/33YtvDgmKA2Frg/2qhkz12B9ylCvh8o=</td>\n",
       "      <td>3.0</td>\n",
       "      <td>0.0</td>\n",
       "      <td>91.0</td>\n",
       "      <td>0.0</td>\n",
       "      <td>0.0</td>\n",
       "      <td>0.0</td>\n",
       "      <td>0.0</td>\n",
       "      <td>0.0</td>\n",
       "      <td>0.0</td>\n",
       "      <td>...</td>\n",
       "      <td>3.0</td>\n",
       "      <td>0.0</td>\n",
       "      <td>0.0</td>\n",
       "      <td>0.0</td>\n",
       "      <td>0.0</td>\n",
       "      <td>3.0</td>\n",
       "      <td>3.0</td>\n",
       "      <td>0.0</td>\n",
       "      <td>0</td>\n",
       "      <td>-13.0</td>\n",
       "    </tr>\n",
       "    <tr>\n",
       "      <th>1</th>\n",
       "      <td>+++l/EXNMLTijfLBa8p2TUVVVp2aFGSuUI/h7mLmthw=</td>\n",
       "      <td>19.0</td>\n",
       "      <td>0.0</td>\n",
       "      <td>932.0</td>\n",
       "      <td>0.0</td>\n",
       "      <td>0.0</td>\n",
       "      <td>0.0</td>\n",
       "      <td>0.0</td>\n",
       "      <td>0.0</td>\n",
       "      <td>0.0</td>\n",
       "      <td>...</td>\n",
       "      <td>15.0</td>\n",
       "      <td>0.0</td>\n",
       "      <td>0.0</td>\n",
       "      <td>0.0</td>\n",
       "      <td>0.0</td>\n",
       "      <td>19.0</td>\n",
       "      <td>19.0</td>\n",
       "      <td>0.0</td>\n",
       "      <td>0</td>\n",
       "      <td>19.0</td>\n",
       "    </tr>\n",
       "    <tr>\n",
       "      <th>2</th>\n",
       "      <td>+++snpr7pmobhLKUgSHTv/mpkqgBT0tQJ0zQj6qKrqc=</td>\n",
       "      <td>25.0</td>\n",
       "      <td>0.0</td>\n",
       "      <td>762.0</td>\n",
       "      <td>0.0</td>\n",
       "      <td>0.0</td>\n",
       "      <td>0.0</td>\n",
       "      <td>0.0</td>\n",
       "      <td>0.0</td>\n",
       "      <td>0.0</td>\n",
       "      <td>...</td>\n",
       "      <td>24.0</td>\n",
       "      <td>0.0</td>\n",
       "      <td>0.0</td>\n",
       "      <td>0.0</td>\n",
       "      <td>0.0</td>\n",
       "      <td>25.0</td>\n",
       "      <td>25.0</td>\n",
       "      <td>0.0</td>\n",
       "      <td>0</td>\n",
       "      <td>-2.0</td>\n",
       "    </tr>\n",
       "    <tr>\n",
       "      <th>3</th>\n",
       "      <td>++/9R3sX37CjxbY/AaGvbwr3QkwElKBCtSvVzhCBDOk=</td>\n",
       "      <td>11.0</td>\n",
       "      <td>0.0</td>\n",
       "      <td>337.0</td>\n",
       "      <td>0.0</td>\n",
       "      <td>0.0</td>\n",
       "      <td>0.0</td>\n",
       "      <td>0.0</td>\n",
       "      <td>0.0</td>\n",
       "      <td>0.0</td>\n",
       "      <td>...</td>\n",
       "      <td>11.0</td>\n",
       "      <td>0.0</td>\n",
       "      <td>0.0</td>\n",
       "      <td>0.0</td>\n",
       "      <td>0.0</td>\n",
       "      <td>11.0</td>\n",
       "      <td>11.0</td>\n",
       "      <td>0.0</td>\n",
       "      <td>0</td>\n",
       "      <td>-13.0</td>\n",
       "    </tr>\n",
       "    <tr>\n",
       "      <th>4</th>\n",
       "      <td>++/UDNo9DLrxT8QVGiDi1OnWfczAdEwThaVyD0fXO50=</td>\n",
       "      <td>19.0</td>\n",
       "      <td>0.0</td>\n",
       "      <td>1008.0</td>\n",
       "      <td>0.0</td>\n",
       "      <td>0.0</td>\n",
       "      <td>0.0</td>\n",
       "      <td>0.0</td>\n",
       "      <td>0.0</td>\n",
       "      <td>0.0</td>\n",
       "      <td>...</td>\n",
       "      <td>15.0</td>\n",
       "      <td>0.0</td>\n",
       "      <td>0.0</td>\n",
       "      <td>0.0</td>\n",
       "      <td>0.0</td>\n",
       "      <td>19.0</td>\n",
       "      <td>19.0</td>\n",
       "      <td>0.0</td>\n",
       "      <td>0</td>\n",
       "      <td>23.0</td>\n",
       "    </tr>\n",
       "  </tbody>\n",
       "</table>\n",
       "<p>5 rows × 28 columns</p>\n",
       "</div>"
      ],
      "text/plain": [
       "                                           msno  is_auto_renew  is_cancel  mem_duration  payment_method_id_30  payment_method_id_31  payment_method_id_32  payment_method_id_33  payment_method_id_34  \\\n",
       "0  +++hVY1rZox/33YtvDgmKA2Frg/2qhkz12B9ylCvh8o=            3.0        0.0          91.0                   0.0                   0.0                   0.0                   0.0                   0.0   \n",
       "1  +++l/EXNMLTijfLBa8p2TUVVVp2aFGSuUI/h7mLmthw=           19.0        0.0         932.0                   0.0                   0.0                   0.0                   0.0                   0.0   \n",
       "2  +++snpr7pmobhLKUgSHTv/mpkqgBT0tQJ0zQj6qKrqc=           25.0        0.0         762.0                   0.0                   0.0                   0.0                   0.0                   0.0   \n",
       "3  ++/9R3sX37CjxbY/AaGvbwr3QkwElKBCtSvVzhCBDOk=           11.0        0.0         337.0                   0.0                   0.0                   0.0                   0.0                   0.0   \n",
       "4  ++/UDNo9DLrxT8QVGiDi1OnWfczAdEwThaVyD0fXO50=           19.0        0.0        1008.0                   0.0                   0.0                   0.0                   0.0                   0.0   \n",
       "\n",
       "   payment_method_id_35  ...   payment_plan_days_30  payment_plan_days_90  payment_plan_days_180  payment_plan_days_195  payment_plan_days_410  notAutorenew_and_cancel  transactions  \\\n",
       "0                   0.0  ...                    3.0                   0.0                    0.0                    0.0                    0.0                      3.0           3.0   \n",
       "1                   0.0  ...                   15.0                   0.0                    0.0                    0.0                    0.0                     19.0          19.0   \n",
       "2                   0.0  ...                   24.0                   0.0                    0.0                    0.0                    0.0                     25.0          25.0   \n",
       "3                   0.0  ...                   11.0                   0.0                    0.0                    0.0                    0.0                     11.0          11.0   \n",
       "4                   0.0  ...                   15.0                   0.0                    0.0                    0.0                    0.0                     19.0          19.0   \n",
       "\n",
       "   is_cancel_number  is_churn  diff  \n",
       "0               0.0         0 -13.0  \n",
       "1               0.0         0  19.0  \n",
       "2               0.0         0  -2.0  \n",
       "3               0.0         0 -13.0  \n",
       "4               0.0         0  23.0  \n",
       "\n",
       "[5 rows x 28 columns]"
      ]
     },
     "execution_count": 55,
     "metadata": {},
     "output_type": "execute_result"
    }
   ],
   "source": [
    "#TO BE CHANGED IF NEEDED (drop the feature and keep the one with the \"diff\" name)\n",
    "train_final = train_final.drop(\"diff_feb\", axis=1)\n",
    "train_final.head()"
   ]
  },
  {
   "cell_type": "code",
   "execution_count": 56,
   "metadata": {
    "scrolled": true
   },
   "outputs": [
    {
     "name": "stdout",
     "output_type": "stream",
     "text": [
      "(992931, 28)\n"
     ]
    }
   ],
   "source": [
    "print(train_final.shape)\n",
    "#print(train_final.describe().T)"
   ]
  },
  {
   "cell_type": "markdown",
   "metadata": {},
   "source": [
    "### 2.3. Check for missing values"
   ]
  },
  {
   "cell_type": "code",
   "execution_count": 57,
   "metadata": {
    "scrolled": true
   },
   "outputs": [
    {
     "data": {
      "text/plain": [
       "msno                          0\n",
       "is_auto_renew              2097\n",
       "is_cancel                  2097\n",
       "mem_duration               2097\n",
       "payment_method_id_30       2097\n",
       "payment_method_id_31       2097\n",
       "payment_method_id_32       2097\n",
       "payment_method_id_33       2097\n",
       "payment_method_id_34       2097\n",
       "payment_method_id_35       2097\n",
       "payment_method_id_36       2097\n",
       "payment_method_id_37       2097\n",
       "payment_method_id_38       2097\n",
       "payment_method_id_39       2097\n",
       "payment_method_id_40       2097\n",
       "payment_method_id_41       2097\n",
       "pay_method_churn           2097\n",
       "payment_plan_days_7        2097\n",
       "payment_plan_days_30       2097\n",
       "payment_plan_days_90       2097\n",
       "payment_plan_days_180      2097\n",
       "payment_plan_days_195      2097\n",
       "payment_plan_days_410      2097\n",
       "notAutorenew_and_cancel    2097\n",
       "transactions               2097\n",
       "is_cancel_number           2097\n",
       "is_churn                      0\n",
       "diff                       2097\n",
       "dtype: int64"
      ]
     },
     "execution_count": 57,
     "metadata": {},
     "output_type": "execute_result"
    }
   ],
   "source": [
    "train_final.isnull().sum()\n",
    "#For the missing values, I will just put the majority values for each feature"
   ]
  },
  {
   "cell_type": "markdown",
   "metadata": {},
   "source": [
    "**Some data they have missing values, if so: uncomment next 2 blocks of code and run them!**"
   ]
  },
  {
   "cell_type": "code",
   "execution_count": 58,
   "metadata": {
    "scrolled": true
   },
   "outputs": [],
   "source": [
    "values = {'is_auto_renew': 1, 'is_cancel': 0, 'mem_duration': 488, 'payment_method_id_30': 0, 'payment_method_id_31': 0, 'payment_method_id_32': 0, 'payment_method_id_33': 0, 'payment_method_id_34': 0, 'payment_method_id_35': 0, 'payment_method_id_36': 0, 'payment_method_id_37': 0, 'payment_method_id_38': 0, 'payment_method_id_39': 1, 'payment_method_id_40': 1, 'payment_method_id_41': 9, 'pay_method_churn': 0, 'payment_plan_days_7': 0, 'payment_plan_days_30': 14, 'payment_plan_days_90': 0, 'payment_plan_days_180': 0, 'payment_plan_days_195': 0, 'payment_plan_days_410': 0, 'notAutorenew_and_cancel': 0, 'transactions': 15, 'is_cancel_number': 0, 'diff': -14, 'is_churn': 0}\n",
    "train_final = train_final.fillna(value = values)"
   ]
  },
  {
   "cell_type": "code",
   "execution_count": 59,
   "metadata": {
    "scrolled": true
   },
   "outputs": [
    {
     "data": {
      "text/plain": [
       "msno                       0\n",
       "is_auto_renew              0\n",
       "is_cancel                  0\n",
       "mem_duration               0\n",
       "payment_method_id_30       0\n",
       "payment_method_id_31       0\n",
       "payment_method_id_32       0\n",
       "payment_method_id_33       0\n",
       "payment_method_id_34       0\n",
       "payment_method_id_35       0\n",
       "payment_method_id_36       0\n",
       "payment_method_id_37       0\n",
       "payment_method_id_38       0\n",
       "payment_method_id_39       0\n",
       "payment_method_id_40       0\n",
       "payment_method_id_41       0\n",
       "pay_method_churn           0\n",
       "payment_plan_days_7        0\n",
       "payment_plan_days_30       0\n",
       "payment_plan_days_90       0\n",
       "payment_plan_days_180      0\n",
       "payment_plan_days_195      0\n",
       "payment_plan_days_410      0\n",
       "notAutorenew_and_cancel    0\n",
       "transactions               0\n",
       "is_cancel_number           0\n",
       "is_churn                   0\n",
       "diff                       0\n",
       "dtype: int64"
      ]
     },
     "execution_count": 59,
     "metadata": {},
     "output_type": "execute_result"
    }
   ],
   "source": [
    "train_final.isnull().sum()"
   ]
  },
  {
   "cell_type": "code",
   "execution_count": 60,
   "metadata": {},
   "outputs": [
    {
     "name": "stdout",
     "output_type": "stream",
     "text": [
      "(992931, 28)\n"
     ]
    }
   ],
   "source": [
    "print(train_final.shape)\n",
    "#Now I have the desired features (28 features)"
   ]
  },
  {
   "cell_type": "markdown",
   "metadata": {},
   "source": [
    "<img src=\"https://www.calshrm.org/images/soft%20slit%20separator.png?crc=4104113101\" border=\"1\" alt=\"Dataframe transactions\" width=\"400\" height=\"100\">\n"
   ]
  },
  {
   "cell_type": "markdown",
   "metadata": {},
   "source": [
    "## 3. Export file\n",
    "It should take around 2 minutes!"
   ]
  },
  {
   "cell_type": "code",
   "execution_count": 61,
   "metadata": {},
   "outputs": [
    {
     "name": "stdout",
     "output_type": "stream",
     "text": [
      "Done!\n"
     ]
    }
   ],
   "source": [
    "train_final.to_csv('data/transactions_feb.csv', index = False)\n",
    "print('Done!')"
   ]
  },
  {
   "cell_type": "code",
   "execution_count": null,
   "metadata": {},
   "outputs": [],
   "source": []
  }
 ],
 "metadata": {
  "kernelspec": {
   "display_name": "Python 3",
   "language": "python",
   "name": "python3"
  },
  "language_info": {
   "codemirror_mode": {
    "name": "ipython",
    "version": 3
   },
   "file_extension": ".py",
   "mimetype": "text/x-python",
   "name": "python",
   "nbconvert_exporter": "python",
   "pygments_lexer": "ipython3",
   "version": "3.6.4"
  }
 },
 "nbformat": 4,
 "nbformat_minor": 2
}
