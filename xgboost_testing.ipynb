{
 "cells": [
  {
   "cell_type": "code",
   "execution_count": 16,
   "metadata": {},
   "outputs": [
    {
     "name": "stdout",
     "output_type": "stream",
     "text": [
      "hey\n"
     ]
    }
   ],
   "source": [
    "#Load libraries and data\n",
    "#import xgboost as xgb\n",
    "import numpy as np\n",
    "import pandas as pd\n",
    "from sklearn.model_selection import train_test_split\n",
    "from sklearn.metrics import accuracy_score\n",
    "from sklearn.ensemble import RandomForestRegressor\n",
    "\n",
    "#Configure Panda\n",
    "pd.options.display.width = 200\n",
    "\n",
    "train = pd.read_csv('data/train_v2.csv')\n",
    "test = pd.read_csv('data/sample_submission_v2.csv')\n",
    "transactions = pd.read_csv('data/transactions_v2.csv')\n",
    "members = pd.read_csv('data/members_v3.csv')\n",
    "print(\"hey\")\n",
    "\n"
   ]
  },
  {
   "cell_type": "code",
   "execution_count": 17,
   "metadata": {},
   "outputs": [
    {
     "data": {
      "text/html": [
       "<div>\n",
       "<style scoped>\n",
       "    .dataframe tbody tr th:only-of-type {\n",
       "        vertical-align: middle;\n",
       "    }\n",
       "\n",
       "    .dataframe tbody tr th {\n",
       "        vertical-align: top;\n",
       "    }\n",
       "\n",
       "    .dataframe thead th {\n",
       "        text-align: right;\n",
       "    }\n",
       "</style>\n",
       "<table border=\"1\" class=\"dataframe\">\n",
       "  <thead>\n",
       "    <tr style=\"text-align: right;\">\n",
       "      <th></th>\n",
       "      <th>msno</th>\n",
       "      <th>payment_method_id</th>\n",
       "      <th>payment_plan_days</th>\n",
       "      <th>plan_list_price</th>\n",
       "      <th>actual_amount_paid</th>\n",
       "      <th>is_auto_renew</th>\n",
       "      <th>transaction_date</th>\n",
       "      <th>membership_expire_date</th>\n",
       "      <th>is_cancel</th>\n",
       "    </tr>\n",
       "  </thead>\n",
       "  <tbody>\n",
       "    <tr>\n",
       "      <th>0</th>\n",
       "      <td>++6eU4LsQ3UQ20ILS7d99XK8WbiVgbyYL4FUgzZR134=</td>\n",
       "      <td>32</td>\n",
       "      <td>90</td>\n",
       "      <td>298</td>\n",
       "      <td>298</td>\n",
       "      <td>0</td>\n",
       "      <td>20170131</td>\n",
       "      <td>20170504</td>\n",
       "      <td>0</td>\n",
       "    </tr>\n",
       "    <tr>\n",
       "      <th>1</th>\n",
       "      <td>++lvGPJOinuin/8esghpnqdljm6NXS8m8Zwchc7gOeA=</td>\n",
       "      <td>41</td>\n",
       "      <td>30</td>\n",
       "      <td>149</td>\n",
       "      <td>149</td>\n",
       "      <td>1</td>\n",
       "      <td>20150809</td>\n",
       "      <td>20190412</td>\n",
       "      <td>0</td>\n",
       "    </tr>\n",
       "    <tr>\n",
       "      <th>2</th>\n",
       "      <td>+/GXNtXWQVfKrEDqYAzcSw2xSPYMKWNj22m+5XkVQZc=</td>\n",
       "      <td>36</td>\n",
       "      <td>30</td>\n",
       "      <td>180</td>\n",
       "      <td>180</td>\n",
       "      <td>1</td>\n",
       "      <td>20170303</td>\n",
       "      <td>20170422</td>\n",
       "      <td>0</td>\n",
       "    </tr>\n",
       "    <tr>\n",
       "      <th>3</th>\n",
       "      <td>+/w1UrZwyka4C9oNH3+Q8fUf3fD8R3EwWrx57ODIsqk=</td>\n",
       "      <td>36</td>\n",
       "      <td>30</td>\n",
       "      <td>180</td>\n",
       "      <td>180</td>\n",
       "      <td>1</td>\n",
       "      <td>20170329</td>\n",
       "      <td>20170331</td>\n",
       "      <td>1</td>\n",
       "    </tr>\n",
       "    <tr>\n",
       "      <th>4</th>\n",
       "      <td>+00PGzKTYqtnb65mPKPyeHXcZEwqiEzktpQksaaSC3c=</td>\n",
       "      <td>41</td>\n",
       "      <td>30</td>\n",
       "      <td>99</td>\n",
       "      <td>99</td>\n",
       "      <td>1</td>\n",
       "      <td>20170323</td>\n",
       "      <td>20170423</td>\n",
       "      <td>0</td>\n",
       "    </tr>\n",
       "  </tbody>\n",
       "</table>\n",
       "</div>"
      ],
      "text/plain": [
       "                                           msno  payment_method_id  payment_plan_days  plan_list_price  actual_amount_paid  is_auto_renew  transaction_date  membership_expire_date  is_cancel\n",
       "0  ++6eU4LsQ3UQ20ILS7d99XK8WbiVgbyYL4FUgzZR134=                 32                 90              298                 298              0          20170131                20170504          0\n",
       "1  ++lvGPJOinuin/8esghpnqdljm6NXS8m8Zwchc7gOeA=                 41                 30              149                 149              1          20150809                20190412          0\n",
       "2  +/GXNtXWQVfKrEDqYAzcSw2xSPYMKWNj22m+5XkVQZc=                 36                 30              180                 180              1          20170303                20170422          0\n",
       "3  +/w1UrZwyka4C9oNH3+Q8fUf3fD8R3EwWrx57ODIsqk=                 36                 30              180                 180              1          20170329                20170331          1\n",
       "4  +00PGzKTYqtnb65mPKPyeHXcZEwqiEzktpQksaaSC3c=                 41                 30               99                  99              1          20170323                20170423          0"
      ]
     },
     "execution_count": 17,
     "metadata": {},
     "output_type": "execute_result"
    }
   ],
   "source": [
    "transactions.head()"
   ]
  },
  {
   "cell_type": "code",
   "execution_count": null,
   "metadata": {},
   "outputs": [],
   "source": [
    "#import current modified verion (see feature engineering file)\n",
    "'final_members.csv'"
   ]
  },
  {
   "cell_type": "markdown",
   "metadata": {},
   "source": []
  },
  {
   "cell_type": "code",
   "execution_count": 70,
   "metadata": {},
   "outputs": [
    {
     "name": "stdout",
     "output_type": "stream",
     "text": [
      "                                            msno  transaction_date  membership_expire_date  is_cancel  is_churn\n",
      "0   ++lvGPJOinuin/8esghpnqdljm6NXS8m8Zwchc7gOeA=          20150809                20190412          0         0\n",
      "39  +/GXNtXWQVfKrEDqYAzcSw2xSPYMKWNj22m+5XkVQZc=          20170303                20170422          0         0\n",
      "40  +/w1UrZwyka4C9oNH3+Q8fUf3fD8R3EwWrx57ODIsqk=          20170329                20170331          1         1\n",
      "41  +00PGzKTYqtnb65mPKPyeHXcZEwqiEzktpQksaaSC3c=          20170323                20170423          0         0\n",
      "42  +0KcMm8JNCW08lTp3Lyz5Ger/47u3yj9H2xLf8lyAj8=          20151112                20180613          0         0\n",
      "    transaction_date  membership_expire_date  is_cancel\n",
      "0           20150809                20190412          0\n",
      "39          20170303                20170422          0\n",
      "40          20170329                20170331          1\n",
      "41          20170323                20170423          0\n",
      "42          20151112                20180613          0\n",
      "                                            msno  transaction_date  membership_expire_date  is_cancel  is_churn\n",
      "0   ++lvGPJOinuin/8esghpnqdljm6NXS8m8Zwchc7gOeA=          20150809                20190412          0         0\n",
      "39  +/GXNtXWQVfKrEDqYAzcSw2xSPYMKWNj22m+5XkVQZc=          20170303                20170422          0         0\n",
      "40  +00PGzKTYqtnb65mPKPyeHXcZEwqiEzktpQksaaSC3c=          20170323                20170423          0         0\n",
      "41  +0KcMm8JNCW08lTp3Lyz5Ger/47u3yj9H2xLf8lyAj8=          20151112                20180613          0         0\n",
      "60  +0MeUJe1cGb4O97gJoTPUPjiONQzi9BmxDuKRZn+E2o=          20170313                20170413          0         0\n",
      "    transaction_date  membership_expire_date  is_cancel\n",
      "0           20150809                20190412          0\n",
      "39          20170303                20170422          0\n",
      "40          20170323                20170423          0\n",
      "41          20151112                20180613          0\n",
      "60          20170313                20170413          0\n"
     ]
    }
   ],
   "source": [
    "#Prepare test data\n",
    "transactions = transactions[['msno','transaction_date','membership_expire_date', 'is_cancel']]\n",
    "\n",
    "#Match 'msno' in transactions and training\n",
    "pred_columns_merged = pd.merge(transactions, train, on='msno')\n",
    "\n",
    "\n",
    "#Remove duplicates of 'msno' in prediction columns\n",
    "pred_columns_dropped = pred_columns_merged.drop_duplicates(['msno'], keep='first')\n",
    "\n",
    "\n",
    "#Size pred_columns (samples) to equal y_train (lables)\n",
    "pred_columns_dropped = pred_columns_dropped.iloc[:,:970960]\n",
    "print(pred_columns_dropped.head())\n",
    "\n",
    "\n",
    "#Remove 'msno' so pred_columns_train has only numeric values\n",
    "pred_columns_train = pred_columns_dropped.iloc[:,1:4]\n",
    "print(pred_columns_train.head())\n",
    "\n",
    "#Prediction columns for testing\n",
    "p_columns_merged = pd.merge(transactions, test, on='msno')\n",
    "\n",
    "p_columns_dropped = p_columns_merged.drop_duplicates(['msno'], keep='first')\n",
    "print(p_columns_dropped.head())\n",
    "\n",
    "\n",
    "#Remove msno to have only numeric values\n",
    "pred_columns_test = p_columns_dropped.iloc[:,1:4]\n",
    "print(pred_columns_test.head())\n",
    "\n",
    "#print(pred_columns_train.count())\n",
    "#print(pred_columns_test.count())"
   ]
  },
  {
   "cell_type": "code",
   "execution_count": 62,
   "metadata": {},
   "outputs": [
    {
     "name": "stdout",
     "output_type": "stream",
     "text": [
      "Size of X_train: \n",
      "transaction_date          933578\n",
      "membership_expire_date    933578\n",
      "is_cancel                 933578\n",
      "dtype: int64\n",
      "Size of y_train: \n",
      "933578\n",
      "Size of y_test: \n",
      "907470\n",
      "Size of X_test:\n",
      "transaction_date          907470\n",
      "membership_expire_date    907470\n",
      "is_cancel                 907470\n",
      "dtype: int64\n",
      "Accuracy: 94.97%\n"
     ]
    }
   ],
   "source": [
    "#Split data into train and test sets\n",
    "\n",
    "X_train = pred_columns_train\n",
    "#y_train = train.is_churn.iloc[:933578]\n",
    "y_train = pred_columns_dropped.is_churn\n",
    "\n",
    "X_test = pred_columns_test\n",
    "#y_test = test.is_churn.iloc[:907470]\n",
    "y_test = p_columns_dropped.is_churn\n",
    "\n",
    "print(\"Size of X_train: \")\n",
    "print(X_train.count())\n",
    "\n",
    "print(\"Size of y_train: \")\n",
    "print(y_train.count())\n",
    "\n",
    "print(\"Size of y_test: \")\n",
    "print(y_test.count())\n",
    "\n",
    "print(\"Size of X_test:\")\n",
    "print(X_test.count())\n",
    "\n",
    "# fit model, no training data\n",
    "model = RandomForestRegressor()\n",
    "model.fit(X_train, y_train)\n",
    "\n",
    "# Make predicitons for test data\n",
    "y_pred = model.predict(X_test)\n",
    "predictions = [round(value) for value in y_pred]\n",
    "\n",
    "#Evaluate predictions\n",
    "\n",
    "accuracy = accuracy_score(y_test, predictions)\n",
    "\n",
    "print(\"Accuracy: %.2f%%\" % (accuracy * 100.0))\n",
    "\n"
   ]
  },
  {
   "cell_type": "code",
   "execution_count": 63,
   "metadata": {},
   "outputs": [
    {
     "name": "stdout",
     "output_type": "stream",
     "text": [
      "Size of X_train: \n",
      "2800734\n",
      "Size of y_train: \n",
      "933578\n",
      "Size of y_pred: \n",
      "907470\n",
      "Size of X_test:\n",
      "2722410\n"
     ]
    }
   ],
   "source": [
    "print(\"Size of X_train: \")\n",
    "print(X_train.size)\n",
    "\n",
    "print(\"Size of y_train: \")\n",
    "print(y_train.size)\n",
    "\n",
    "print(\"Size of y_pred: \")\n",
    "print(y_pred.size)\n",
    "\n",
    "print(\"Size of X_test:\")\n",
    "print(X_test.size)"
   ]
  },
  {
   "cell_type": "code",
   "execution_count": 69,
   "metadata": {},
   "outputs": [
    {
     "name": "stdout",
     "output_type": "stream",
     "text": [
      "                                            msno  is_churn\n",
      "0   ++lvGPJOinuin/8esghpnqdljm6NXS8m8Zwchc7gOeA=  0.000000\n",
      "39  +/GXNtXWQVfKrEDqYAzcSw2xSPYMKWNj22m+5XkVQZc=  0.095261\n",
      "40  +00PGzKTYqtnb65mPKPyeHXcZEwqiEzktpQksaaSC3c=  0.007255\n",
      "41  +0KcMm8JNCW08lTp3Lyz5Ger/47u3yj9H2xLf8lyAj8=  0.300000\n",
      "60  +0MeUJe1cGb4O97gJoTPUPjiONQzi9BmxDuKRZn+E2o=  0.039038\n"
     ]
    }
   ],
   "source": [
    "#Prepare submission file\n",
    "msno = p_columns_dropped.msno #PROBLEM: we cant submit anymore!\n",
    "    \n",
    "my_submission = pd.DataFrame({'msno': msno, 'is_churn': y_pred})\n",
    "cols = my_submission.columns.tolist()\n",
    "cols = cols[-1:] + cols[:-1]\n",
    "my_submission =my_submission[cols]\n",
    "print(my_submission.head())\n",
    "my_submission.count()\n",
    "\n",
    "#my_submission.to_csv('submission.csv', index=False)\n"
   ]
  },
  {
   "cell_type": "code",
   "execution_count": null,
   "metadata": {
    "scrolled": true
   },
   "outputs": [],
   "source": []
  },
  {
   "cell_type": "code",
   "execution_count": null,
   "metadata": {},
   "outputs": [],
   "source": []
  },
  {
   "cell_type": "code",
   "execution_count": null,
   "metadata": {},
   "outputs": [],
   "source": []
  }
 ],
 "metadata": {
  "kernelspec": {
   "display_name": "Python 3",
   "language": "python",
   "name": "python3"
  },
  "language_info": {
   "codemirror_mode": {
    "name": "ipython",
    "version": 3
   },
   "file_extension": ".py",
   "mimetype": "text/x-python",
   "name": "python",
   "nbconvert_exporter": "python",
   "pygments_lexer": "ipython3",
   "version": "3.6.4"
  }
 },
 "nbformat": 4,
 "nbformat_minor": 2
}
