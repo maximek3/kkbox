{
 "cells": [
  {
   "cell_type": "code",
   "execution_count": 8,
   "metadata": {},
   "outputs": [
    {
     "name": "stdout",
     "output_type": "stream",
     "text": [
      "Finished loading libraries and data.\n"
     ]
    }
   ],
   "source": [
    "#Load libraries and data\n",
    "import xgboost as xgb\n",
    "import numpy as np\n",
    "import pandas as pd\n",
    "from sklearn.model_selection import train_test_split\n",
    "from sklearn.metrics import accuracy_score\n",
    "from sklearn.ensemble import RandomForestRegressor\n",
    "\n",
    "train = pd.read_csv('data/train_v2.csv')\n",
    "test = pd.read_csv('data/sample_submission_v2.csv')\n",
    "transactions = pd.read_csv('data/transactions_v2.csv')\n",
    "members = pd.read_csv('data/members_v3.csv')\n",
    "print(\"Finished loading libraries and data.\")"
   ]
  },
  {
   "cell_type": "markdown",
   "metadata": {},
   "source": []
  },
  {
   "cell_type": "code",
   "execution_count": 9,
   "metadata": {},
   "outputs": [
    {
     "name": "stdout",
     "output_type": "stream",
     "text": [
      "msno                      933578\n",
      "transaction_date          933578\n",
      "membership_expire_date    933578\n",
      "is_cancel                 933578\n",
      "is_churn                  933578\n",
      "dtype: int64\n",
      "transaction_date          933578\n",
      "membership_expire_date    933578\n",
      "is_cancel                 933578\n",
      "dtype: int64\n",
      "transaction_date          907470\n",
      "membership_expire_date    907470\n",
      "is_cancel                 907470\n",
      "dtype: int64\n"
     ]
    }
   ],
   "source": [
    "#Prepare test data\n",
    "transactions = transactions[['msno','transaction_date','membership_expire_date', 'is_cancel']]\n",
    "\n",
    "#Match 'msno' in transactions and training\n",
    "pred_columns_merged = pd.merge(transactions, train, on='msno')\n",
    "\n",
    "#Remove duplicates of 'msno' in prediction columns\n",
    "pred_columns_dropped = pred_columns_merged.drop_duplicates(['msno'], keep='first')\n",
    "\n",
    "#Size pred_columns (samples) to equal y_train (lables)\n",
    "pred_columns_dropped = pred_columns_dropped.iloc[:,:970960]\n",
    "print(pred_columns_dropped.count())\n",
    "\n",
    "#Remove 'msno' so pred_columns_train has only numeric values\n",
    "pred_columns_train = pred_columns_dropped.iloc[:,1:4]\n",
    "\n",
    "#Prediction columns for testing\n",
    "p_test_columns_merged = pd.merge(transactions, test, on='msno')\n",
    "p_test_columns_dropped = p_columns_merged.drop_duplicates(['msno'], keep='first')\n",
    "\n",
    "\n",
    "#Remove msno to have only numeric values\n",
    "pred_columns_test = p_test_columns_dropped.iloc[:,1:4]\n",
    "\n",
    "print(pred_columns_train.count())\n",
    "print(pred_columns_test.count())"
   ]
  },
  {
   "cell_type": "code",
   "execution_count": 10,
   "metadata": {},
   "outputs": [
    {
     "name": "stdout",
     "output_type": "stream",
     "text": [
      "Size of X_train: \n",
      "transaction_date          933578\n",
      "membership_expire_date    933578\n",
      "is_cancel                 933578\n",
      "dtype: int64\n",
      "Size of y_train: \n",
      "933578\n",
      "Size of y_test: \n",
      "907470\n",
      "Size of X_test:\n",
      "transaction_date          907470\n",
      "membership_expire_date    907470\n",
      "is_cancel                 907470\n",
      "dtype: int64\n",
      "Accuracy: 99.66%\n"
     ]
    }
   ],
   "source": [
    "#Split data into train and test sets\n",
    "\n",
    "X_train = pred_columns_train\n",
    "X_test = pred_columns_test\n",
    "y_test = test.is_churn.iloc[:907470]\n",
    "y_train = train.is_churn.iloc[:933578]\n",
    "\n",
    "print(\"Size of X_train: \")\n",
    "print(X_train.count())\n",
    "\n",
    "print(\"Size of y_train: \")\n",
    "print(y_train.count())\n",
    "\n",
    "print(\"Size of y_test: \")\n",
    "print(y_test.count())\n",
    "\n",
    "print(\"Size of X_test:\")\n",
    "print(X_test.count())\n",
    "\n",
    "# fit model, no training data\n",
    "model = RandomForestRegressor()\n",
    "model.fit(X_train, y_train)\n",
    "\n",
    "# Make predicitons for test data\n",
    "y_pred = model.predict(X_test)\n",
    "predictions = [round(value) for value in y_pred]\n",
    "\n",
    "#Evaluate predictions\n",
    "\n",
    "accuracy = accuracy_score(y_test, predictions)\n",
    "\n",
    "print(\"Accuracy: %.2f%%\" % (accuracy * 100.0))\n",
    "\n"
   ]
  },
  {
   "cell_type": "code",
   "execution_count": 11,
   "metadata": {},
   "outputs": [
    {
     "name": "stdout",
     "output_type": "stream",
     "text": [
      "Size of X_train: \n",
      "transaction_date          933578\n",
      "membership_expire_date    933578\n",
      "is_cancel                 933578\n",
      "dtype: int64\n",
      "Size of y_train: \n",
      "933578\n",
      "Size of y_pred: \n",
      "907470\n",
      "Size of X_test:\n",
      "transaction_date          907470\n",
      "membership_expire_date    907470\n",
      "is_cancel                 907470\n",
      "dtype: int64\n"
     ]
    }
   ],
   "source": []
  },
  {
   "cell_type": "code",
   "execution_count": 12,
   "metadata": {},
   "outputs": [
    {
     "name": "stdout",
     "output_type": "stream",
     "text": [
      "                                           msno  is_churn\n",
      "0  4n+fXlyJvfQnTeKXTWT507Ll4JVYGrOC8LHCfwBmPE4=  1.000000\n",
      "1  aNmbC1GvFUxQyQUidCVmfbQ0YeCuwkPzEdQ0RwWyeZM=  0.103463\n",
      "2  rFC9eSG/tMuzpre6cwcMLZHEYM89xY02qcz7HL4//jc=  0.086734\n",
      "3  WZ59dLyrQcE7ft06MZ5dj40BnlYQY7PHgg/54+HaCSE=  1.000000\n",
      "4  aky/Iv8hMp1/V/yQHLtaVuEmmAxkB5GuasQZePJ7NU4=  0.086095\n",
      "Hey\n"
     ]
    }
   ],
   "source": [
    "#Prepare submission file\n",
    "msno = test.msno.iloc[:907470]\n",
    "my_submission = pd.DataFrame({'msno': msno, 'is_churn': y_pred})\n",
    "\n",
    "#Changing order of columns\n",
    "cols = my_submission.columns.tolist()\n",
    "cols = cols[-1:] + cols[:-1]\n",
    "my_submission = my_submission[cols]\n",
    "\n",
    "\n",
    "#my_submission.to_csv('submission.csv', index=False)\n",
    "print(\"Submission file created.\")"
   ]
  },
  {
   "cell_type": "code",
   "execution_count": null,
   "metadata": {
    "scrolled": true
   },
   "outputs": [],
   "source": []
  },
  {
   "cell_type": "code",
   "execution_count": null,
   "metadata": {},
   "outputs": [],
   "source": []
  },
  {
   "cell_type": "code",
   "execution_count": null,
   "metadata": {},
   "outputs": [],
   "source": []
  },
  {
   "cell_type": "code",
   "execution_count": null,
   "metadata": {},
   "outputs": [],
   "source": []
  }
 ],
 "metadata": {
  "kernelspec": {
   "display_name": "Python 3",
   "language": "python",
   "name": "python3"
  },
  "language_info": {
   "codemirror_mode": {
    "name": "ipython",
    "version": 3
   },
   "file_extension": ".py",
   "mimetype": "text/x-python",
   "name": "python",
   "nbconvert_exporter": "python",
   "pygments_lexer": "ipython3",
   "version": "3.6.4"
  }
 },
 "nbformat": 4,
 "nbformat_minor": 2
}
