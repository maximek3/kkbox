{
 "cells": [
  {
   "cell_type": "markdown",
   "metadata": {},
   "source": [
    "This Python Notebook generates features for \"transactions_v2.csv\" and exports a file into a folder called data \"final_transactions\". \n",
    "In this notebook, more changes to \"transactions_v2\" can be made. \n",
    "In the notebook \"algorithm_solution\" load \"final_transactions\" in."
   ]
  },
  {
   "cell_type": "code",
   "execution_count": 15,
   "metadata": {},
   "outputs": [],
   "source": [
    "#Import the relevant libraries\n",
    "\n",
    "import pandas as pd\n",
    "import numpy as np\n",
    "import matplotlib.pyplot as plt\n",
    "import mpld3\n",
    "import seaborn as sns\n",
    "import matplotlib.dates as mdates\n",
    "import time\n",
    "from datetime import datetime\n",
    "from pandas.lib import Timestamp\n",
    "\n",
    "\n",
    "#Configure Panda\n",
    "pd.options.display.width = 200"
   ]
  },
  {
   "cell_type": "markdown",
   "metadata": {},
   "source": [
    "## 1. Data import and Feature Engineering"
   ]
  },
  {
   "cell_type": "code",
   "execution_count": 2,
   "metadata": {},
   "outputs": [],
   "source": [
    "#Load transactions\n",
    "transactions = pd.read_csv(\"data/transactions_v2.csv\")"
   ]
  },
  {
   "cell_type": "code",
   "execution_count": 5,
   "metadata": {},
   "outputs": [
    {
     "name": "stdout",
     "output_type": "stream",
     "text": [
      "Transactions:\n"
     ]
    },
    {
     "data": {
      "text/html": [
       "<div>\n",
       "<style scoped>\n",
       "    .dataframe tbody tr th:only-of-type {\n",
       "        vertical-align: middle;\n",
       "    }\n",
       "\n",
       "    .dataframe tbody tr th {\n",
       "        vertical-align: top;\n",
       "    }\n",
       "\n",
       "    .dataframe thead th {\n",
       "        text-align: right;\n",
       "    }\n",
       "</style>\n",
       "<table border=\"1\" class=\"dataframe\">\n",
       "  <thead>\n",
       "    <tr style=\"text-align: right;\">\n",
       "      <th></th>\n",
       "      <th>msno</th>\n",
       "      <th>payment_method_id</th>\n",
       "      <th>payment_plan_days</th>\n",
       "      <th>plan_list_price</th>\n",
       "      <th>actual_amount_paid</th>\n",
       "      <th>is_auto_renew</th>\n",
       "      <th>transaction_date</th>\n",
       "      <th>membership_expire_date</th>\n",
       "      <th>is_cancel</th>\n",
       "    </tr>\n",
       "  </thead>\n",
       "  <tbody>\n",
       "    <tr>\n",
       "      <th>0</th>\n",
       "      <td>++6eU4LsQ3UQ20ILS7d99XK8WbiVgbyYL4FUgzZR134=</td>\n",
       "      <td>32</td>\n",
       "      <td>90</td>\n",
       "      <td>298</td>\n",
       "      <td>298</td>\n",
       "      <td>0</td>\n",
       "      <td>20170131</td>\n",
       "      <td>20170504</td>\n",
       "      <td>0</td>\n",
       "    </tr>\n",
       "    <tr>\n",
       "      <th>1</th>\n",
       "      <td>++lvGPJOinuin/8esghpnqdljm6NXS8m8Zwchc7gOeA=</td>\n",
       "      <td>41</td>\n",
       "      <td>30</td>\n",
       "      <td>149</td>\n",
       "      <td>149</td>\n",
       "      <td>1</td>\n",
       "      <td>20150809</td>\n",
       "      <td>20190412</td>\n",
       "      <td>0</td>\n",
       "    </tr>\n",
       "    <tr>\n",
       "      <th>2</th>\n",
       "      <td>+/GXNtXWQVfKrEDqYAzcSw2xSPYMKWNj22m+5XkVQZc=</td>\n",
       "      <td>36</td>\n",
       "      <td>30</td>\n",
       "      <td>180</td>\n",
       "      <td>180</td>\n",
       "      <td>1</td>\n",
       "      <td>20170303</td>\n",
       "      <td>20170422</td>\n",
       "      <td>0</td>\n",
       "    </tr>\n",
       "    <tr>\n",
       "      <th>3</th>\n",
       "      <td>+/w1UrZwyka4C9oNH3+Q8fUf3fD8R3EwWrx57ODIsqk=</td>\n",
       "      <td>36</td>\n",
       "      <td>30</td>\n",
       "      <td>180</td>\n",
       "      <td>180</td>\n",
       "      <td>1</td>\n",
       "      <td>20170329</td>\n",
       "      <td>20170331</td>\n",
       "      <td>1</td>\n",
       "    </tr>\n",
       "    <tr>\n",
       "      <th>4</th>\n",
       "      <td>+00PGzKTYqtnb65mPKPyeHXcZEwqiEzktpQksaaSC3c=</td>\n",
       "      <td>41</td>\n",
       "      <td>30</td>\n",
       "      <td>99</td>\n",
       "      <td>99</td>\n",
       "      <td>1</td>\n",
       "      <td>20170323</td>\n",
       "      <td>20170423</td>\n",
       "      <td>0</td>\n",
       "    </tr>\n",
       "  </tbody>\n",
       "</table>\n",
       "</div>"
      ],
      "text/plain": [
       "                                           msno  payment_method_id  payment_plan_days  plan_list_price  actual_amount_paid  is_auto_renew  transaction_date  membership_expire_date  is_cancel\n",
       "0  ++6eU4LsQ3UQ20ILS7d99XK8WbiVgbyYL4FUgzZR134=                 32                 90              298                 298              0          20170131                20170504          0\n",
       "1  ++lvGPJOinuin/8esghpnqdljm6NXS8m8Zwchc7gOeA=                 41                 30              149                 149              1          20150809                20190412          0\n",
       "2  +/GXNtXWQVfKrEDqYAzcSw2xSPYMKWNj22m+5XkVQZc=                 36                 30              180                 180              1          20170303                20170422          0\n",
       "3  +/w1UrZwyka4C9oNH3+Q8fUf3fD8R3EwWrx57ODIsqk=                 36                 30              180                 180              1          20170329                20170331          1\n",
       "4  +00PGzKTYqtnb65mPKPyeHXcZEwqiEzktpQksaaSC3c=                 41                 30               99                  99              1          20170323                20170423          0"
      ]
     },
     "execution_count": 5,
     "metadata": {},
     "output_type": "execute_result"
    }
   ],
   "source": [
    "#Look at the first values in transactions:\n",
    "print(\"Transactions:\")\n",
    "transactions.head()"
   ]
  },
  {
   "cell_type": "code",
   "execution_count": 6,
   "metadata": {},
   "outputs": [
    {
     "name": "stdout",
     "output_type": "stream",
     "text": [
      "Number of rows & columns \"TRANSACTIONS\":  (1431009, 9)\n"
     ]
    }
   ],
   "source": [
    "print('Number of rows & columns \"TRANSACTIONS\": ', transactions.shape)"
   ]
  },
  {
   "cell_type": "markdown",
   "metadata": {},
   "source": [
    "### 1.1. Feature 0. Feature computed as the difference between the \"plan price\" and \"amount paid\""
   ]
  },
  {
   "cell_type": "code",
   "execution_count": 7,
   "metadata": {},
   "outputs": [
    {
     "data": {
      "text/html": [
       "<div>\n",
       "<style scoped>\n",
       "    .dataframe tbody tr th:only-of-type {\n",
       "        vertical-align: middle;\n",
       "    }\n",
       "\n",
       "    .dataframe tbody tr th {\n",
       "        vertical-align: top;\n",
       "    }\n",
       "\n",
       "    .dataframe thead th {\n",
       "        text-align: right;\n",
       "    }\n",
       "</style>\n",
       "<table border=\"1\" class=\"dataframe\">\n",
       "  <thead>\n",
       "    <tr style=\"text-align: right;\">\n",
       "      <th></th>\n",
       "      <th>msno</th>\n",
       "      <th>payment_method_id</th>\n",
       "      <th>payment_plan_days</th>\n",
       "      <th>plan_list_price</th>\n",
       "      <th>actual_amount_paid</th>\n",
       "      <th>is_auto_renew</th>\n",
       "      <th>transaction_date</th>\n",
       "      <th>membership_expire_date</th>\n",
       "      <th>is_cancel</th>\n",
       "      <th>diff_plan_actual</th>\n",
       "    </tr>\n",
       "  </thead>\n",
       "  <tbody>\n",
       "    <tr>\n",
       "      <th>0</th>\n",
       "      <td>++6eU4LsQ3UQ20ILS7d99XK8WbiVgbyYL4FUgzZR134=</td>\n",
       "      <td>32</td>\n",
       "      <td>90</td>\n",
       "      <td>298</td>\n",
       "      <td>298</td>\n",
       "      <td>0</td>\n",
       "      <td>20170131</td>\n",
       "      <td>20170504</td>\n",
       "      <td>0</td>\n",
       "      <td>0</td>\n",
       "    </tr>\n",
       "    <tr>\n",
       "      <th>1</th>\n",
       "      <td>++lvGPJOinuin/8esghpnqdljm6NXS8m8Zwchc7gOeA=</td>\n",
       "      <td>41</td>\n",
       "      <td>30</td>\n",
       "      <td>149</td>\n",
       "      <td>149</td>\n",
       "      <td>1</td>\n",
       "      <td>20150809</td>\n",
       "      <td>20190412</td>\n",
       "      <td>0</td>\n",
       "      <td>0</td>\n",
       "    </tr>\n",
       "    <tr>\n",
       "      <th>2</th>\n",
       "      <td>+/GXNtXWQVfKrEDqYAzcSw2xSPYMKWNj22m+5XkVQZc=</td>\n",
       "      <td>36</td>\n",
       "      <td>30</td>\n",
       "      <td>180</td>\n",
       "      <td>180</td>\n",
       "      <td>1</td>\n",
       "      <td>20170303</td>\n",
       "      <td>20170422</td>\n",
       "      <td>0</td>\n",
       "      <td>0</td>\n",
       "    </tr>\n",
       "    <tr>\n",
       "      <th>3</th>\n",
       "      <td>+/w1UrZwyka4C9oNH3+Q8fUf3fD8R3EwWrx57ODIsqk=</td>\n",
       "      <td>36</td>\n",
       "      <td>30</td>\n",
       "      <td>180</td>\n",
       "      <td>180</td>\n",
       "      <td>1</td>\n",
       "      <td>20170329</td>\n",
       "      <td>20170331</td>\n",
       "      <td>1</td>\n",
       "      <td>0</td>\n",
       "    </tr>\n",
       "    <tr>\n",
       "      <th>4</th>\n",
       "      <td>+00PGzKTYqtnb65mPKPyeHXcZEwqiEzktpQksaaSC3c=</td>\n",
       "      <td>41</td>\n",
       "      <td>30</td>\n",
       "      <td>99</td>\n",
       "      <td>99</td>\n",
       "      <td>1</td>\n",
       "      <td>20170323</td>\n",
       "      <td>20170423</td>\n",
       "      <td>0</td>\n",
       "      <td>0</td>\n",
       "    </tr>\n",
       "  </tbody>\n",
       "</table>\n",
       "</div>"
      ],
      "text/plain": [
       "                                           msno  payment_method_id  payment_plan_days  plan_list_price  actual_amount_paid  is_auto_renew  transaction_date  membership_expire_date  is_cancel  \\\n",
       "0  ++6eU4LsQ3UQ20ILS7d99XK8WbiVgbyYL4FUgzZR134=                 32                 90              298                 298              0          20170131                20170504          0   \n",
       "1  ++lvGPJOinuin/8esghpnqdljm6NXS8m8Zwchc7gOeA=                 41                 30              149                 149              1          20150809                20190412          0   \n",
       "2  +/GXNtXWQVfKrEDqYAzcSw2xSPYMKWNj22m+5XkVQZc=                 36                 30              180                 180              1          20170303                20170422          0   \n",
       "3  +/w1UrZwyka4C9oNH3+Q8fUf3fD8R3EwWrx57ODIsqk=                 36                 30              180                 180              1          20170329                20170331          1   \n",
       "4  +00PGzKTYqtnb65mPKPyeHXcZEwqiEzktpQksaaSC3c=                 41                 30               99                  99              1          20170323                20170423          0   \n",
       "\n",
       "   diff_plan_actual  \n",
       "0                 0  \n",
       "1                 0  \n",
       "2                 0  \n",
       "3                 0  \n",
       "4                 0  "
      ]
     },
     "execution_count": 7,
     "metadata": {},
     "output_type": "execute_result"
    }
   ],
   "source": [
    "transactions['diff_plan_actual'] = transactions['plan_list_price'] - transactions['actual_amount_paid']\n",
    "transactions.head()"
   ]
  },
  {
   "cell_type": "code",
   "execution_count": 8,
   "metadata": {},
   "outputs": [
    {
     "name": "stdout",
     "output_type": "stream",
     "text": [
      "Number of rows & columns \"TRANSACTIONS\":  (1431009, 10)\n"
     ]
    }
   ],
   "source": [
    "print('Number of rows & columns \"TRANSACTIONS\": ', transactions.shape)"
   ]
  },
  {
   "cell_type": "markdown",
   "metadata": {},
   "source": [
    "### 1.2. Feature 1: discount\n",
    "I create a discount column to see how much discount was offered to the customer."
   ]
  },
  {
   "cell_type": "code",
   "execution_count": 9,
   "metadata": {},
   "outputs": [
    {
     "data": {
      "text/plain": [
       "array([    0,   180,    30,  -149,   149,    50,  -119,    20,    99,\n",
       "          45,    -1,  -129,  -596,   129,   120, -1788,  -100, -1200,\n",
       "        -447,     1,  1599,    10,     8,   -90,    -3,  -894,   894])"
      ]
     },
     "execution_count": 9,
     "metadata": {},
     "output_type": "execute_result"
    }
   ],
   "source": [
    "transactions['discount'] = transactions['plan_list_price'] - transactions['actual_amount_paid']\n",
    "\n",
    "#transactions['discount'].unique() #Find the unique elements of an array/dataset"
   ]
  },
  {
   "cell_type": "code",
   "execution_count": 10,
   "metadata": {},
   "outputs": [
    {
     "name": "stdout",
     "output_type": "stream",
     "text": [
      "Number of rows & columns \"TRANSACTIONS\":  (1431009, 11)\n"
     ]
    }
   ],
   "source": [
    "print('Number of rows & columns \"TRANSACTIONS\": ', transactions.shape)"
   ]
  },
  {
   "cell_type": "markdown",
   "metadata": {},
   "source": [
    "## 1.3. Feature 2 : is_discount\n",
    "Feature to check whether the customer has availed any discount or not"
   ]
  },
  {
   "cell_type": "code",
   "execution_count": 11,
   "metadata": {},
   "outputs": [
    {
     "name": "stdout",
     "output_type": "stream",
     "text": [
      "0    0\n",
      "1    0\n",
      "2    0\n",
      "3    0\n",
      "4    0\n",
      "Name: is_discount, dtype: int64\n",
      "[0 1]\n"
     ]
    }
   ],
   "source": [
    "transactions['is_discount'] = transactions.discount.apply(lambda x: 1 if x > 0 else 0)\n",
    "#print(transactions['is_discount'].unique())"
   ]
  },
  {
   "cell_type": "code",
   "execution_count": 12,
   "metadata": {},
   "outputs": [
    {
     "name": "stdout",
     "output_type": "stream",
     "text": [
      "Number of rows & columns \"TRANSACTIONS\":  (1431009, 12)\n"
     ]
    }
   ],
   "source": [
    "print('Number of rows & columns \"TRANSACTIONS\": ', transactions.shape)"
   ]
  },
  {
   "cell_type": "markdown",
   "metadata": {},
   "source": [
    "### 1.4. Feature 3: membership duration\n",
    "Difference between transaction_date and membership_expire_date. We find the difference in terms of days and months. We keep this result as integer."
   ]
  },
  {
   "cell_type": "code",
   "execution_count": 17,
   "metadata": {},
   "outputs": [],
   "source": [
    "## NOT DONE YET!"
   ]
  },
  {
   "cell_type": "markdown",
   "metadata": {},
   "source": [
    "### 1.5. Feature Engineering: \"trans1\". Hot-encode \"payment_method_id\" feature and test algorithm"
   ]
  },
  {
   "cell_type": "code",
   "execution_count": 18,
   "metadata": {},
   "outputs": [
    {
     "data": {
      "text/html": [
       "<div>\n",
       "<style scoped>\n",
       "    .dataframe tbody tr th:only-of-type {\n",
       "        vertical-align: middle;\n",
       "    }\n",
       "\n",
       "    .dataframe tbody tr th {\n",
       "        vertical-align: top;\n",
       "    }\n",
       "\n",
       "    .dataframe thead th {\n",
       "        text-align: right;\n",
       "    }\n",
       "</style>\n",
       "<table border=\"1\" class=\"dataframe\">\n",
       "  <thead>\n",
       "    <tr style=\"text-align: right;\">\n",
       "      <th></th>\n",
       "      <th>msno</th>\n",
       "      <th>payment_plan_days</th>\n",
       "      <th>plan_list_price</th>\n",
       "      <th>actual_amount_paid</th>\n",
       "      <th>is_auto_renew</th>\n",
       "      <th>transaction_date</th>\n",
       "      <th>membership_expire_date</th>\n",
       "      <th>is_cancel</th>\n",
       "      <th>diff_plan_actual</th>\n",
       "      <th>discount</th>\n",
       "      <th>...</th>\n",
       "      <th>payment_method_id_32</th>\n",
       "      <th>payment_method_id_33</th>\n",
       "      <th>payment_method_id_34</th>\n",
       "      <th>payment_method_id_35</th>\n",
       "      <th>payment_method_id_36</th>\n",
       "      <th>payment_method_id_37</th>\n",
       "      <th>payment_method_id_38</th>\n",
       "      <th>payment_method_id_39</th>\n",
       "      <th>payment_method_id_40</th>\n",
       "      <th>payment_method_id_41</th>\n",
       "    </tr>\n",
       "  </thead>\n",
       "  <tbody>\n",
       "    <tr>\n",
       "      <th>0</th>\n",
       "      <td>++6eU4LsQ3UQ20ILS7d99XK8WbiVgbyYL4FUgzZR134=</td>\n",
       "      <td>90</td>\n",
       "      <td>298</td>\n",
       "      <td>298</td>\n",
       "      <td>0</td>\n",
       "      <td>20170131</td>\n",
       "      <td>20170504</td>\n",
       "      <td>0</td>\n",
       "      <td>0</td>\n",
       "      <td>0</td>\n",
       "      <td>...</td>\n",
       "      <td>1</td>\n",
       "      <td>0</td>\n",
       "      <td>0</td>\n",
       "      <td>0</td>\n",
       "      <td>0</td>\n",
       "      <td>0</td>\n",
       "      <td>0</td>\n",
       "      <td>0</td>\n",
       "      <td>0</td>\n",
       "      <td>0</td>\n",
       "    </tr>\n",
       "    <tr>\n",
       "      <th>1</th>\n",
       "      <td>++lvGPJOinuin/8esghpnqdljm6NXS8m8Zwchc7gOeA=</td>\n",
       "      <td>30</td>\n",
       "      <td>149</td>\n",
       "      <td>149</td>\n",
       "      <td>1</td>\n",
       "      <td>20150809</td>\n",
       "      <td>20190412</td>\n",
       "      <td>0</td>\n",
       "      <td>0</td>\n",
       "      <td>0</td>\n",
       "      <td>...</td>\n",
       "      <td>0</td>\n",
       "      <td>0</td>\n",
       "      <td>0</td>\n",
       "      <td>0</td>\n",
       "      <td>0</td>\n",
       "      <td>0</td>\n",
       "      <td>0</td>\n",
       "      <td>0</td>\n",
       "      <td>0</td>\n",
       "      <td>1</td>\n",
       "    </tr>\n",
       "    <tr>\n",
       "      <th>2</th>\n",
       "      <td>+/GXNtXWQVfKrEDqYAzcSw2xSPYMKWNj22m+5XkVQZc=</td>\n",
       "      <td>30</td>\n",
       "      <td>180</td>\n",
       "      <td>180</td>\n",
       "      <td>1</td>\n",
       "      <td>20170303</td>\n",
       "      <td>20170422</td>\n",
       "      <td>0</td>\n",
       "      <td>0</td>\n",
       "      <td>0</td>\n",
       "      <td>...</td>\n",
       "      <td>0</td>\n",
       "      <td>0</td>\n",
       "      <td>0</td>\n",
       "      <td>0</td>\n",
       "      <td>1</td>\n",
       "      <td>0</td>\n",
       "      <td>0</td>\n",
       "      <td>0</td>\n",
       "      <td>0</td>\n",
       "      <td>0</td>\n",
       "    </tr>\n",
       "    <tr>\n",
       "      <th>3</th>\n",
       "      <td>+/w1UrZwyka4C9oNH3+Q8fUf3fD8R3EwWrx57ODIsqk=</td>\n",
       "      <td>30</td>\n",
       "      <td>180</td>\n",
       "      <td>180</td>\n",
       "      <td>1</td>\n",
       "      <td>20170329</td>\n",
       "      <td>20170331</td>\n",
       "      <td>1</td>\n",
       "      <td>0</td>\n",
       "      <td>0</td>\n",
       "      <td>...</td>\n",
       "      <td>0</td>\n",
       "      <td>0</td>\n",
       "      <td>0</td>\n",
       "      <td>0</td>\n",
       "      <td>1</td>\n",
       "      <td>0</td>\n",
       "      <td>0</td>\n",
       "      <td>0</td>\n",
       "      <td>0</td>\n",
       "      <td>0</td>\n",
       "    </tr>\n",
       "    <tr>\n",
       "      <th>4</th>\n",
       "      <td>+00PGzKTYqtnb65mPKPyeHXcZEwqiEzktpQksaaSC3c=</td>\n",
       "      <td>30</td>\n",
       "      <td>99</td>\n",
       "      <td>99</td>\n",
       "      <td>1</td>\n",
       "      <td>20170323</td>\n",
       "      <td>20170423</td>\n",
       "      <td>0</td>\n",
       "      <td>0</td>\n",
       "      <td>0</td>\n",
       "      <td>...</td>\n",
       "      <td>0</td>\n",
       "      <td>0</td>\n",
       "      <td>0</td>\n",
       "      <td>0</td>\n",
       "      <td>0</td>\n",
       "      <td>0</td>\n",
       "      <td>0</td>\n",
       "      <td>0</td>\n",
       "      <td>0</td>\n",
       "      <td>1</td>\n",
       "    </tr>\n",
       "  </tbody>\n",
       "</table>\n",
       "<p>5 rows × 48 columns</p>\n",
       "</div>"
      ],
      "text/plain": [
       "                                           msno  payment_plan_days  plan_list_price  actual_amount_paid  is_auto_renew  transaction_date  membership_expire_date  is_cancel  diff_plan_actual  \\\n",
       "0  ++6eU4LsQ3UQ20ILS7d99XK8WbiVgbyYL4FUgzZR134=                 90              298                 298              0          20170131                20170504          0                 0   \n",
       "1  ++lvGPJOinuin/8esghpnqdljm6NXS8m8Zwchc7gOeA=                 30              149                 149              1          20150809                20190412          0                 0   \n",
       "2  +/GXNtXWQVfKrEDqYAzcSw2xSPYMKWNj22m+5XkVQZc=                 30              180                 180              1          20170303                20170422          0                 0   \n",
       "3  +/w1UrZwyka4C9oNH3+Q8fUf3fD8R3EwWrx57ODIsqk=                 30              180                 180              1          20170329                20170331          1                 0   \n",
       "4  +00PGzKTYqtnb65mPKPyeHXcZEwqiEzktpQksaaSC3c=                 30               99                  99              1          20170323                20170423          0                 0   \n",
       "\n",
       "   discount          ...           payment_method_id_32  payment_method_id_33  payment_method_id_34  payment_method_id_35  payment_method_id_36  payment_method_id_37  payment_method_id_38  \\\n",
       "0         0          ...                              1                     0                     0                     0                     0                     0                     0   \n",
       "1         0          ...                              0                     0                     0                     0                     0                     0                     0   \n",
       "2         0          ...                              0                     0                     0                     0                     1                     0                     0   \n",
       "3         0          ...                              0                     0                     0                     0                     1                     0                     0   \n",
       "4         0          ...                              0                     0                     0                     0                     0                     0                     0   \n",
       "\n",
       "   payment_method_id_39  payment_method_id_40  payment_method_id_41  \n",
       "0                     0                     0                     0  \n",
       "1                     0                     0                     1  \n",
       "2                     0                     0                     0  \n",
       "3                     0                     0                     0  \n",
       "4                     0                     0                     1  \n",
       "\n",
       "[5 rows x 48 columns]"
      ]
     },
     "execution_count": 18,
     "metadata": {},
     "output_type": "execute_result"
    }
   ],
   "source": [
    "#One-hot encode the payment_method_id. \n",
    "#Instead of having a variable called payment_method_id with values from 2-41, the alorithm performs better with 0's and 1's -> onehot encoding\n",
    "\n",
    "trans1 = transactions\n",
    "\n",
    "#One-hot encode payment_method_id and save it into payment_method_id_encode\n",
    "payment_method_id_encode = pd.get_dummies(trans1['payment_method_id'], prefix='payment_method_id')\n",
    "\n",
    "#Drop variable payment_method_id in trans1, as it is no longer needed\n",
    "trans1 = trans1.drop('payment_method_id', axis=1)\n",
    "\n",
    "#Join the encoded payment_method_id_encode\n",
    "trans1 = trans1.join(payment_method_id_encode)\n",
    "\n",
    "trans1.head()"
   ]
  },
  {
   "cell_type": "code",
   "execution_count": 21,
   "metadata": {},
   "outputs": [
    {
     "name": "stdout",
     "output_type": "stream",
     "text": [
      "Number of rows & columns \"TRANSACTIONS\":  (1431009, 12)\n",
      "Number of rows & columns \"TRANSACTIONS\":  (1431009, 48)\n"
     ]
    }
   ],
   "source": [
    "print('Number of rows & columns \"TRANSACTIONS\": ', transactions.shape)\n",
    "print('Number of rows & columns \"TRANSACTIONS\": ', trans1.shape)\n",
    "#Same number of rows!"
   ]
  },
  {
   "cell_type": "markdown",
   "metadata": {},
   "source": [
    "### 1.6. Check dataset"
   ]
  },
  {
   "cell_type": "code",
   "execution_count": 23,
   "metadata": {},
   "outputs": [
    {
     "name": "stdout",
     "output_type": "stream",
     "text": [
      "48\n"
     ]
    },
    {
     "data": {
      "text/plain": [
       "Index(['msno', 'payment_plan_days', 'plan_list_price', 'actual_amount_paid', 'is_auto_renew', 'transaction_date', 'membership_expire_date', 'is_cancel', 'diff_plan_actual', 'discount', 'is_discount',\n",
       "       'payment_method_id_2', 'payment_method_id_3', 'payment_method_id_5', 'payment_method_id_6', 'payment_method_id_8', 'payment_method_id_10', 'payment_method_id_11', 'payment_method_id_12',\n",
       "       'payment_method_id_13', 'payment_method_id_14', 'payment_method_id_15', 'payment_method_id_16', 'payment_method_id_17', 'payment_method_id_18', 'payment_method_id_19', 'payment_method_id_20',\n",
       "       'payment_method_id_21', 'payment_method_id_22', 'payment_method_id_23', 'payment_method_id_24', 'payment_method_id_25', 'payment_method_id_26', 'payment_method_id_27', 'payment_method_id_28',\n",
       "       'payment_method_id_29', 'payment_method_id_30', 'payment_method_id_31', 'payment_method_id_32', 'payment_method_id_33', 'payment_method_id_34', 'payment_method_id_35', 'payment_method_id_36',\n",
       "       'payment_method_id_37', 'payment_method_id_38', 'payment_method_id_39', 'payment_method_id_40', 'payment_method_id_41'],\n",
       "      dtype='object')"
      ]
     },
     "execution_count": 23,
     "metadata": {},
     "output_type": "execute_result"
    }
   ],
   "source": [
    "#Check columns\n",
    "print(len(trans1.columns))\n",
    "trans1.columns"
   ]
  },
  {
   "cell_type": "markdown",
   "metadata": {},
   "source": [
    "#### 1.6.1. Check if missing values"
   ]
  },
  {
   "cell_type": "code",
   "execution_count": 24,
   "metadata": {},
   "outputs": [
    {
     "data": {
      "text/plain": [
       "msno                      0\n",
       "payment_plan_days         0\n",
       "plan_list_price           0\n",
       "actual_amount_paid        0\n",
       "is_auto_renew             0\n",
       "transaction_date          0\n",
       "membership_expire_date    0\n",
       "is_cancel                 0\n",
       "diff_plan_actual          0\n",
       "discount                  0\n",
       "is_discount               0\n",
       "payment_method_id_2       0\n",
       "payment_method_id_3       0\n",
       "payment_method_id_5       0\n",
       "payment_method_id_6       0\n",
       "payment_method_id_8       0\n",
       "payment_method_id_10      0\n",
       "payment_method_id_11      0\n",
       "payment_method_id_12      0\n",
       "payment_method_id_13      0\n",
       "payment_method_id_14      0\n",
       "payment_method_id_15      0\n",
       "payment_method_id_16      0\n",
       "payment_method_id_17      0\n",
       "payment_method_id_18      0\n",
       "payment_method_id_19      0\n",
       "payment_method_id_20      0\n",
       "payment_method_id_21      0\n",
       "payment_method_id_22      0\n",
       "payment_method_id_23      0\n",
       "payment_method_id_24      0\n",
       "payment_method_id_25      0\n",
       "payment_method_id_26      0\n",
       "payment_method_id_27      0\n",
       "payment_method_id_28      0\n",
       "payment_method_id_29      0\n",
       "payment_method_id_30      0\n",
       "payment_method_id_31      0\n",
       "payment_method_id_32      0\n",
       "payment_method_id_33      0\n",
       "payment_method_id_34      0\n",
       "payment_method_id_35      0\n",
       "payment_method_id_36      0\n",
       "payment_method_id_37      0\n",
       "payment_method_id_38      0\n",
       "payment_method_id_39      0\n",
       "payment_method_id_40      0\n",
       "payment_method_id_41      0\n",
       "dtype: int64"
      ]
     },
     "execution_count": 24,
     "metadata": {},
     "output_type": "execute_result"
    }
   ],
   "source": [
    "trans1.isnull().sum()\n",
    "#We should get 0!"
   ]
  },
  {
   "cell_type": "markdown",
   "metadata": {},
   "source": [
    "## 2. Export file\n",
    "Recall, it can take up to a minute!"
   ]
  },
  {
   "cell_type": "code",
   "execution_count": 25,
   "metadata": {},
   "outputs": [
    {
     "name": "stdout",
     "output_type": "stream",
     "text": [
      "Done!\n"
     ]
    }
   ],
   "source": [
    "trans1.to_csv('data/final_transactions.csv', index=False)\n",
    "print('Done!')"
   ]
  },
  {
   "cell_type": "code",
   "execution_count": null,
   "metadata": {},
   "outputs": [],
   "source": []
  }
 ],
 "metadata": {
  "kernelspec": {
   "display_name": "Python 3",
   "language": "python",
   "name": "python3"
  },
  "language_info": {
   "codemirror_mode": {
    "name": "ipython",
    "version": 3
   },
   "file_extension": ".py",
   "mimetype": "text/x-python",
   "name": "python",
   "nbconvert_exporter": "python",
   "pygments_lexer": "ipython3",
   "version": "3.6.4"
  }
 },
 "nbformat": 4,
 "nbformat_minor": 2
}
